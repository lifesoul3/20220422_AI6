{
 "cells": [
  {
   "cell_type": "code",
   "execution_count": 7,
   "id": "aea8ae11-56d6-4305-a9c7-caf41cb6c6b6",
   "metadata": {},
   "outputs": [
    {
     "name": "stdout",
     "output_type": "stream",
     "text": [
      "1.4.4\n",
      "0.12.0\n"
     ]
    }
   ],
   "source": [
    "# 모듈 임포트\n",
    "import pandas as pd\n",
    "import seaborn as sns\n",
    "print(pd.__version__)\n",
    "print(sns.__version__)"
   ]
  },
  {
   "cell_type": "code",
   "execution_count": 8,
   "id": "57099d47-1899-45f5-b6b5-39d68e099905",
   "metadata": {},
   "outputs": [
    {
     "name": "stdout",
     "output_type": "stream",
     "text": [
      "2.10.0\n"
     ]
    }
   ],
   "source": [
    "import tensorflow as tf\n",
    "from tensorflow import keras\n",
    "from tensorflow.keras import layers\n",
    "print(tf.__version__)"
   ]
  },
  {
   "cell_type": "code",
   "execution_count": 9,
   "id": "7c5e29c4-0e63-4fab-884d-4e43f2e3a0b1",
   "metadata": {},
   "outputs": [
    {
     "data": {
      "text/plain": [
       "(398, 9)"
      ]
     },
     "execution_count": 9,
     "metadata": {},
     "output_type": "execute_result"
    }
   ],
   "source": [
    "#mpg 데이터 로드\n",
    "dataset=sns.load_dataset(\"mpg\")\n",
    "dataset.shape"
   ]
  },
  {
   "cell_type": "code",
   "execution_count": 10,
   "id": "b22e03f4-ef15-4b09-b32c-2ef8e3333829",
   "metadata": {},
   "outputs": [
    {
     "data": {
      "text/plain": [
       "mpg             0\n",
       "cylinders       0\n",
       "displacement    0\n",
       "horsepower      6\n",
       "weight          0\n",
       "acceleration    0\n",
       "model_year      0\n",
       "origin          0\n",
       "name            0\n",
       "dtype: int64"
      ]
     },
     "execution_count": 10,
     "metadata": {},
     "output_type": "execute_result"
    }
   ],
   "source": [
    "# 결측치 처리\n",
    "dataset.isnull().sum()"
   ]
  },
  {
   "cell_type": "code",
   "execution_count": 11,
   "id": "f844c4df-637e-4891-81aa-cf368d832a3a",
   "metadata": {},
   "outputs": [
    {
     "data": {
      "text/plain": [
       "mpg             0\n",
       "cylinders       0\n",
       "displacement    0\n",
       "horsepower      6\n",
       "weight          0\n",
       "acceleration    0\n",
       "model_year      0\n",
       "origin          0\n",
       "name            0\n",
       "dtype: int64"
      ]
     },
     "execution_count": 11,
     "metadata": {},
     "output_type": "execute_result"
    }
   ],
   "source": [
    "dataset.isna().sum()"
   ]
  },
  {
   "cell_type": "code",
   "execution_count": 12,
   "id": "caeed692-2f1e-43ef-bbf3-a729ce39cc2a",
   "metadata": {},
   "outputs": [
    {
     "data": {
      "text/plain": [
       "(392, 9)"
      ]
     },
     "execution_count": 12,
     "metadata": {},
     "output_type": "execute_result"
    }
   ],
   "source": [
    "#결측치 삭제\n",
    "dataset=dataset.dropna()\n",
    "dataset.shape"
   ]
  },
  {
   "cell_type": "code",
   "execution_count": 15,
   "id": "bff23572-3902-487e-bc53-c7b85805d4b8",
   "metadata": {},
   "outputs": [
    {
     "data": {
      "text/html": [
       "<div>\n",
       "<style scoped>\n",
       "    .dataframe tbody tr th:only-of-type {\n",
       "        vertical-align: middle;\n",
       "    }\n",
       "\n",
       "    .dataframe tbody tr th {\n",
       "        vertical-align: top;\n",
       "    }\n",
       "\n",
       "    .dataframe thead th {\n",
       "        text-align: right;\n",
       "    }\n",
       "</style>\n",
       "<table border=\"1\" class=\"dataframe\">\n",
       "  <thead>\n",
       "    <tr style=\"text-align: right;\">\n",
       "      <th></th>\n",
       "      <th>mpg</th>\n",
       "      <th>cylinders</th>\n",
       "      <th>displacement</th>\n",
       "      <th>horsepower</th>\n",
       "      <th>weight</th>\n",
       "      <th>acceleration</th>\n",
       "      <th>model_year</th>\n",
       "      <th>origin</th>\n",
       "      <th>name</th>\n",
       "    </tr>\n",
       "  </thead>\n",
       "  <tbody>\n",
       "    <tr>\n",
       "      <th>393</th>\n",
       "      <td>27.0</td>\n",
       "      <td>4</td>\n",
       "      <td>140.0</td>\n",
       "      <td>86.0</td>\n",
       "      <td>2790</td>\n",
       "      <td>15.6</td>\n",
       "      <td>82</td>\n",
       "      <td>usa</td>\n",
       "      <td>ford mustang gl</td>\n",
       "    </tr>\n",
       "    <tr>\n",
       "      <th>394</th>\n",
       "      <td>44.0</td>\n",
       "      <td>4</td>\n",
       "      <td>97.0</td>\n",
       "      <td>52.0</td>\n",
       "      <td>2130</td>\n",
       "      <td>24.6</td>\n",
       "      <td>82</td>\n",
       "      <td>europe</td>\n",
       "      <td>vw pickup</td>\n",
       "    </tr>\n",
       "    <tr>\n",
       "      <th>395</th>\n",
       "      <td>32.0</td>\n",
       "      <td>4</td>\n",
       "      <td>135.0</td>\n",
       "      <td>84.0</td>\n",
       "      <td>2295</td>\n",
       "      <td>11.6</td>\n",
       "      <td>82</td>\n",
       "      <td>usa</td>\n",
       "      <td>dodge rampage</td>\n",
       "    </tr>\n",
       "    <tr>\n",
       "      <th>396</th>\n",
       "      <td>28.0</td>\n",
       "      <td>4</td>\n",
       "      <td>120.0</td>\n",
       "      <td>79.0</td>\n",
       "      <td>2625</td>\n",
       "      <td>18.6</td>\n",
       "      <td>82</td>\n",
       "      <td>usa</td>\n",
       "      <td>ford ranger</td>\n",
       "    </tr>\n",
       "    <tr>\n",
       "      <th>397</th>\n",
       "      <td>31.0</td>\n",
       "      <td>4</td>\n",
       "      <td>119.0</td>\n",
       "      <td>82.0</td>\n",
       "      <td>2720</td>\n",
       "      <td>19.4</td>\n",
       "      <td>82</td>\n",
       "      <td>usa</td>\n",
       "      <td>chevy s-10</td>\n",
       "    </tr>\n",
       "  </tbody>\n",
       "</table>\n",
       "</div>"
      ],
      "text/plain": [
       "      mpg  cylinders  displacement  horsepower  weight  acceleration  \\\n",
       "393  27.0          4         140.0        86.0    2790          15.6   \n",
       "394  44.0          4          97.0        52.0    2130          24.6   \n",
       "395  32.0          4         135.0        84.0    2295          11.6   \n",
       "396  28.0          4         120.0        79.0    2625          18.6   \n",
       "397  31.0          4         119.0        82.0    2720          19.4   \n",
       "\n",
       "     model_year  origin             name  \n",
       "393          82     usa  ford mustang gl  \n",
       "394          82  europe        vw pickup  \n",
       "395          82     usa    dodge rampage  \n",
       "396          82     usa      ford ranger  \n",
       "397          82     usa       chevy s-10  "
      ]
     },
     "execution_count": 15,
     "metadata": {},
     "output_type": "execute_result"
    }
   ],
   "source": [
    "dataset.tail()"
   ]
  },
  {
   "cell_type": "code",
   "execution_count": 16,
   "id": "cee5aaee-8ebb-4505-b237-bd947d21237f",
   "metadata": {},
   "outputs": [
    {
     "data": {
      "text/plain": [
       "0      chevrolet chevelle malibu\n",
       "1              buick skylark 320\n",
       "2             plymouth satellite\n",
       "3                  amc rebel sst\n",
       "4                    ford torino\n",
       "                 ...            \n",
       "393              ford mustang gl\n",
       "394                    vw pickup\n",
       "395                dodge rampage\n",
       "396                  ford ranger\n",
       "397                   chevy s-10\n",
       "Name: name, Length: 392, dtype: object"
      ]
     },
     "execution_count": 16,
     "metadata": {},
     "output_type": "execute_result"
    }
   ],
   "source": [
    "# 문자열 데이터 처리\n",
    "# name 삭제\n",
    "dataset.pop(\"name\")"
   ]
  },
  {
   "cell_type": "code",
   "execution_count": 17,
   "id": "4f988678-dbd7-43a0-aa16-9a3834e5c7b7",
   "metadata": {},
   "outputs": [
    {
     "data": {
      "text/html": [
       "<div>\n",
       "<style scoped>\n",
       "    .dataframe tbody tr th:only-of-type {\n",
       "        vertical-align: middle;\n",
       "    }\n",
       "\n",
       "    .dataframe tbody tr th {\n",
       "        vertical-align: top;\n",
       "    }\n",
       "\n",
       "    .dataframe thead th {\n",
       "        text-align: right;\n",
       "    }\n",
       "</style>\n",
       "<table border=\"1\" class=\"dataframe\">\n",
       "  <thead>\n",
       "    <tr style=\"text-align: right;\">\n",
       "      <th></th>\n",
       "      <th>mpg</th>\n",
       "      <th>cylinders</th>\n",
       "      <th>displacement</th>\n",
       "      <th>horsepower</th>\n",
       "      <th>weight</th>\n",
       "      <th>acceleration</th>\n",
       "      <th>model_year</th>\n",
       "      <th>origin</th>\n",
       "    </tr>\n",
       "  </thead>\n",
       "  <tbody>\n",
       "    <tr>\n",
       "      <th>0</th>\n",
       "      <td>18.0</td>\n",
       "      <td>8</td>\n",
       "      <td>307.0</td>\n",
       "      <td>130.0</td>\n",
       "      <td>3504</td>\n",
       "      <td>12.0</td>\n",
       "      <td>70</td>\n",
       "      <td>usa</td>\n",
       "    </tr>\n",
       "    <tr>\n",
       "      <th>1</th>\n",
       "      <td>15.0</td>\n",
       "      <td>8</td>\n",
       "      <td>350.0</td>\n",
       "      <td>165.0</td>\n",
       "      <td>3693</td>\n",
       "      <td>11.5</td>\n",
       "      <td>70</td>\n",
       "      <td>usa</td>\n",
       "    </tr>\n",
       "    <tr>\n",
       "      <th>2</th>\n",
       "      <td>18.0</td>\n",
       "      <td>8</td>\n",
       "      <td>318.0</td>\n",
       "      <td>150.0</td>\n",
       "      <td>3436</td>\n",
       "      <td>11.0</td>\n",
       "      <td>70</td>\n",
       "      <td>usa</td>\n",
       "    </tr>\n",
       "    <tr>\n",
       "      <th>3</th>\n",
       "      <td>16.0</td>\n",
       "      <td>8</td>\n",
       "      <td>304.0</td>\n",
       "      <td>150.0</td>\n",
       "      <td>3433</td>\n",
       "      <td>12.0</td>\n",
       "      <td>70</td>\n",
       "      <td>usa</td>\n",
       "    </tr>\n",
       "    <tr>\n",
       "      <th>4</th>\n",
       "      <td>17.0</td>\n",
       "      <td>8</td>\n",
       "      <td>302.0</td>\n",
       "      <td>140.0</td>\n",
       "      <td>3449</td>\n",
       "      <td>10.5</td>\n",
       "      <td>70</td>\n",
       "      <td>usa</td>\n",
       "    </tr>\n",
       "  </tbody>\n",
       "</table>\n",
       "</div>"
      ],
      "text/plain": [
       "    mpg  cylinders  displacement  horsepower  weight  acceleration  \\\n",
       "0  18.0          8         307.0       130.0    3504          12.0   \n",
       "1  15.0          8         350.0       165.0    3693          11.5   \n",
       "2  18.0          8         318.0       150.0    3436          11.0   \n",
       "3  16.0          8         304.0       150.0    3433          12.0   \n",
       "4  17.0          8         302.0       140.0    3449          10.5   \n",
       "\n",
       "   model_year origin  \n",
       "0          70    usa  \n",
       "1          70    usa  \n",
       "2          70    usa  \n",
       "3          70    usa  \n",
       "4          70    usa  "
      ]
     },
     "execution_count": 17,
     "metadata": {},
     "output_type": "execute_result"
    }
   ],
   "source": [
    "dataset.head()"
   ]
  },
  {
   "cell_type": "code",
   "execution_count": 18,
   "id": "0fa47d04-ce2f-4246-90e2-d0649fa15a6e",
   "metadata": {},
   "outputs": [],
   "source": [
    "# origin 열은 범주형 원-핫 인코딩으로 변환\n",
    "origin=dataset.pop(\"origin\")"
   ]
  },
  {
   "cell_type": "code",
   "execution_count": 19,
   "id": "0ffa23f3-34dd-4119-ae95-f779003d70e9",
   "metadata": {},
   "outputs": [
    {
     "data": {
      "text/html": [
       "<div>\n",
       "<style scoped>\n",
       "    .dataframe tbody tr th:only-of-type {\n",
       "        vertical-align: middle;\n",
       "    }\n",
       "\n",
       "    .dataframe tbody tr th {\n",
       "        vertical-align: top;\n",
       "    }\n",
       "\n",
       "    .dataframe thead th {\n",
       "        text-align: right;\n",
       "    }\n",
       "</style>\n",
       "<table border=\"1\" class=\"dataframe\">\n",
       "  <thead>\n",
       "    <tr style=\"text-align: right;\">\n",
       "      <th></th>\n",
       "      <th>mpg</th>\n",
       "      <th>cylinders</th>\n",
       "      <th>displacement</th>\n",
       "      <th>horsepower</th>\n",
       "      <th>weight</th>\n",
       "      <th>acceleration</th>\n",
       "      <th>model_year</th>\n",
       "      <th>usa</th>\n",
       "      <th>europe</th>\n",
       "      <th>japan</th>\n",
       "    </tr>\n",
       "  </thead>\n",
       "  <tbody>\n",
       "    <tr>\n",
       "      <th>393</th>\n",
       "      <td>27.0</td>\n",
       "      <td>4</td>\n",
       "      <td>140.0</td>\n",
       "      <td>86.0</td>\n",
       "      <td>2790</td>\n",
       "      <td>15.6</td>\n",
       "      <td>82</td>\n",
       "      <td>1.0</td>\n",
       "      <td>0.0</td>\n",
       "      <td>0.0</td>\n",
       "    </tr>\n",
       "    <tr>\n",
       "      <th>394</th>\n",
       "      <td>44.0</td>\n",
       "      <td>4</td>\n",
       "      <td>97.0</td>\n",
       "      <td>52.0</td>\n",
       "      <td>2130</td>\n",
       "      <td>24.6</td>\n",
       "      <td>82</td>\n",
       "      <td>0.0</td>\n",
       "      <td>1.0</td>\n",
       "      <td>0.0</td>\n",
       "    </tr>\n",
       "    <tr>\n",
       "      <th>395</th>\n",
       "      <td>32.0</td>\n",
       "      <td>4</td>\n",
       "      <td>135.0</td>\n",
       "      <td>84.0</td>\n",
       "      <td>2295</td>\n",
       "      <td>11.6</td>\n",
       "      <td>82</td>\n",
       "      <td>1.0</td>\n",
       "      <td>0.0</td>\n",
       "      <td>0.0</td>\n",
       "    </tr>\n",
       "    <tr>\n",
       "      <th>396</th>\n",
       "      <td>28.0</td>\n",
       "      <td>4</td>\n",
       "      <td>120.0</td>\n",
       "      <td>79.0</td>\n",
       "      <td>2625</td>\n",
       "      <td>18.6</td>\n",
       "      <td>82</td>\n",
       "      <td>1.0</td>\n",
       "      <td>0.0</td>\n",
       "      <td>0.0</td>\n",
       "    </tr>\n",
       "    <tr>\n",
       "      <th>397</th>\n",
       "      <td>31.0</td>\n",
       "      <td>4</td>\n",
       "      <td>119.0</td>\n",
       "      <td>82.0</td>\n",
       "      <td>2720</td>\n",
       "      <td>19.4</td>\n",
       "      <td>82</td>\n",
       "      <td>1.0</td>\n",
       "      <td>0.0</td>\n",
       "      <td>0.0</td>\n",
       "    </tr>\n",
       "  </tbody>\n",
       "</table>\n",
       "</div>"
      ],
      "text/plain": [
       "      mpg  cylinders  displacement  horsepower  weight  acceleration  \\\n",
       "393  27.0          4         140.0        86.0    2790          15.6   \n",
       "394  44.0          4          97.0        52.0    2130          24.6   \n",
       "395  32.0          4         135.0        84.0    2295          11.6   \n",
       "396  28.0          4         120.0        79.0    2625          18.6   \n",
       "397  31.0          4         119.0        82.0    2720          19.4   \n",
       "\n",
       "     model_year  usa  europe  japan  \n",
       "393          82  1.0     0.0    0.0  \n",
       "394          82  0.0     1.0    0.0  \n",
       "395          82  1.0     0.0    0.0  \n",
       "396          82  1.0     0.0    0.0  \n",
       "397          82  1.0     0.0    0.0  "
      ]
     },
     "execution_count": 19,
     "metadata": {},
     "output_type": "execute_result"
    }
   ],
   "source": [
    "dataset[\"usa\"]=(origin==\"usa\")*1.0\n",
    "dataset[\"europe\"]=(origin==\"europe\")*1.0\n",
    "dataset[\"japan\"]=(origin==\"japan\")*1.0\n",
    "dataset.tail()"
   ]
  },
  {
   "cell_type": "code",
   "execution_count": 20,
   "id": "778601dc-450d-4e2f-8ecb-20f704a05b5b",
   "metadata": {},
   "outputs": [],
   "source": [
    "# 학습 - 8 - train_dataset \n",
    "# 평가 - 2 - test_dataset\n",
    "train_dataset=dataset.sample(frac=0.8,random_state=42)\n",
    "test_dataset=dataset.drop(train_dataset.index)"
   ]
  },
  {
   "cell_type": "code",
   "execution_count": 21,
   "id": "3c1aab58-1425-45dd-86c1-f13a0de0424e",
   "metadata": {},
   "outputs": [
    {
     "data": {
      "text/html": [
       "<div>\n",
       "<style scoped>\n",
       "    .dataframe tbody tr th:only-of-type {\n",
       "        vertical-align: middle;\n",
       "    }\n",
       "\n",
       "    .dataframe tbody tr th {\n",
       "        vertical-align: top;\n",
       "    }\n",
       "\n",
       "    .dataframe thead th {\n",
       "        text-align: right;\n",
       "    }\n",
       "</style>\n",
       "<table border=\"1\" class=\"dataframe\">\n",
       "  <thead>\n",
       "    <tr style=\"text-align: right;\">\n",
       "      <th></th>\n",
       "      <th>mpg</th>\n",
       "      <th>cylinders</th>\n",
       "      <th>displacement</th>\n",
       "      <th>horsepower</th>\n",
       "      <th>weight</th>\n",
       "      <th>acceleration</th>\n",
       "      <th>model_year</th>\n",
       "      <th>usa</th>\n",
       "      <th>europe</th>\n",
       "      <th>japan</th>\n",
       "    </tr>\n",
       "  </thead>\n",
       "  <tbody>\n",
       "    <tr>\n",
       "      <th>218</th>\n",
       "      <td>36.0</td>\n",
       "      <td>4</td>\n",
       "      <td>79.0</td>\n",
       "      <td>58.0</td>\n",
       "      <td>1825</td>\n",
       "      <td>18.6</td>\n",
       "      <td>77</td>\n",
       "      <td>0.0</td>\n",
       "      <td>1.0</td>\n",
       "      <td>0.0</td>\n",
       "    </tr>\n",
       "    <tr>\n",
       "      <th>281</th>\n",
       "      <td>19.8</td>\n",
       "      <td>6</td>\n",
       "      <td>200.0</td>\n",
       "      <td>85.0</td>\n",
       "      <td>2990</td>\n",
       "      <td>18.2</td>\n",
       "      <td>79</td>\n",
       "      <td>1.0</td>\n",
       "      <td>0.0</td>\n",
       "      <td>0.0</td>\n",
       "    </tr>\n",
       "    <tr>\n",
       "      <th>342</th>\n",
       "      <td>30.0</td>\n",
       "      <td>4</td>\n",
       "      <td>135.0</td>\n",
       "      <td>84.0</td>\n",
       "      <td>2385</td>\n",
       "      <td>12.9</td>\n",
       "      <td>81</td>\n",
       "      <td>1.0</td>\n",
       "      <td>0.0</td>\n",
       "      <td>0.0</td>\n",
       "    </tr>\n",
       "    <tr>\n",
       "      <th>238</th>\n",
       "      <td>33.5</td>\n",
       "      <td>4</td>\n",
       "      <td>98.0</td>\n",
       "      <td>83.0</td>\n",
       "      <td>2075</td>\n",
       "      <td>15.9</td>\n",
       "      <td>77</td>\n",
       "      <td>1.0</td>\n",
       "      <td>0.0</td>\n",
       "      <td>0.0</td>\n",
       "    </tr>\n",
       "    <tr>\n",
       "      <th>209</th>\n",
       "      <td>19.0</td>\n",
       "      <td>4</td>\n",
       "      <td>120.0</td>\n",
       "      <td>88.0</td>\n",
       "      <td>3270</td>\n",
       "      <td>21.9</td>\n",
       "      <td>76</td>\n",
       "      <td>0.0</td>\n",
       "      <td>1.0</td>\n",
       "      <td>0.0</td>\n",
       "    </tr>\n",
       "  </tbody>\n",
       "</table>\n",
       "</div>"
      ],
      "text/plain": [
       "      mpg  cylinders  displacement  horsepower  weight  acceleration  \\\n",
       "218  36.0          4          79.0        58.0    1825          18.6   \n",
       "281  19.8          6         200.0        85.0    2990          18.2   \n",
       "342  30.0          4         135.0        84.0    2385          12.9   \n",
       "238  33.5          4          98.0        83.0    2075          15.9   \n",
       "209  19.0          4         120.0        88.0    3270          21.9   \n",
       "\n",
       "     model_year  usa  europe  japan  \n",
       "218          77  0.0     1.0    0.0  \n",
       "281          79  1.0     0.0    0.0  \n",
       "342          81  1.0     0.0    0.0  \n",
       "238          77  1.0     0.0    0.0  \n",
       "209          76  0.0     1.0    0.0  "
      ]
     },
     "execution_count": 21,
     "metadata": {},
     "output_type": "execute_result"
    }
   ],
   "source": [
    "train_dataset.tail()"
   ]
  },
  {
   "cell_type": "code",
   "execution_count": 22,
   "id": "a4bcd02e-4d86-4c24-b94a-2071e820e282",
   "metadata": {},
   "outputs": [
    {
     "data": {
      "text/plain": [
       "<seaborn.axisgrid.PairGrid at 0x1fb21f59250>"
      ]
     },
     "execution_count": 22,
     "metadata": {},
     "output_type": "execute_result"
    },
    {
     "data": {
      "image/png": "[encoded data removed]",
      "text/plain": [
       "<Figure size 1000x1000 with 20 Axes>"
      ]
     },
     "metadata": {},
     "output_type": "display_data"
    }
   ],
   "source": [
    "sns.pairplot(train_dataset[[\"mpg\",\"cylinders\",\n",
    "                            \"displacement\",\"weight\"]])"
   ]
  },
  {
   "cell_type": "code",
   "execution_count": 24,
   "id": "311fde16-b9af-489b-a79c-299b309f3398",
   "metadata": {},
   "outputs": [
    {
     "data": {
      "text/html": [
       "<div>\n",
       "<style scoped>\n",
       "    .dataframe tbody tr th:only-of-type {\n",
       "        vertical-align: middle;\n",
       "    }\n",
       "\n",
       "    .dataframe tbody tr th {\n",
       "        vertical-align: top;\n",
       "    }\n",
       "\n",
       "    .dataframe thead th {\n",
       "        text-align: right;\n",
       "    }\n",
       "</style>\n",
       "<table border=\"1\" class=\"dataframe\">\n",
       "  <thead>\n",
       "    <tr style=\"text-align: right;\">\n",
       "      <th></th>\n",
       "      <th>cylinders</th>\n",
       "      <th>displacement</th>\n",
       "      <th>horsepower</th>\n",
       "      <th>weight</th>\n",
       "      <th>acceleration</th>\n",
       "      <th>model_year</th>\n",
       "      <th>usa</th>\n",
       "      <th>europe</th>\n",
       "      <th>japan</th>\n",
       "    </tr>\n",
       "  </thead>\n",
       "  <tbody>\n",
       "    <tr>\n",
       "      <th>count</th>\n",
       "      <td>314.000000</td>\n",
       "      <td>314.000000</td>\n",
       "      <td>314.000000</td>\n",
       "      <td>314.000000</td>\n",
       "      <td>314.000000</td>\n",
       "      <td>314.000000</td>\n",
       "      <td>314.000000</td>\n",
       "      <td>314.000000</td>\n",
       "      <td>314.000000</td>\n",
       "    </tr>\n",
       "    <tr>\n",
       "      <th>mean</th>\n",
       "      <td>5.531847</td>\n",
       "      <td>197.855096</td>\n",
       "      <td>105.971338</td>\n",
       "      <td>3005.745223</td>\n",
       "      <td>15.510828</td>\n",
       "      <td>75.910828</td>\n",
       "      <td>0.624204</td>\n",
       "      <td>0.171975</td>\n",
       "      <td>0.203822</td>\n",
       "    </tr>\n",
       "    <tr>\n",
       "      <th>std</th>\n",
       "      <td>1.729449</td>\n",
       "      <td>106.501896</td>\n",
       "      <td>39.636557</td>\n",
       "      <td>859.060925</td>\n",
       "      <td>2.803560</td>\n",
       "      <td>3.688989</td>\n",
       "      <td>0.485101</td>\n",
       "      <td>0.377961</td>\n",
       "      <td>0.403481</td>\n",
       "    </tr>\n",
       "    <tr>\n",
       "      <th>min</th>\n",
       "      <td>3.000000</td>\n",
       "      <td>68.000000</td>\n",
       "      <td>46.000000</td>\n",
       "      <td>1649.000000</td>\n",
       "      <td>8.000000</td>\n",
       "      <td>70.000000</td>\n",
       "      <td>0.000000</td>\n",
       "      <td>0.000000</td>\n",
       "      <td>0.000000</td>\n",
       "    </tr>\n",
       "    <tr>\n",
       "      <th>25%</th>\n",
       "      <td>4.000000</td>\n",
       "      <td>105.000000</td>\n",
       "      <td>76.000000</td>\n",
       "      <td>2231.000000</td>\n",
       "      <td>13.625000</td>\n",
       "      <td>73.000000</td>\n",
       "      <td>0.000000</td>\n",
       "      <td>0.000000</td>\n",
       "      <td>0.000000</td>\n",
       "    </tr>\n",
       "    <tr>\n",
       "      <th>50%</th>\n",
       "      <td>4.000000</td>\n",
       "      <td>151.000000</td>\n",
       "      <td>95.000000</td>\n",
       "      <td>2831.500000</td>\n",
       "      <td>15.500000</td>\n",
       "      <td>76.000000</td>\n",
       "      <td>1.000000</td>\n",
       "      <td>0.000000</td>\n",
       "      <td>0.000000</td>\n",
       "    </tr>\n",
       "    <tr>\n",
       "      <th>75%</th>\n",
       "      <td>8.000000</td>\n",
       "      <td>302.000000</td>\n",
       "      <td>130.000000</td>\n",
       "      <td>3641.750000</td>\n",
       "      <td>17.000000</td>\n",
       "      <td>79.000000</td>\n",
       "      <td>1.000000</td>\n",
       "      <td>0.000000</td>\n",
       "      <td>0.000000</td>\n",
       "    </tr>\n",
       "    <tr>\n",
       "      <th>max</th>\n",
       "      <td>8.000000</td>\n",
       "      <td>455.000000</td>\n",
       "      <td>230.000000</td>\n",
       "      <td>4955.000000</td>\n",
       "      <td>24.800000</td>\n",
       "      <td>82.000000</td>\n",
       "      <td>1.000000</td>\n",
       "      <td>1.000000</td>\n",
       "      <td>1.000000</td>\n",
       "    </tr>\n",
       "  </tbody>\n",
       "</table>\n",
       "</div>"
      ],
      "text/plain": [
       "        cylinders  displacement  horsepower       weight  acceleration  \\\n",
       "count  314.000000    314.000000  314.000000   314.000000    314.000000   \n",
       "mean     5.531847    197.855096  105.971338  3005.745223     15.510828   \n",
       "std      1.729449    106.501896   39.636557   859.060925      2.803560   \n",
       "min      3.000000     68.000000   46.000000  1649.000000      8.000000   \n",
       "25%      4.000000    105.000000   76.000000  2231.000000     13.625000   \n",
       "50%      4.000000    151.000000   95.000000  2831.500000     15.500000   \n",
       "75%      8.000000    302.000000  130.000000  3641.750000     17.000000   \n",
       "max      8.000000    455.000000  230.000000  4955.000000     24.800000   \n",
       "\n",
       "       model_year         usa      europe       japan  \n",
       "count  314.000000  314.000000  314.000000  314.000000  \n",
       "mean    75.910828    0.624204    0.171975    0.203822  \n",
       "std      3.688989    0.485101    0.377961    0.403481  \n",
       "min     70.000000    0.000000    0.000000    0.000000  \n",
       "25%     73.000000    0.000000    0.000000    0.000000  \n",
       "50%     76.000000    1.000000    0.000000    0.000000  \n",
       "75%     79.000000    1.000000    0.000000    0.000000  \n",
       "max     82.000000    1.000000    1.000000    1.000000  "
      ]
     },
     "execution_count": 24,
     "metadata": {},
     "output_type": "execute_result"
    }
   ],
   "source": [
    "# 기술 통계\n",
    "train_stats=train_dataset.describe()\n",
    "train_stats.pop(\"mpg\")\n",
    "train_stats"
   ]
  },
  {
   "cell_type": "code",
   "execution_count": 25,
   "id": "605504ee-dbd6-497b-8b76-f05abcc440ea",
   "metadata": {},
   "outputs": [
    {
     "data": {
      "text/html": [
       "<div>\n",
       "<style scoped>\n",
       "    .dataframe tbody tr th:only-of-type {\n",
       "        vertical-align: middle;\n",
       "    }\n",
       "\n",
       "    .dataframe tbody tr th {\n",
       "        vertical-align: top;\n",
       "    }\n",
       "\n",
       "    .dataframe thead th {\n",
       "        text-align: right;\n",
       "    }\n",
       "</style>\n",
       "<table border=\"1\" class=\"dataframe\">\n",
       "  <thead>\n",
       "    <tr style=\"text-align: right;\">\n",
       "      <th></th>\n",
       "      <th>count</th>\n",
       "      <th>mean</th>\n",
       "      <th>std</th>\n",
       "      <th>min</th>\n",
       "      <th>25%</th>\n",
       "      <th>50%</th>\n",
       "      <th>75%</th>\n",
       "      <th>max</th>\n",
       "    </tr>\n",
       "  </thead>\n",
       "  <tbody>\n",
       "    <tr>\n",
       "      <th>cylinders</th>\n",
       "      <td>314.0</td>\n",
       "      <td>5.531847</td>\n",
       "      <td>1.729449</td>\n",
       "      <td>3.0</td>\n",
       "      <td>4.000</td>\n",
       "      <td>4.0</td>\n",
       "      <td>8.00</td>\n",
       "      <td>8.0</td>\n",
       "    </tr>\n",
       "    <tr>\n",
       "      <th>displacement</th>\n",
       "      <td>314.0</td>\n",
       "      <td>197.855096</td>\n",
       "      <td>106.501896</td>\n",
       "      <td>68.0</td>\n",
       "      <td>105.000</td>\n",
       "      <td>151.0</td>\n",
       "      <td>302.00</td>\n",
       "      <td>455.0</td>\n",
       "    </tr>\n",
       "    <tr>\n",
       "      <th>horsepower</th>\n",
       "      <td>314.0</td>\n",
       "      <td>105.971338</td>\n",
       "      <td>39.636557</td>\n",
       "      <td>46.0</td>\n",
       "      <td>76.000</td>\n",
       "      <td>95.0</td>\n",
       "      <td>130.00</td>\n",
       "      <td>230.0</td>\n",
       "    </tr>\n",
       "    <tr>\n",
       "      <th>weight</th>\n",
       "      <td>314.0</td>\n",
       "      <td>3005.745223</td>\n",
       "      <td>859.060925</td>\n",
       "      <td>1649.0</td>\n",
       "      <td>2231.000</td>\n",
       "      <td>2831.5</td>\n",
       "      <td>3641.75</td>\n",
       "      <td>4955.0</td>\n",
       "    </tr>\n",
       "    <tr>\n",
       "      <th>acceleration</th>\n",
       "      <td>314.0</td>\n",
       "      <td>15.510828</td>\n",
       "      <td>2.803560</td>\n",
       "      <td>8.0</td>\n",
       "      <td>13.625</td>\n",
       "      <td>15.5</td>\n",
       "      <td>17.00</td>\n",
       "      <td>24.8</td>\n",
       "    </tr>\n",
       "    <tr>\n",
       "      <th>model_year</th>\n",
       "      <td>314.0</td>\n",
       "      <td>75.910828</td>\n",
       "      <td>3.688989</td>\n",
       "      <td>70.0</td>\n",
       "      <td>73.000</td>\n",
       "      <td>76.0</td>\n",
       "      <td>79.00</td>\n",
       "      <td>82.0</td>\n",
       "    </tr>\n",
       "    <tr>\n",
       "      <th>usa</th>\n",
       "      <td>314.0</td>\n",
       "      <td>0.624204</td>\n",
       "      <td>0.485101</td>\n",
       "      <td>0.0</td>\n",
       "      <td>0.000</td>\n",
       "      <td>1.0</td>\n",
       "      <td>1.00</td>\n",
       "      <td>1.0</td>\n",
       "    </tr>\n",
       "    <tr>\n",
       "      <th>europe</th>\n",
       "      <td>314.0</td>\n",
       "      <td>0.171975</td>\n",
       "      <td>0.377961</td>\n",
       "      <td>0.0</td>\n",
       "      <td>0.000</td>\n",
       "      <td>0.0</td>\n",
       "      <td>0.00</td>\n",
       "      <td>1.0</td>\n",
       "    </tr>\n",
       "    <tr>\n",
       "      <th>japan</th>\n",
       "      <td>314.0</td>\n",
       "      <td>0.203822</td>\n",
       "      <td>0.403481</td>\n",
       "      <td>0.0</td>\n",
       "      <td>0.000</td>\n",
       "      <td>0.0</td>\n",
       "      <td>0.00</td>\n",
       "      <td>1.0</td>\n",
       "    </tr>\n",
       "  </tbody>\n",
       "</table>\n",
       "</div>"
      ],
      "text/plain": [
       "              count         mean         std     min       25%     50%  \\\n",
       "cylinders     314.0     5.531847    1.729449     3.0     4.000     4.0   \n",
       "displacement  314.0   197.855096  106.501896    68.0   105.000   151.0   \n",
       "horsepower    314.0   105.971338   39.636557    46.0    76.000    95.0   \n",
       "weight        314.0  3005.745223  859.060925  1649.0  2231.000  2831.5   \n",
       "acceleration  314.0    15.510828    2.803560     8.0    13.625    15.5   \n",
       "model_year    314.0    75.910828    3.688989    70.0    73.000    76.0   \n",
       "usa           314.0     0.624204    0.485101     0.0     0.000     1.0   \n",
       "europe        314.0     0.171975    0.377961     0.0     0.000     0.0   \n",
       "japan         314.0     0.203822    0.403481     0.0     0.000     0.0   \n",
       "\n",
       "                  75%     max  \n",
       "cylinders        8.00     8.0  \n",
       "displacement   302.00   455.0  \n",
       "horsepower     130.00   230.0  \n",
       "weight        3641.75  4955.0  \n",
       "acceleration    17.00    24.8  \n",
       "model_year      79.00    82.0  \n",
       "usa              1.00     1.0  \n",
       "europe           0.00     1.0  \n",
       "japan            0.00     1.0  "
      ]
     },
     "execution_count": 25,
     "metadata": {},
     "output_type": "execute_result"
    }
   ],
   "source": [
    "# transpose() 행과열을 바꿈\n",
    "train_stats=train_stats.transpose()\n",
    "train_stats"
   ]
  },
  {
   "cell_type": "code",
   "execution_count": 26,
   "id": "883edcc6-306e-402d-bd71-5f25a040e140",
   "metadata": {},
   "outputs": [],
   "source": [
    "# 레이블 - 예측할려는 칼럼\n",
    "# 특성 - 다른 칼럼\n",
    "# 특성과 레이블을 분리\n",
    "train_labels=train_dataset.pop(\"mpg\")\n",
    "test_labels=test_dataset.pop(\"mpg\")"
   ]
  },
  {
   "cell_type": "code",
   "execution_count": 28,
   "id": "4434723c-41ea-4847-b2b5-7e85cfa14530",
   "metadata": {},
   "outputs": [
    {
     "data": {
      "text/html": [
       "<div>\n",
       "<style scoped>\n",
       "    .dataframe tbody tr th:only-of-type {\n",
       "        vertical-align: middle;\n",
       "    }\n",
       "\n",
       "    .dataframe tbody tr th {\n",
       "        vertical-align: top;\n",
       "    }\n",
       "\n",
       "    .dataframe thead th {\n",
       "        text-align: right;\n",
       "    }\n",
       "</style>\n",
       "<table border=\"1\" class=\"dataframe\">\n",
       "  <thead>\n",
       "    <tr style=\"text-align: right;\">\n",
       "      <th></th>\n",
       "      <th>cylinders</th>\n",
       "      <th>displacement</th>\n",
       "      <th>horsepower</th>\n",
       "      <th>weight</th>\n",
       "      <th>acceleration</th>\n",
       "      <th>model_year</th>\n",
       "      <th>usa</th>\n",
       "      <th>europe</th>\n",
       "      <th>japan</th>\n",
       "    </tr>\n",
       "  </thead>\n",
       "  <tbody>\n",
       "    <tr>\n",
       "      <th>218</th>\n",
       "      <td>4</td>\n",
       "      <td>79.0</td>\n",
       "      <td>58.0</td>\n",
       "      <td>1825</td>\n",
       "      <td>18.6</td>\n",
       "      <td>77</td>\n",
       "      <td>0.0</td>\n",
       "      <td>1.0</td>\n",
       "      <td>0.0</td>\n",
       "    </tr>\n",
       "    <tr>\n",
       "      <th>281</th>\n",
       "      <td>6</td>\n",
       "      <td>200.0</td>\n",
       "      <td>85.0</td>\n",
       "      <td>2990</td>\n",
       "      <td>18.2</td>\n",
       "      <td>79</td>\n",
       "      <td>1.0</td>\n",
       "      <td>0.0</td>\n",
       "      <td>0.0</td>\n",
       "    </tr>\n",
       "    <tr>\n",
       "      <th>342</th>\n",
       "      <td>4</td>\n",
       "      <td>135.0</td>\n",
       "      <td>84.0</td>\n",
       "      <td>2385</td>\n",
       "      <td>12.9</td>\n",
       "      <td>81</td>\n",
       "      <td>1.0</td>\n",
       "      <td>0.0</td>\n",
       "      <td>0.0</td>\n",
       "    </tr>\n",
       "    <tr>\n",
       "      <th>238</th>\n",
       "      <td>4</td>\n",
       "      <td>98.0</td>\n",
       "      <td>83.0</td>\n",
       "      <td>2075</td>\n",
       "      <td>15.9</td>\n",
       "      <td>77</td>\n",
       "      <td>1.0</td>\n",
       "      <td>0.0</td>\n",
       "      <td>0.0</td>\n",
       "    </tr>\n",
       "    <tr>\n",
       "      <th>209</th>\n",
       "      <td>4</td>\n",
       "      <td>120.0</td>\n",
       "      <td>88.0</td>\n",
       "      <td>3270</td>\n",
       "      <td>21.9</td>\n",
       "      <td>76</td>\n",
       "      <td>0.0</td>\n",
       "      <td>1.0</td>\n",
       "      <td>0.0</td>\n",
       "    </tr>\n",
       "  </tbody>\n",
       "</table>\n",
       "</div>"
      ],
      "text/plain": [
       "     cylinders  displacement  horsepower  weight  acceleration  model_year  \\\n",
       "218          4          79.0        58.0    1825          18.6          77   \n",
       "281          6         200.0        85.0    2990          18.2          79   \n",
       "342          4         135.0        84.0    2385          12.9          81   \n",
       "238          4          98.0        83.0    2075          15.9          77   \n",
       "209          4         120.0        88.0    3270          21.9          76   \n",
       "\n",
       "     usa  europe  japan  \n",
       "218  0.0     1.0    0.0  \n",
       "281  1.0     0.0    0.0  \n",
       "342  1.0     0.0    0.0  \n",
       "238  1.0     0.0    0.0  \n",
       "209  0.0     1.0    0.0  "
      ]
     },
     "execution_count": 28,
     "metadata": {},
     "output_type": "execute_result"
    }
   ],
   "source": [
    "train_dataset.tail()"
   ]
  },
  {
   "cell_type": "code",
   "execution_count": 29,
   "id": "d591e1e6-6c3d-4ca5-a2f7-6967bd179501",
   "metadata": {},
   "outputs": [
    {
     "data": {
      "text/plain": [
       "218    36.0\n",
       "281    19.8\n",
       "342    30.0\n",
       "238    33.5\n",
       "209    19.0\n",
       "Name: mpg, dtype: float64"
      ]
     },
     "execution_count": 29,
     "metadata": {},
     "output_type": "execute_result"
    }
   ],
   "source": [
    "train_labels.tail()"
   ]
  },
  {
   "cell_type": "code",
   "execution_count": 30,
   "id": "2b3ef2ba-d687-46d6-bea7-33ebe64ba676",
   "metadata": {},
   "outputs": [],
   "source": [
    "#데이터 정규화\n",
    "def norm(x):\n",
    "    return (x-train_stats[\"mean\"])/train_stats[\"std\"]\n",
    "normed_train_data=norm(train_dataset)\n",
    "normed_test_data=norm(test_dataset)"
   ]
  },
  {
   "cell_type": "code",
   "execution_count": 31,
   "id": "696ecaef-b319-4042-a352-38c361698d87",
   "metadata": {},
   "outputs": [
    {
     "data": {
      "text/html": [
       "<div>\n",
       "<style scoped>\n",
       "    .dataframe tbody tr th:only-of-type {\n",
       "        vertical-align: middle;\n",
       "    }\n",
       "\n",
       "    .dataframe tbody tr th {\n",
       "        vertical-align: top;\n",
       "    }\n",
       "\n",
       "    .dataframe thead th {\n",
       "        text-align: right;\n",
       "    }\n",
       "</style>\n",
       "<table border=\"1\" class=\"dataframe\">\n",
       "  <thead>\n",
       "    <tr style=\"text-align: right;\">\n",
       "      <th></th>\n",
       "      <th>cylinders</th>\n",
       "      <th>displacement</th>\n",
       "      <th>horsepower</th>\n",
       "      <th>weight</th>\n",
       "      <th>acceleration</th>\n",
       "      <th>model_year</th>\n",
       "      <th>usa</th>\n",
       "      <th>europe</th>\n",
       "      <th>japan</th>\n",
       "    </tr>\n",
       "  </thead>\n",
       "  <tbody>\n",
       "    <tr>\n",
       "      <th>218</th>\n",
       "      <td>-0.885743</td>\n",
       "      <td>-1.115990</td>\n",
       "      <td>-1.210280</td>\n",
       "      <td>-1.374460</td>\n",
       "      <td>1.101875</td>\n",
       "      <td>0.295249</td>\n",
       "      <td>-1.286751</td>\n",
       "      <td>2.190772</td>\n",
       "      <td>-0.505158</td>\n",
       "    </tr>\n",
       "    <tr>\n",
       "      <th>281</th>\n",
       "      <td>0.270695</td>\n",
       "      <td>0.020140</td>\n",
       "      <td>-0.529091</td>\n",
       "      <td>-0.018328</td>\n",
       "      <td>0.959199</td>\n",
       "      <td>0.837404</td>\n",
       "      <td>0.774676</td>\n",
       "      <td>-0.455006</td>\n",
       "      <td>-0.505158</td>\n",
       "    </tr>\n",
       "    <tr>\n",
       "      <th>342</th>\n",
       "      <td>-0.885743</td>\n",
       "      <td>-0.590178</td>\n",
       "      <td>-0.554320</td>\n",
       "      <td>-0.722586</td>\n",
       "      <td>-0.931255</td>\n",
       "      <td>1.379558</td>\n",
       "      <td>0.774676</td>\n",
       "      <td>-0.455006</td>\n",
       "      <td>-0.505158</td>\n",
       "    </tr>\n",
       "    <tr>\n",
       "      <th>238</th>\n",
       "      <td>-0.885743</td>\n",
       "      <td>-0.937590</td>\n",
       "      <td>-0.579549</td>\n",
       "      <td>-1.083445</td>\n",
       "      <td>0.138814</td>\n",
       "      <td>0.295249</td>\n",
       "      <td>0.774676</td>\n",
       "      <td>-0.455006</td>\n",
       "      <td>-0.505158</td>\n",
       "    </tr>\n",
       "    <tr>\n",
       "      <th>209</th>\n",
       "      <td>-0.885743</td>\n",
       "      <td>-0.731021</td>\n",
       "      <td>-0.453403</td>\n",
       "      <td>0.307609</td>\n",
       "      <td>2.278950</td>\n",
       "      <td>0.024172</td>\n",
       "      <td>-1.286751</td>\n",
       "      <td>2.190772</td>\n",
       "      <td>-0.505158</td>\n",
       "    </tr>\n",
       "  </tbody>\n",
       "</table>\n",
       "</div>"
      ],
      "text/plain": [
       "     cylinders  displacement  horsepower    weight  acceleration  model_year  \\\n",
       "218  -0.885743     -1.115990   -1.210280 -1.374460      1.101875    0.295249   \n",
       "281   0.270695      0.020140   -0.529091 -0.018328      0.959199    0.837404   \n",
       "342  -0.885743     -0.590178   -0.554320 -0.722586     -0.931255    1.379558   \n",
       "238  -0.885743     -0.937590   -0.579549 -1.083445      0.138814    0.295249   \n",
       "209  -0.885743     -0.731021   -0.453403  0.307609      2.278950    0.024172   \n",
       "\n",
       "          usa    europe     japan  \n",
       "218 -1.286751  2.190772 -0.505158  \n",
       "281  0.774676 -0.455006 -0.505158  \n",
       "342  0.774676 -0.455006 -0.505158  \n",
       "238  0.774676 -0.455006 -0.505158  \n",
       "209 -1.286751  2.190772 -0.505158  "
      ]
     },
     "execution_count": 31,
     "metadata": {},
     "output_type": "execute_result"
    }
   ],
   "source": [
    "normed_train_data.tail()"
   ]
  },
  {
   "cell_type": "code",
   "execution_count": 33,
   "id": "a99b9a95-9a9a-4193-8eb7-c20eca544f89",
   "metadata": {},
   "outputs": [
    {
     "data": {
      "text/plain": [
       "9"
      ]
     },
     "execution_count": 33,
     "metadata": {},
     "output_type": "execute_result"
    }
   ],
   "source": [
    "len(train_dataset.keys())"
   ]
  },
  {
   "cell_type": "code",
   "execution_count": 34,
   "id": "c08e38b1-4d72-41ea-85d2-86083fb213a8",
   "metadata": {},
   "outputs": [],
   "source": [
    "# 모델 만들기\n",
    "def build_model():\n",
    "    model=keras.Sequential([\n",
    "        layers.Dense(64,input_shape=[len(train_dataset.keys())],\n",
    "                    activation=\"relu\"),\n",
    "        layers.Dense(64,activation=\"relu\"),\n",
    "        layers.Dense(1)\n",
    "    ])\n",
    "    optimizer=tf.keras.optimizers.RMSprop(0.001)\n",
    "    model.compile(loss=\"mse\",optimizer=optimizer,\n",
    "                  metrics=[\"mae\",\"mse\"])\n",
    "    return model"
   ]
  },
  {
   "cell_type": "code",
   "execution_count": 35,
   "id": "237ac265-b428-4d1c-a0c3-02e81af1772e",
   "metadata": {},
   "outputs": [
    {
     "name": "stdout",
     "output_type": "stream",
     "text": [
      "Model: \"sequential\"\n",
      "_________________________________________________________________\n",
      " Layer (type)                Output Shape              Param #   \n",
      "=================================================================\n",
      " dense (Dense)               (None, 64)                640       \n",
      "                                                                 \n",
      " dense_1 (Dense)             (None, 64)                4160      \n",
      "                                                                 \n",
      " dense_2 (Dense)             (None, 1)                 65        \n",
      "                                                                 \n",
      "=================================================================\n",
      "Total params: 4,865\n",
      "Trainable params: 4,865\n",
      "Non-trainable params: 0\n",
      "_________________________________________________________________\n"
     ]
    }
   ],
   "source": [
    "# 모델 확인\n",
    "model=build_model()\n",
    "model.summary()"
   ]
  },
  {
   "cell_type": "code",
   "execution_count": 36,
   "id": "b19a14cd-6e6c-42c0-93b7-a2de54e6bd2e",
   "metadata": {},
   "outputs": [
    {
     "name": "stdout",
     "output_type": "stream",
     "text": [
      "\n",
      "....................................................................................................\n",
      "....................................................................................................\n",
      "....................................................................................................\n",
      "....................................................................................................\n",
      "....................................................................................................\n",
      "....................................................................................................\n",
      "....................................................................................................\n",
      "....................................................................................................\n",
      "....................................................................................................\n",
      "...................................................................................................."
     ]
    }
   ],
   "source": [
    "# 모델 훈련\n",
    "# 1000번->에포크\n",
    "class PrintDot(keras.callbacks.Callback):\n",
    "    def on_epoch_end(self,epoch,logs):\n",
    "        if epoch%100==0:print(\"\")\n",
    "        print('.',end=\"\")\n",
    "EPOCHS=1000\n",
    "model=build_model()\n",
    "history=model.fit(\n",
    "    normed_train_data,train_labels,\n",
    "    epochs=EPOCHS,validation_split=0.2,verbose=0,\n",
    "    callbacks=[PrintDot()]\n",
    ")"
   ]
  },
  {
   "cell_type": "code",
   "execution_count": 38,
   "id": "41ae81ae-4f29-4f8b-9681-8ff42d4b6e89",
   "metadata": {},
   "outputs": [
    {
     "data": {
      "text/html": [
       "<div>\n",
       "<style scoped>\n",
       "    .dataframe tbody tr th:only-of-type {\n",
       "        vertical-align: middle;\n",
       "    }\n",
       "\n",
       "    .dataframe tbody tr th {\n",
       "        vertical-align: top;\n",
       "    }\n",
       "\n",
       "    .dataframe thead th {\n",
       "        text-align: right;\n",
       "    }\n",
       "</style>\n",
       "<table border=\"1\" class=\"dataframe\">\n",
       "  <thead>\n",
       "    <tr style=\"text-align: right;\">\n",
       "      <th></th>\n",
       "      <th>loss</th>\n",
       "      <th>mae</th>\n",
       "      <th>mse</th>\n",
       "      <th>val_loss</th>\n",
       "      <th>val_mae</th>\n",
       "      <th>val_mse</th>\n",
       "      <th>epoch</th>\n",
       "    </tr>\n",
       "  </thead>\n",
       "  <tbody>\n",
       "    <tr>\n",
       "      <th>995</th>\n",
       "      <td>2.651845</td>\n",
       "      <td>1.044494</td>\n",
       "      <td>2.651845</td>\n",
       "      <td>5.206548</td>\n",
       "      <td>1.809277</td>\n",
       "      <td>5.206548</td>\n",
       "      <td>995</td>\n",
       "    </tr>\n",
       "    <tr>\n",
       "      <th>996</th>\n",
       "      <td>2.571589</td>\n",
       "      <td>1.015761</td>\n",
       "      <td>2.571589</td>\n",
       "      <td>5.097633</td>\n",
       "      <td>1.783574</td>\n",
       "      <td>5.097633</td>\n",
       "      <td>996</td>\n",
       "    </tr>\n",
       "    <tr>\n",
       "      <th>997</th>\n",
       "      <td>2.455656</td>\n",
       "      <td>0.991790</td>\n",
       "      <td>2.455656</td>\n",
       "      <td>5.273938</td>\n",
       "      <td>1.830658</td>\n",
       "      <td>5.273938</td>\n",
       "      <td>997</td>\n",
       "    </tr>\n",
       "    <tr>\n",
       "      <th>998</th>\n",
       "      <td>2.394404</td>\n",
       "      <td>1.000362</td>\n",
       "      <td>2.394404</td>\n",
       "      <td>5.046096</td>\n",
       "      <td>1.707208</td>\n",
       "      <td>5.046096</td>\n",
       "      <td>998</td>\n",
       "    </tr>\n",
       "    <tr>\n",
       "      <th>999</th>\n",
       "      <td>2.540113</td>\n",
       "      <td>1.030150</td>\n",
       "      <td>2.540113</td>\n",
       "      <td>5.180104</td>\n",
       "      <td>1.809943</td>\n",
       "      <td>5.180104</td>\n",
       "      <td>999</td>\n",
       "    </tr>\n",
       "  </tbody>\n",
       "</table>\n",
       "</div>"
      ],
      "text/plain": [
       "         loss       mae       mse  val_loss   val_mae   val_mse  epoch\n",
       "995  2.651845  1.044494  2.651845  5.206548  1.809277  5.206548    995\n",
       "996  2.571589  1.015761  2.571589  5.097633  1.783574  5.097633    996\n",
       "997  2.455656  0.991790  2.455656  5.273938  1.830658  5.273938    997\n",
       "998  2.394404  1.000362  2.394404  5.046096  1.707208  5.046096    998\n",
       "999  2.540113  1.030150  2.540113  5.180104  1.809943  5.180104    999"
      ]
     },
     "execution_count": 38,
     "metadata": {},
     "output_type": "execute_result"
    }
   ],
   "source": [
    "hist=pd.DataFrame(history.history)\n",
    "hist['epoch']=history.epoch\n",
    "hist.tail()"
   ]
  },
  {
   "cell_type": "code",
   "execution_count": 39,
   "id": "82b5651c-466b-48a3-90d6-e12c547038da",
   "metadata": {},
   "outputs": [
    {
     "data": {
      "image/png": "[encoded data removed]",
      "text/plain": [
       "<Figure size 640x480 with 1 Axes>"
      ]
     },
     "metadata": {},
     "output_type": "display_data"
    }
   ],
   "source": [
    "# 학습 1000 가성비\n",
    "# 학습을 진행하면서 오차율을 시각화\n",
    "def sns_hist(history):\n",
    "    hist=pd.DataFrame(history.history)\n",
    "    hist['epoch']=history.epoch\n",
    "    sns.lineplot(data=hist,x=\"epoch\",y=\"mae\")\n",
    "    sns.lineplot(data=hist,x=\"epoch\",y=\"mse\")\n",
    "sns_hist(history)"
   ]
  },
  {
   "cell_type": "code",
   "execution_count": 45,
   "id": "63b53aaf-6529-4989-ae25-5c20457f67c8",
   "metadata": {},
   "outputs": [
    {
     "name": "stdout",
     "output_type": "stream",
     "text": [
      "\n",
      "....................................................................................................\n",
      "......................................"
     ]
    }
   ],
   "source": [
    "# model.fit 수정해서 검증 점수가 향상되지 않으면 자동으로\n",
    "# 훈련을 멈추도록 하는 것만 수정\n",
    "model=build_model()\n",
    "early_stop=keras.callbacks.EarlyStopping(monitor=\"val_loss\",\n",
    "                                         patience=10)\n",
    "history=model.fit(\n",
    "    normed_train_data,train_labels,\n",
    "    epochs=EPOCHS,validation_split=0.2,verbose=0,\n",
    "    callbacks=[PrintDot(),early_stop]\n",
    ")"
   ]
  },
  {
   "cell_type": "code",
   "execution_count": 46,
   "id": "f73333a1-36dd-4f0d-9661-a32c63180936",
   "metadata": {},
   "outputs": [
    {
     "data": {
      "image/png": "[encoded data removed]",
      "text/plain": [
       "<Figure size 640x480 with 1 Axes>"
      ]
     },
     "metadata": {},
     "output_type": "display_data"
    }
   ],
   "source": [
    "sns_hist(history)"
   ]
  },
  {
   "cell_type": "code",
   "execution_count": 49,
   "id": "62fecf65-f78d-4da0-b8dc-1b6ba333bf43",
   "metadata": {},
   "outputs": [
    {
     "name": "stdout",
     "output_type": "stream",
     "text": [
      "3/3 - 0s - loss: 7.1607 - mae: 1.9762 - mse: 7.1607 - 17ms/epoch - 6ms/step\n",
      "테스트 세트의 평균 절대 오차: 1.98 MPG\n"
     ]
    }
   ],
   "source": [
    "#성능 평가\n",
    "loss,mae,mse=model.evaluate(normed_test_data,\n",
    "                            test_labels,verbose=2)\n",
    "print(\"테스트 세트의 평균 절대 오차: {:.2f} MPG\".format(mae))"
   ]
  },
  {
   "cell_type": "code",
   "execution_count": 51,
   "id": "28a9c15f-ab8b-43d6-844f-417abafb64ae",
   "metadata": {},
   "outputs": [
    {
     "name": "stdout",
     "output_type": "stream",
     "text": [
      "3/3 [==============================] - 0s 998us/step\n"
     ]
    },
    {
     "data": {
      "text/plain": [
       "array([14.990722, 15.891041, 20.92562 , 22.70739 , 17.442392, 13.279466,\n",
       "       26.575243, 23.685308, 24.279715, 28.52551 , 29.187698, 25.606203,\n",
       "       26.275694, 14.412576, 23.267252, 14.285066, 14.523062, 13.695949,\n",
       "       18.365072, 13.738098, 13.395383, 18.886118, 19.73038 , 22.296873,\n",
       "       14.450575, 27.023344, 17.127844, 15.600388, 15.963061, 21.89437 ,\n",
       "       21.36751 , 18.08725 , 16.214563, 15.029796, 18.74608 , 18.14036 ,\n",
       "       19.208925, 29.82769 , 18.686455, 15.896119, 30.514751, 25.87299 ,\n",
       "       29.159573, 23.267305, 33.66444 , 19.623518, 21.484121, 20.658697,\n",
       "       18.611052, 17.14398 , 29.35303 , 21.898037, 22.276325, 17.877502,\n",
       "       31.371681, 32.536854, 23.798769, 24.465458, 28.028639, 35.187206,\n",
       "       32.239292, 23.135374, 32.467697, 31.655008, 33.406967, 21.58723 ,\n",
       "       36.001358, 35.598476, 30.467505, 24.661335, 24.39739 , 24.372095,\n",
       "       35.794216, 34.621   , 28.896847, 32.79585 , 34.86255 , 28.120447],\n",
       "      dtype=float32)"
      ]
     },
     "execution_count": 51,
     "metadata": {},
     "output_type": "execute_result"
    }
   ],
   "source": [
    "#시각화해서 평가\n",
    "#예측\n",
    "test_predictions=model.predict(normed_test_data).flatten()\n",
    "test_predictions"
   ]
  },
  {
   "cell_type": "code",
   "execution_count": 52,
   "id": "9535a43e-ac75-415c-8a90-2ec0ccd473b1",
   "metadata": {},
   "outputs": [
    {
     "data": {
      "text/plain": [
       "<AxesSubplot:xlabel='mpg'>"
      ]
     },
     "execution_count": 52,
     "metadata": {},
     "output_type": "execute_result"
    },
    {
     "data": {
      "image/png": "[encoded data removed]",
      "text/plain": [
       "<Figure size 640x480 with 1 Axes>"
      ]
     },
     "metadata": {},
     "output_type": "display_data"
    }
   ],
   "source": [
    "sns.regplot(x=test_labels,y=test_predictions)"
   ]
  },
  {
   "cell_type": "code",
   "execution_count": 53,
   "id": "f1a53830-b810-4684-9979-e9606385bd0d",
   "metadata": {},
   "outputs": [
    {
     "data": {
      "text/plain": [
       "<AxesSubplot:xlabel='mpg'>"
      ]
     },
     "execution_count": 53,
     "metadata": {},
     "output_type": "execute_result"
    },
    {
     "data": {
      "image/png": "[encoded data removed]",
      "text/plain": [
       "<Figure size 640x480 with 1 Axes>"
      ]
     },
     "metadata": {},
     "output_type": "display_data"
    }
   ],
   "source": [
    "sns.residplot(x=test_labels,y=test_predictions)"
   ]
  },
  {
   "cell_type": "code",
   "execution_count": 54,
   "id": "649ce2f7-7474-4c90-b91b-7fe7e73c32c5",
   "metadata": {},
   "outputs": [
    {
     "data": {
      "text/plain": [
       "381   -1.379002\n",
       "388    2.896847\n",
       "391   -3.204151\n",
       "395    2.862549\n",
       "397   -2.879553\n",
       "Name: mpg, dtype: float64"
      ]
     },
     "execution_count": 54,
     "metadata": {},
     "output_type": "execute_result"
    }
   ],
   "source": [
    "#오차 분포\n",
    "error=test_predictions-test_labels\n",
    "error.tail()"
   ]
  },
  {
   "cell_type": "code",
   "execution_count": 55,
   "id": "18e9392c-7e27-4bbd-b4a9-e05eb3166007",
   "metadata": {},
   "outputs": [
    {
     "data": {
      "text/plain": [
       "<AxesSubplot:>"
      ]
     },
     "execution_count": 55,
     "metadata": {},
     "output_type": "execute_result"
    },
    {
     "data": {
      "image/png": "[encoded data removed]",
      "text/plain": [
       "<Figure size 640x480 with 1 Axes>"
      ]
     },
     "metadata": {},
     "output_type": "display_data"
    }
   ],
   "source": [
    "error.hist()"
   ]
  },
  {
   "cell_type": "code",
   "execution_count": null,
   "id": "a1cfef63-b477-4b88-b9d7-47f4e6229097",
   "metadata": {},
   "outputs": [],
   "source": []
  }
 ],
 "metadata": {
  "kernelspec": {
   "display_name": "Python 3 (ipykernel)",
   "language": "python",
   "name": "python3"
  },
  "language_info": {
   "codemirror_mode": {
    "name": "ipython",
    "version": 3
   },
   "file_extension": ".py",
   "mimetype": "text/x-python",
   "name": "python",
   "nbconvert_exporter": "python",
   "pygments_lexer": "ipython3",
   "version": "3.9.12"
  }
 },
 "nbformat": 4,
 "nbformat_minor": 5
}
