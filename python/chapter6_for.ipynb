{
 "cells": [
  {
   "cell_type": "code",
   "execution_count": 10,
   "id": "0c7e04fd-ba1d-4846-866f-1c7b52312a82",
   "metadata": {},
   "outputs": [
    {
     "name": "stdout",
     "output_type": "stream",
     "text": [
      "1\n",
      "2\n",
      "3\n",
      "4\n",
      "5\n"
     ]
    }
   ],
   "source": [
    "count=1 #반복문 기본구조\n",
    "while count<=5:\n",
    "    print(count)\n",
    "    count+=1"
   ]
  },
  {
   "cell_type": "code",
   "execution_count": 11,
   "id": "8120efb1-3e4c-430c-a13b-181bf8bfdc7f",
   "metadata": {},
   "outputs": [
    {
     "name": "stdout",
     "output_type": "stream",
     "text": [
      "1\n",
      "2\n",
      "3\n",
      "4\n"
     ]
    }
   ],
   "source": [
    "count=1 #반복문 (break)\n",
    "while True:\n",
    "    print(count)\n",
    "    if count==4:\n",
    "        break\n",
    "    count+=1\n",
    "    \n",
    "   "
   ]
  },
  {
   "cell_type": "code",
   "execution_count": 12,
   "id": "493e11aa-8145-4484-870e-5a8b1054fda0",
   "metadata": {},
   "outputs": [
    {
     "name": "stdout",
     "output_type": "stream",
     "text": [
      "String to capitalize [type q to quit]: a\n",
      "A\n",
      "String to capitalize [type q to quit]: b\n",
      "B\n",
      "String to capitalize [type q to quit]: afe\n",
      "Afe\n",
      "String to capitalize [type q to quit]: q\n"
     ]
    }
   ],
   "source": [
    "while True:\n",
    "    stuff=input(\"String to capitalize [type q to quit]:\")\n",
    "    if stuff=='q':\n",
    "        break\n",
    "    print(stuff.capitalize())"
   ]
  },
  {
   "cell_type": "code",
   "execution_count": 13,
   "id": "3133b4bc-e79c-46ba-a6d6-f27c4776bb37",
   "metadata": {},
   "outputs": [
    {
     "name": "stdout",
     "output_type": "stream",
     "text": [
      "integer,please [q to quit] 1\n",
      "1\n",
      "integer,please [q to quit] 2\n",
      "integer,please [q to quit] 3\n",
      "3\n",
      "integer,please [q to quit] q\n"
     ]
    }
   ],
   "source": [
    "while True:  #(continue)\n",
    "    value=input(\"integer,please [q to quit]\")\n",
    "    if value=='q':\n",
    "        break\n",
    "    number=int(value)\n",
    "    if number%2==0:\n",
    "        continue\n",
    "    print(value)"
   ]
  },
  {
   "cell_type": "code",
   "execution_count": 17,
   "id": "70e39dc7-8ff6-4400-ae97-13ffe95e2469",
   "metadata": {},
   "outputs": [
    {
     "name": "stdout",
     "output_type": "stream",
     "text": [
      "pound even number 6\n"
     ]
    }
   ],
   "source": [
    "numbers=[1,3,5,6]\n",
    "position=0\n",
    "while position<len(numbers):\n",
    "    number=numbers[position]\n",
    "    if number%2==0:\n",
    "        print('found even number',number)\n",
    "        break\n",
    "    position+=1\n",
    "else:\n",
    "    print('no even number found')"
   ]
  },
  {
   "cell_type": "code",
   "execution_count": 20,
   "id": "5270b504-2b6b-46cc-942d-d88549d9907a",
   "metadata": {},
   "outputs": [
    {
     "name": "stdout",
     "output_type": "stream",
     "text": [
      "t\n",
      "h\n",
      "u\n",
      "d\n",
      "t\n",
      "h\n",
      "u\n",
      "d\n"
     ]
    }
   ],
   "source": [
    "word='thud'\n",
    "offset=0\n",
    "while offset<len(word):\n",
    "    print(word[offset])\n",
    "    offset+=1\n",
    "for letter in word:\n",
    "    print(letter)"
   ]
  },
  {
   "cell_type": "code",
   "execution_count": 22,
   "id": "9f31562f-7348-4d5f-b2b1-0a39ae910ff5",
   "metadata": {},
   "outputs": [
    {
     "name": "stdout",
     "output_type": "stream",
     "text": [
      "t\n",
      "h\n",
      "u\n"
     ]
    }
   ],
   "source": [
    "for letter in word:\n",
    "    print(letter)\n",
    "    if letter=='u':\n",
    "        break\n",
    "        "
   ]
  },
  {
   "cell_type": "code",
   "execution_count": 25,
   "id": "dad36586-363d-4af5-af6d-27f3f754f542",
   "metadata": {},
   "outputs": [
    {
     "name": "stdout",
     "output_type": "stream",
     "text": [
      "0\n",
      "1\n",
      "2\n"
     ]
    }
   ],
   "source": [
    "for x in range(0,3):\n",
    "    print(x)"
   ]
  },
  {
   "cell_type": "code",
   "execution_count": 54,
   "id": "0b005579-f519-4821-9519-5cc776d1f7b3",
   "metadata": {},
   "outputs": [
    {
     "name": "stdout",
     "output_type": "stream",
     "text": [
      "[2001, 2002, 2003, 2004, 2005]\n",
      "2003\n",
      "2005\n"
     ]
    }
   ],
   "source": [
    "years_list=list()\n",
    "year=2001\n",
    "count=0\n",
    "while count<=4:\n",
    "    years_list.append(year)\n",
    "    year+=1\n",
    "    count+=1\n",
    "print(years_list)\n",
    "print(years_list[2])\n",
    "years_list.sort(reverse=True)\n",
    "print(years_list[0])"
   ]
  },
  {
   "cell_type": "code",
   "execution_count": 85,
   "id": "2750d825-698f-49d0-8dae-2407c99b5826",
   "metadata": {},
   "outputs": [
    {
     "name": "stdout",
     "output_type": "stream",
     "text": [
      "Mozzarella\n",
      "Cinderella\n",
      "Salmonella\n",
      "['mozzarella', 'cinderella', 'salmonella']\n",
      "reset\n",
      "MOZZARELLA\n"
     ]
    }
   ],
   "source": [
    "things=[\"mozzarella\",\"cinderella\",\"salmonella\"]\n",
    "\n",
    "count=0\n",
    "while count<=len(things)-1:\n",
    "    print(things[count].capitalize())\n",
    "    count+=1\n",
    "print(things)\n",
    "print('reset')\n",
    "count=0\n",
    "while count<=len(things)-1:\n",
    "    if things[count].find(\"mozza\")>-1:\n",
    "        print(things[count].upper())\n",
    "        break\n",
    "    count+=1"
   ]
  },
  {
   "cell_type": "code",
   "execution_count": 97,
   "id": "886bbcc1-cd6a-40b5-ba77-584b9b42a1a5",
   "metadata": {},
   "outputs": [
    {
     "name": "stdout",
     "output_type": "stream",
     "text": [
      "Mozzarella\n",
      "MOZZARELLA\n",
      "Cinderella\n",
      "Salmonella\n",
      "reset\n",
      "MOZZARELLA\n",
      "CINDERELLA\n",
      "SALMONELLA\n",
      "['mozzarella', 'cinderella', 'salmonella']\n"
     ]
    }
   ],
   "source": [
    "for rella in things:\n",
    "    print(rella.capitalize())\n",
    "    if rella.find('mozza')>-1:\n",
    "        print(rella.upper())\n",
    "print('reset')\n",
    "for rella in things:\n",
    "    print(rella.upper())\n"
   ]
  },
  {
   "cell_type": "code",
   "execution_count": 110,
   "id": "34c60ddf-a11f-436f-84be-61f3d827d9ce",
   "metadata": {},
   "outputs": [
    {
     "name": "stdout",
     "output_type": "stream",
     "text": [
      "['mozzarella', 'cinderella']\n"
     ]
    }
   ],
   "source": [
    "count=0\n",
    "while count<=len(things)-1:\n",
    "    if things[count].find('salmo')>-1:\n",
    "        things.pop(count)\n",
    "    count+=1\n",
    "print(things)"
   ]
  },
  {
   "cell_type": "code",
   "execution_count": 112,
   "id": "0bb28954-8e2f-404e-a76a-780c13f80d82",
   "metadata": {},
   "outputs": [
    {
     "name": "stdout",
     "output_type": "stream",
     "text": [
      "['Harpo', 'Groucho', 'Chico']\n"
     ]
    }
   ],
   "source": [
    "surprise=['Groucho','Chico','Harpo']\n",
    "surprise.sort(reverse=True)\n",
    "print(surprise)"
   ]
  },
  {
   "cell_type": "code",
   "execution_count": 1,
   "id": "20b5c2b9-75eb-4604-ac45-75b020970060",
   "metadata": {},
   "outputs": [
    {
     "name": "stdout",
     "output_type": "stream",
     "text": [
      "t\n",
      "h\n",
      "u\n",
      "d\n",
      "s\n"
     ]
    }
   ],
   "source": [
    "word=\"thuds\"\n",
    "\n",
    "for item in word:\n",
    "    print(item)\n"
   ]
  },
  {
   "cell_type": "code",
   "execution_count": 2,
   "id": "c0458242-6afd-4684-947d-c473cf019630",
   "metadata": {},
   "outputs": [
    {
     "name": "stdout",
     "output_type": "stream",
     "text": [
      "t\n",
      "h\n",
      "u\n"
     ]
    }
   ],
   "source": [
    "for item in word:\n",
    "    if item==\"d\":\n",
    "        break\n",
    "    print(item)"
   ]
  },
  {
   "cell_type": "code",
   "execution_count": 8,
   "id": "a7690e58-aa79-4360-84f1-f7be3a0fc6b9",
   "metadata": {},
   "outputs": [
    {
     "name": "stdout",
     "output_type": "stream",
     "text": [
      "0\n",
      "2\n",
      "4\n",
      "6\n",
      "8\n",
      "[0, 2, 4, 6, 8]\n",
      "[8, 6, 4, 2, 0]\n",
      "[8, 6, 4, 2]\n"
     ]
    }
   ],
   "source": [
    "#연속적인 숫자를 간편히 쓸수있게\n",
    "list=[]\n",
    "for item in range(0,9,2):\n",
    "    print(item)\n",
    "    list.append(item)\n",
    "print(list)\n",
    "list.sort(reverse=True)\n",
    "print(list)\n",
    "list.pop()#뒤에서 부터 지운다\n",
    "print(list)"
   ]
  },
  {
   "cell_type": "code",
   "execution_count": 13,
   "id": "cbdcbd5e-8375-4061-a356-50a64c1cadfb",
   "metadata": {},
   "outputs": [
    {
     "name": "stdout",
     "output_type": "stream",
     "text": [
      "[-1, 0, 1, 2, 3, 4, 5, 6, 7, 8]\n",
      "[-1, 0, 1, 2, 3, 4, 5, 6, 7]\n"
     ]
    }
   ],
   "source": [
    "list1=[]\n",
    "for item in range(-1,9):\n",
    "    list1.append(item)\n",
    "print(list1)\n",
    "list1.pop()\n",
    "print(list1)"
   ]
  },
  {
   "cell_type": "code",
   "execution_count": 1,
   "id": "abf17107-1e4e-406d-9131-fac857cea310",
   "metadata": {},
   "outputs": [
    {
     "name": "stdout",
     "output_type": "stream",
     "text": [
      "[3, 2, 1, 0]\n"
     ]
    }
   ],
   "source": [
    "list=[]\n",
    "for item in range(0,4):\n",
    "    list.append(item)\n",
    "list.sort(reverse=True)\n",
    "print(list)"
   ]
  },
  {
   "cell_type": "code",
   "execution_count": 2,
   "id": "af9ad765-eac5-42f3-8b88-186cecab7af2",
   "metadata": {},
   "outputs": [
    {
     "name": "stdout",
     "output_type": "stream",
     "text": [
      "running function: add_ints\n",
      "positional arguments: (2, 3)\n",
      "keyword arguments: {}\n",
      "result: 5\n"
     ]
    },
    {
     "data": {
      "text/plain": [
       "5"
      ]
     },
     "execution_count": 2,
     "metadata": {},
     "output_type": "execute_result"
    }
   ],
   "source": [
    "#데커레이트\n",
    "from unittest import result\n",
    "\n",
    "\n",
    "def document_it(func):\n",
    "    def new_function(*args,**kwargs):\n",
    "        print('running function:',func.__name__)\n",
    "        print('positional arguments:',args)\n",
    "        print('keyword arguments:',kwargs)\n",
    "        result = func(*args,**kwargs)\n",
    "        print('result:',result)\n",
    "        return result\n",
    "    return new_function\n",
    "\n",
    "@document_it\n",
    "def add_ints(a,b):\n",
    "    return a+b\n",
    "\n",
    "add_ints(2,3)"
   ]
  },
  {
   "cell_type": "code",
   "execution_count": null,
   "id": "1aaeaec9",
   "metadata": {},
   "outputs": [],
   "source": []
  }
 ],
 "metadata": {
  "kernelspec": {
   "display_name": "Python 3 (ipykernel)",
   "language": "python",
   "name": "python3"
  },
  "language_info": {
   "codemirror_mode": {
    "name": "ipython",
    "version": 3
   },
   "file_extension": ".py",
   "mimetype": "text/x-python",
   "name": "python",
   "nbconvert_exporter": "python",
   "pygments_lexer": "ipython3",
   "version": "3.9.12"
  },
  "vscode": {
   "interpreter": {
    "hash": "afb734500600fd355917ca529030176ea0ca205570884b88f2f6f7d791fd3fbe"
   }
  }
 },
 "nbformat": 4,
 "nbformat_minor": 5
}
