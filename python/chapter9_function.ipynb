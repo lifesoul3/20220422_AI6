{
 "cells": [
  {
   "cell_type": "code",
   "execution_count": null,
   "id": "30a92fa4-0b86-40f3-b248-026977261171",
   "metadata": {},
   "outputs": [
    {
     "name": "stdout",
     "output_type": "stream",
     "text": [
      "hi\n"
     ]
    }
   ],
   "source": [
    "def make_number():\n",
    "    print('hi')\n",
    "    \n",
    "make_number()"
   ]
  },
  {
   "cell_type": "code",
   "execution_count": null,
   "id": "72f4cfaa-72f6-48ac-935b-0e1d857f132e",
   "metadata": {},
   "outputs": [
    {
     "name": "stdout",
     "output_type": "stream",
     "text": [
      "9\n"
     ]
    }
   ],
   "source": [
    "def make_N1(a):\n",
    "    print(a*a)\n",
    "make_N1(3)"
   ]
  },
  {
   "cell_type": "code",
   "execution_count": null,
   "id": "75a8d3db-1009-4e2f-864d-a6be40953ad8",
   "metadata": {},
   "outputs": [
    {
     "name": "stdout",
     "output_type": "stream",
     "text": [
      "4\n"
     ]
    }
   ],
   "source": [
    "def make_N2(a):\n",
    "    return a*a\n",
    "print(make_N2(2))"
   ]
  },
  {
   "cell_type": "code",
   "execution_count": null,
   "id": "21c2bd86-2de0-433b-9d5f-e9936ada75c9",
   "metadata": {},
   "outputs": [
    {
     "name": "stdout",
     "output_type": "stream",
     "text": [
      "oh\n"
     ]
    }
   ],
   "source": [
    "def agree():\n",
    "    return True\n",
    "if agree():\n",
    "    print(\"oh\")"
   ]
  },
  {
   "cell_type": "code",
   "execution_count": null,
   "id": "93a18978-c759-4d82-951f-c8da0ece3d24",
   "metadata": {},
   "outputs": [
    {
     "data": {
      "text/plain": [
       "18"
      ]
     },
     "execution_count": 33,
     "metadata": {},
     "output_type": "execute_result"
    }
   ],
   "source": [
    "def nums(a,b):\n",
    "    sum=0\n",
    "    for item in a:\n",
    "        sum+=item\n",
    "    sum+=b\n",
    "    return sum\n",
    "lists=[1,2,3,4,5]\n",
    "nums(lists,3)\n"
   ]
  },
  {
   "cell_type": "code",
   "execution_count": null,
   "id": "84151395-2fa6-4846-9abe-079da36f4617",
   "metadata": {},
   "outputs": [
    {
     "name": "stdout",
     "output_type": "stream",
     "text": [
      "no thing\n"
     ]
    }
   ],
   "source": [
    "def do_nothing():\n",
    "    pass\n",
    "thing=do_nothing()\n",
    "if thing is None:\n",
    "    print(\"no thing\")\n",
    "else:\n",
    "    print(\"some thing\")"
   ]
  },
  {
   "cell_type": "code",
   "execution_count": null,
   "id": "09c1050a-a08b-4ec5-9a78-c80258a0559a",
   "metadata": {},
   "outputs": [
    {
     "name": "stdout",
     "output_type": "stream",
     "text": [
      "0 is False\n",
      "0.1 is True\n",
      " is False\n",
      "a is True\n",
      "[0] is True\n",
      "[] is False\n",
      "{} is False\n"
     ]
    }
   ],
   "source": [
    "def whatis(thing):\n",
    "    if thing is None:\n",
    "        print(thing,\"is None\")\n",
    "    elif thing:\n",
    "        print(thing,\"is True\")\n",
    "    else:\n",
    "        print(thing,\"is False\")\n",
    "whatis(0)\n",
    "whatis(0.1)\n",
    "whatis(\"\")\n",
    "whatis(\"a\")\n",
    "whatis([0])\n",
    "whatis([])\n",
    "whatis({})\n"
   ]
  },
  {
   "cell_type": "code",
   "execution_count": null,
   "id": "0f4399fc-7136-4b74-89c9-5848ad30197e",
   "metadata": {},
   "outputs": [
    {
     "data": {
      "text/plain": [
       "{'wine': 'w', 'entree': 'e', 'dessert': 'd'}"
      ]
     },
     "execution_count": 36,
     "metadata": {},
     "output_type": "execute_result"
    }
   ],
   "source": [
    "def menu(wine=\"w\",entree=\"a\",dessert=\"b\"):\n",
    "    return{\"wine\":wine,\"entree\":entree,\"dessert\":dessert}\n",
    "menu(\"a\",\"b\",\"c\")\n",
    "menu(entree=\"e\",dessert=\"d\",wine=\"w\")"
   ]
  },
  {
   "cell_type": "code",
   "execution_count": null,
   "id": "639f9b63-e140-4771-b633-8d2adee9d7dd",
   "metadata": {},
   "outputs": [
    {
     "data": {
      "text/plain": [
       "{'wine': 'fron', 'entree': 'hi', 'dessert': 'dessert'}"
      ]
     },
     "execution_count": 37,
     "metadata": {},
     "output_type": "execute_result"
    }
   ],
   "source": [
    "list3=[1,2,3,4,5]\n",
    "list3.sort(reverse=True)\n",
    "menu(\"fron\",dessert=\"dessert\",entree=\"hi\")"
   ]
  },
  {
   "cell_type": "code",
   "execution_count": null,
   "id": "15050483-f94f-47d6-a4e7-6d3eb5112a45",
   "metadata": {},
   "outputs": [
    {
     "data": {
      "text/plain": [
       "{'wine': 'wines', 'entree': 'a', 'dessert': 'b'}"
      ]
     },
     "execution_count": 38,
     "metadata": {},
     "output_type": "execute_result"
    }
   ],
   "source": [
    "menu(wine=\"wines\")"
   ]
  },
  {
   "cell_type": "code",
   "execution_count": null,
   "id": "2c5ddeef-ccc8-4589-893f-b407fc865b9e",
   "metadata": {},
   "outputs": [
    {
     "name": "stdout",
     "output_type": "stream",
     "text": [
      "['a']\n",
      "['a', 'b']\n",
      "['a', 'b', 'c']\n"
     ]
    }
   ],
   "source": [
    "def buggy(arg, result=[]):\n",
    "    result.append(arg)\n",
    "    print(result)\n",
    "buggy('a')\n",
    "buggy('b')\n",
    "buggy('c')"
   ]
  },
  {
   "cell_type": "code",
   "execution_count": null,
   "id": "0d4f70b9-8c93-4139-b5aa-e5a633a85a89",
   "metadata": {},
   "outputs": [
    {
     "name": "stdout",
     "output_type": "stream",
     "text": [
      "['a']\n",
      "['b']\n",
      "['c']\n"
     ]
    }
   ],
   "source": [
    "def buggy(arg):\n",
    "    result=[]\n",
    "    result.append(arg)\n",
    "    print(result)\n",
    "buggy('a')\n",
    "buggy('b')\n",
    "buggy('c')"
   ]
  },
  {
   "cell_type": "code",
   "execution_count": null,
   "id": "ca142d28-0df5-4365-8081-2a81a7a8b76c",
   "metadata": {},
   "outputs": [
    {
     "name": "stdout",
     "output_type": "stream",
     "text": [
      "['harry', 'ron', 'hermione']\n"
     ]
    }
   ],
   "source": [
    "def good():\n",
    "    goodman=['harry','ron','hermione']\n",
    "    return goodman\n",
    "print(good())"
   ]
  },
  {
   "cell_type": "code",
   "execution_count": null,
   "id": "44dd38d2-922a-4d9a-aae6-f67450a1083f",
   "metadata": {},
   "outputs": [
    {
     "name": "stdout",
     "output_type": "stream",
     "text": [
      "1\n",
      "3\n",
      "5\n",
      "5 this is answer\n",
      "7\n",
      "9\n"
     ]
    }
   ],
   "source": [
    "a=range(10)\n",
    "def get_odds(a):\n",
    "    count=0\n",
    "    for item in a:\n",
    "        if item%2!=0:\n",
    "            count+=1\n",
    "            print(item)\n",
    "            if count==3:\n",
    "                print(item,\"this is answer\")\n",
    "   \n",
    "get_odds(a)"
   ]
  },
  {
   "cell_type": "code",
   "execution_count": null,
   "id": "98707551-0cab-45ce-b7ed-403c79bb27fc",
   "metadata": {},
   "outputs": [
    {
     "name": "stdout",
     "output_type": "stream",
     "text": [
      "<class 'str'> s\n",
      "<class 'int'> 3\n",
      "<class 'str'> j\n",
      "<class 'str'> h\n",
      "<class 'str'> g\n",
      "<class 'int'> 9\n",
      "<class 'str'> s\n",
      "<class 'str'> b\n",
      "<class 'int'> 3\n"
     ]
    }
   ],
   "source": [
    "str=\"s3jhg9sb3\"\n",
    "def changes(a):\n",
    "    try:\n",
    "        print(type(int(a)),a)\n",
    "    except:\n",
    "        print(type(a),a)\n",
    "for item in str:\n",
    "    changes(item)\n"
   ]
  },
  {
   "cell_type": "code",
   "execution_count": null,
   "id": "aaa74720-6a98-4ba1-b1cf-f65e58f10e0d",
   "metadata": {},
   "outputs": [],
   "source": [
    "def documentit(func):\n",
    "    def newfun(*args,**kwargs):\n",
    "        print('runnig function:',func.__name__)\n",
    "        print('positional arg:',args)\n",
    "        print('keyword arg:',kwargs)\n",
    "        result=func(*args,**kwargs)\n",
    "        print('result:',result)\n",
    "        return result\n",
    "    return newfun"
   ]
  },
  {
   "cell_type": "code",
   "execution_count": null,
   "id": "f41b3c38-4d92-45c6-8ee5-814672f4ca31",
   "metadata": {},
   "outputs": [
    {
     "name": "stdout",
     "output_type": "stream",
     "text": [
      "runnig function: add_int\n",
      "positional arg: (2, 6)\n",
      "keyword arg: {}\n",
      "result: 8\n"
     ]
    },
    {
     "data": {
      "text/plain": [
       "8"
      ]
     },
     "execution_count": 45,
     "metadata": {},
     "output_type": "execute_result"
    }
   ],
   "source": [
    "\n",
    "def add_int(a,b):\n",
    "    return a+b\n",
    "cooler_addints=documentit(add_int)\n",
    "cooler_addints(2,6)"
   ]
  },
  {
   "cell_type": "code",
   "execution_count": null,
   "id": "16dc04ec-ea9c-49c1-b98c-64d81a606441",
   "metadata": {},
   "outputs": [
    {
     "name": "stdout",
     "output_type": "stream",
     "text": [
      "runnig function: add_ints\n",
      "positional arg: (3, 4)\n",
      "keyword arg: {}\n",
      "result: 12\n"
     ]
    },
    {
     "data": {
      "text/plain": [
       "12"
      ]
     },
     "execution_count": 46,
     "metadata": {},
     "output_type": "execute_result"
    }
   ],
   "source": [
    "@documentit\n",
    "def add_ints(a,b):\n",
    "    return a*b\n",
    "add_ints(3,4)"
   ]
  },
  {
   "cell_type": "code",
   "execution_count": null,
   "id": "6b7d9ddf-1c13-44a0-a5fd-25ea4ee9b873",
   "metadata": {},
   "outputs": [
    {
     "name": "stdout",
     "output_type": "stream",
     "text": [
      "runnig function: newfun\n",
      "positional arg: (2, 7)\n",
      "keyword arg: {}\n",
      "result: 81\n"
     ]
    },
    {
     "data": {
      "text/plain": [
       "81"
      ]
     },
     "execution_count": 47,
     "metadata": {},
     "output_type": "execute_result"
    }
   ],
   "source": [
    "def square_it(func):\n",
    "    def newfun(*args,**kwargs):\n",
    "        result=func(*args,**kwargs)\n",
    "        return result*result\n",
    "    return newfun\n",
    "\n",
    "@documentit\n",
    "@square_it\n",
    "def add_ints(a,b):\n",
    "    return a+b\n",
    "add_ints(2,7)"
   ]
  },
  {
   "cell_type": "code",
   "execution_count": null,
   "id": "e251f7d2-6460-49ef-88ba-54b069722c4c",
   "metadata": {},
   "outputs": [
    {
     "name": "stdout",
     "output_type": "stream",
     "text": [
      "runnig function: add_ints\n",
      "positional arg: (2, 7)\n",
      "keyword arg: {}\n",
      "result: 9\n"
     ]
    },
    {
     "data": {
      "text/plain": [
       "81"
      ]
     },
     "execution_count": 48,
     "metadata": {},
     "output_type": "execute_result"
    }
   ],
   "source": [
    "@square_it\n",
    "@documentit\n",
    "def add_ints(a,b):\n",
    "    return a+b\n",
    "add_ints(2,7)"
   ]
  },
  {
   "cell_type": "code",
   "execution_count": null,
   "id": "0ef54895-4705-4544-861c-f8019d2d2b3e",
   "metadata": {},
   "outputs": [
    {
     "data": {
      "text/plain": [
       "('this is ', 2)"
      ]
     },
     "execution_count": 49,
     "metadata": {},
     "output_type": "execute_result"
    }
   ],
   "source": [
    "class car():\n",
    "    def car(self,a):\n",
    "        self.a=a\n",
    "        return \"this is \",a\n",
    "c=car()\n",
    "c.car(2)\n"
   ]
  },
  {
   "cell_type": "code",
   "execution_count": null,
   "id": "b094adce-5ae4-41c5-bd82-75719dd59f60",
   "metadata": {},
   "outputs": [
    {
     "name": "stdout",
     "output_type": "stream",
     "text": [
      "['a']\n",
      "0\n"
     ]
    }
   ],
   "source": [
    "#6\t14\n",
    "#3진법 숫자 1,2,4를 사용\n",
    "#if 2진법 01이라면 3=>11 2=>10 4=>100이다\n",
    "#2진수 만들기 6=>110\n",
    "#0 1 10 11 100 101 110 111 \n",
    "s=\"a\"\n",
    "s=list(s)\n",
    "count=len(s)-1\n",
    "while count>=0:\n",
    "    print(s)\n",
    "    print(count)\n",
    "    if len(s)<=1:\n",
    "        break\n",
    "    elif s[count]==s[count-1]:\n",
    "        s.pop(count-1)\n",
    "        s.pop(count-1)\n",
    "        count=len(s)-1\n",
    "    count-=1\n",
    "\n",
    "if bool(s)==False:\n",
    "    answer=0\n",
    "else:\n",
    "    answer=1"
   ]
  },
  {
   "cell_type": "code",
   "execution_count": null,
   "id": "35ce4b59-4a12-45d8-930b-becb3c145547",
   "metadata": {},
   "outputs": [],
   "source": [
    "p=[2, 1, 3, 2]\n",
    "location=2 #최소0\n",
    "#list=[[2,3][1,4][3,1][2,2]]\n",
    "\n"
   ]
  },
  {
   "cell_type": "code",
   "execution_count": null,
   "id": "96413b34-cee6-40d2-89ff-56c7965bf3ae",
   "metadata": {},
   "outputs": [
    {
     "name": "stdout",
     "output_type": "stream",
     "text": [
      "[[2, 3], [1, 4], [3, 1], [2, 2]]\n",
      "1\n"
     ]
    }
   ],
   "source": [
    "#list=[[2,3][1,4][3,1][2,2]]\n",
    "p=[2, 1, 3, 2]\n",
    "location=2\n",
    "p1=sorted(p)\n",
    "count=1\n",
    "area=0\n",
    "while count<=len(p):\n",
    "    if p1[len(p1)-1]==p[area]:\n",
    "        p[area]=[p[area],count]\n",
    "        p1.pop()\n",
    "        count+=1\n",
    "    area+=1\n",
    "    if len(p)==area:\n",
    "        area=0\n",
    "print(p)\n",
    "print(p[location][1])"
   ]
  },
  {
   "cell_type": "code",
   "execution_count": null,
   "id": "5eccf519-bc9e-41be-85a2-f0ef844e974a",
   "metadata": {},
   "outputs": [
    {
     "name": "stdout",
     "output_type": "stream",
     "text": [
      "0 0\n",
      "0 1\n",
      "0 2\n",
      "0 3\n",
      "0 4\n",
      "1 1\n",
      "1 2\n",
      "1 3\n",
      "1 4\n",
      "2 2\n",
      "2 3\n",
      "2 4\n",
      "3 3\n",
      "3 4\n",
      "4 4\n"
     ]
    }
   ],
   "source": [
    "#[1, 2, 3, 2, 3]\t[4, 3, 1, 1, 0]\n",
    "price=[1, 2, 3, 2, 3]\n",
    "count_main=0\n",
    "count_sub=0\n",
    "while count_main<=len(price):\n",
    "    count_sub=count_main\n",
    "    while count_sub<len(price):\n",
    "        print(count_main,count_sub)\n",
    "        count_sub+=1\n",
    "    count_main+=1\n"
   ]
  },
  {
   "cell_type": "code",
   "execution_count": null,
   "id": "60960a9a-2913-4b71-963a-6eb4a664ab3d",
   "metadata": {},
   "outputs": [
    {
     "name": "stdout",
     "output_type": "stream",
     "text": [
      "1 1\n",
      "1 2\n",
      "1 3\n",
      "1 2\n",
      "2 2\n",
      "2 3\n",
      "2 2\n",
      "3 3\n",
      "3 2\n",
      "2 2\n"
     ]
    }
   ],
   "source": [
    "price=[1,2,3,2,3]#리스트 마지막은 0을 넣으면 된다\n",
    "#price=[1,2]\n",
    "for i in range(len(price)):\n",
    "    for j in range(i,len(price)-1):\n",
    "        print(price[i],price[j])"
   ]
  },
  {
   "cell_type": "code",
   "execution_count": null,
   "id": "8aaed4d5-c103-43e1-89e8-e164f7bcbcc8",
   "metadata": {},
   "outputs": [
    {
     "name": "stdout",
     "output_type": "stream",
     "text": [
      "2 3 1 d hi\n",
      "<class 'tuple'>\n",
      "1 2 3 d f hi\n",
      "(1, 2, 3, 'd', 'f', 'hi')\n"
     ]
    }
   ],
   "source": [
    "def print_args(*args): # * =>함수를 없이 호출 가능\n",
    "    print(*args,\"hi\")\n",
    "    return *args,'hi'\n",
    "\n",
    "print(type(print_args(2,3,1,'d')))\n",
    "print(print_args(1,2,3,'d','f'))"
   ]
  },
  {
   "cell_type": "markdown",
   "id": "529ee684",
   "metadata": {},
   "source": [
    "hi world"
   ]
  },
  {
   "cell_type": "code",
   "execution_count": null,
   "id": "222495dc",
   "metadata": {},
   "outputs": [
    {
     "name": "stdout",
     "output_type": "stream",
     "text": [
      "<class 'tuple'>\n",
      "((1, 2, 3, 'e', 'y'),)\n"
     ]
    }
   ],
   "source": [
    "def print_kwargs(*kwargs):\n",
    "    return kwargs\n",
    "a=(1,2,3,'e','y')\n",
    "print(type(a))\n",
    "print(print_kwargs(a))"
   ]
  },
  {
   "cell_type": "code",
   "execution_count": null,
   "id": "3e162406",
   "metadata": {},
   "outputs": [
    {
     "name": "stdout",
     "output_type": "stream",
     "text": [
      "Help on function echo in module __main__:\n",
      "\n",
      "echo(anithing)\n",
      "    echo returns its input argument\n",
      "\n"
     ]
    }
   ],
   "source": [
    "def echo(anithing):\n",
    "    \"echo returns its input argument\"\n",
    "    return anithing\n",
    "help(echo)"
   ]
  },
  {
   "cell_type": "code",
   "execution_count": null,
   "id": "b8145042",
   "metadata": {},
   "outputs": [
    {
     "name": "stdout",
     "output_type": "stream",
     "text": [
      "Thud!\n",
      "Mewo!\n",
      "Thod!\n"
     ]
    }
   ],
   "source": [
    "#lamda\n",
    "def edit_story(words,func):\n",
    "    for word in words:\n",
    "        print(func(word))\n",
    "def enliven(word):\n",
    "    return word.capitalize()+'!'\n",
    "\n",
    "stairs=['thud','mewo','thod']\n",
    "edit_story(stairs,enliven)"
   ]
  },
  {
   "cell_type": "code",
   "execution_count": null,
   "id": "74483861",
   "metadata": {},
   "outputs": [
    {
     "name": "stdout",
     "output_type": "stream",
     "text": [
      "Thud!\n",
      "Mewo!\n",
      "Thod!\n"
     ]
    }
   ],
   "source": [
    "#lamda\n",
    "edit_story(stairs, lambda word: word.capitalize()+'!')"
   ]
  },
  {
   "cell_type": "code",
   "execution_count": null,
   "id": "2cfcbf69",
   "metadata": {},
   "outputs": [
    {
     "name": "stdout",
     "output_type": "stream",
     "text": [
      "func1\n"
     ]
    }
   ],
   "source": [
    "def callback_func(func):\n",
    "    func()\n",
    "\n",
    "def func1():\n",
    "    print('func1')\n",
    "\n",
    "callback_func(func1)\n"
   ]
  },
  {
   "cell_type": "code",
   "execution_count": null,
   "id": "f57fef54",
   "metadata": {},
   "outputs": [
    {
     "name": "stdout",
     "output_type": "stream",
     "text": [
      "func1\n"
     ]
    }
   ],
   "source": [
    "callback_func(lambda : print('func1'))"
   ]
  },
  {
   "cell_type": "code",
   "execution_count": null,
   "id": "1a5987a7",
   "metadata": {},
   "outputs": [
    {
     "name": "stdout",
     "output_type": "stream",
     "text": [
      "inside print_global: fruitbat\n"
     ]
    }
   ],
   "source": [
    "#전역 변수\n",
    "animal='fruitbat'\n",
    "def print_global():\n",
    "    print(\"inside print_global:\",animal)\n",
    "print_global()"
   ]
  },
  {
   "cell_type": "code",
   "execution_count": null,
   "id": "6d2971ed",
   "metadata": {},
   "outputs": [
    {
     "name": "stdout",
     "output_type": "stream",
     "text": [
      "inside prnit_global: fruitbat\n",
      "after the change wombat\n"
     ]
    }
   ],
   "source": [
    "def change_and_print_global():\n",
    "    global animal\n",
    "    print(\"inside prnit_global:\",animal)\n",
    "    animal=\"wombat\"\n",
    "    print(\"after the change\",animal)\n",
    "change_and_print_global()"
   ]
  },
  {
   "cell_type": "code",
   "execution_count": null,
   "id": "fa797237",
   "metadata": {},
   "outputs": [
    {
     "name": "stdout",
     "output_type": "stream",
     "text": [
      "1\n",
      "2\n",
      "3\n",
      "cant not 3\n",
      "cant not 4\n"
     ]
    }
   ],
   "source": [
    "short_list=[1,2,3]\n",
    "for i in range(5):\n",
    "    try:\n",
    "        print(short_list[i])\n",
    "    except:\n",
    "        print(\"cant not\",i)"
   ]
  },
  {
   "cell_type": "code",
   "execution_count": 65,
   "id": "069a5504",
   "metadata": {},
   "outputs": [
    {
     "name": "stdout",
     "output_type": "stream",
     "text": [
      "onther error\n",
      "2\n",
      "system quit\n"
     ]
    }
   ],
   "source": [
    "while True:\n",
    "    value=input(\"position [qto quit]?\")\n",
    "    if value=='q':\n",
    "        print('system quit')\n",
    "        break\n",
    "    try:\n",
    "        position=int(value)\n",
    "        print(short_list[position])\n",
    "    except IndexError:\n",
    "        print('bed index:',position)\n",
    "    except:\n",
    "        print('onther error')"
   ]
  },
  {
   "cell_type": "code",
   "execution_count": null,
   "id": "6c79b0a0",
   "metadata": {},
   "outputs": [],
   "source": []
  },
  {
   "cell_type": "code",
   "execution_count": 66,
   "id": "f239c5e6",
   "metadata": {},
   "outputs": [],
   "source": [
    "class UppercaseException(Exception):\n",
    "    pass\n",
    "    "
   ]
  },
  {
   "cell_type": "code",
   "execution_count": 67,
   "id": "364487c6",
   "metadata": {},
   "outputs": [
    {
     "name": "stdout",
     "output_type": "stream",
     "text": [
      "MO\n",
      "i hate upper\n"
     ]
    }
   ],
   "source": [
    "words=[\"eenie\",\"meenie\",\"miny\",\"MO\"]\n",
    "for item in words:\n",
    "    if item.isupper():\n",
    "        try:\n",
    "            print(item)\n",
    "            raise UppercaseException()\n",
    "        except:\n",
    "            print(\"i hate upper\")\n"
   ]
  },
  {
   "cell_type": "code",
   "execution_count": 68,
   "id": "5ef8979b",
   "metadata": {},
   "outputs": [
    {
     "name": "stdout",
     "output_type": "stream",
     "text": [
      "meow\n"
     ]
    }
   ],
   "source": [
    "class cat():\n",
    "    def cats(a):\n",
    "        print('meow')\n",
    "cat1=cat()\n",
    "cat1.cats()"
   ]
  },
  {
   "cell_type": "code",
   "execution_count": 69,
   "id": "e5f24f5e",
   "metadata": {},
   "outputs": [
    {
     "name": "stdout",
     "output_type": "stream",
     "text": [
      "meow\n"
     ]
    }
   ],
   "source": [
    "class Cat():\n",
    "    def __init__(self,name):\n",
    "        self.name=name\n",
    "        print(\"meow\")\n",
    "\n",
    "furball=Cat('Grumpy')\n"
   ]
  },
  {
   "cell_type": "code",
   "execution_count": 70,
   "id": "c3923d14",
   "metadata": {},
   "outputs": [
    {
     "name": "stdout",
     "output_type": "stream",
     "text": [
      "a little help\n"
     ]
    }
   ],
   "source": [
    "class Car():\n",
    "    def exclaim(self):\n",
    "        print(\"i am a car\")\n",
    "class yogo():\n",
    "    def exclaim(self):\n",
    "        print(\"im a yogo much like a car\")\n",
    "    def need_a_push(self):\n",
    "        print(\"a little help\")\n",
    "\n",
    "cars=Car()\n",
    "yogos=yogo()\n",
    "\n",
    "yogos.need_a_push()"
   ]
  },
  {
   "cell_type": "code",
   "execution_count": 71,
   "id": "3d300207",
   "metadata": {},
   "outputs": [
    {
     "name": "stdout",
     "output_type": "stream",
     "text": [
      "None this is email\n",
      "ffwwEmail\n"
     ]
    }
   ],
   "source": [
    "class Person():\n",
    "    def __init__(self,name):\n",
    "        self.name=name\n",
    "class EmailPerson(Person):\n",
    "    def __init__(self,name,email):\n",
    "        super().__init__(name)\n",
    "        print(super().__init__(name),\"this is email\")\n",
    "        self.email=email\n",
    "        print(self.email)\n",
    "        \n",
    "bob=Person(\"hi\")\n",
    "bob1=EmailPerson('the bob','ffwwEmail')"
   ]
  },
  {
   "cell_type": "code",
   "execution_count": 72,
   "id": "c29631ef",
   "metadata": {},
   "outputs": [
    {
     "data": {
      "text/plain": [
       "[__main__.Nule, __main__.Donkey, __main__.Horse, __main__.Animal, object]"
      ]
     },
     "execution_count": 72,
     "metadata": {},
     "output_type": "execute_result"
    }
   ],
   "source": [
    "class Animal:\n",
    "    def says(self):\n",
    "        return 'i speak!'\n",
    "\n",
    "class Horse(Animal):\n",
    "    def says(self):\n",
    "        return 'Neigh!'\n",
    "\n",
    "class Donkey(Animal):\n",
    "    def says(self):\n",
    "        return 'Hee-haw!'\n",
    "\n",
    "class Nule(Donkey,Horse):\n",
    "    pass\n",
    "\n",
    "Nule.mro()\n"
   ]
  },
  {
   "cell_type": "code",
   "execution_count": 73,
   "id": "61f58fb1",
   "metadata": {},
   "outputs": [
    {
     "data": {
      "text/plain": [
       "30"
      ]
     },
     "execution_count": 73,
     "metadata": {},
     "output_type": "execute_result"
    }
   ],
   "source": [
    "#[3, 2, 7, 2]\t[4, 6, 5, 1]\t2\n",
    "queue1=[3, 2, 7, 2]\n",
    "queue2=[4, 6, 5, 1]\n",
    "def solution(queue1, queue2):\n",
    "    sum=0\n",
    "    answer=0\n",
    "    for i in queue1:\n",
    "        sum+=i\n",
    "    for i in queue2:\n",
    "        sum+=i\n",
    "    if sum%2!=0:\n",
    "        answer-=1\n",
    "        return answer\n",
    "    \n",
    "\n",
    "\n",
    "    answer = sum\n",
    "    return answer\n",
    "\n",
    "solution(queue1,queue2)\n"
   ]
  },
  {
   "cell_type": "code",
   "execution_count": 74,
   "id": "9ca61d38",
   "metadata": {},
   "outputs": [
    {
     "name": "stdout",
     "output_type": "stream",
     "text": [
      "[[9.3, -1], [9.2, -1], [9.1, -1], [9, 0], [9.0, -2]]\n"
     ]
    },
    {
     "ename": "TypeError",
     "evalue": "'str' object is not callable",
     "output_type": "error",
     "traceback": [
      "\u001b[1;31m---------------------------------------------------------------------------\u001b[0m",
      "\u001b[1;31mTypeError\u001b[0m                                 Traceback (most recent call last)",
      "\u001b[1;32mc:\\Users\\User\\python\\chapter9_function.ipynb 셀 48\u001b[0m in \u001b[0;36m<cell line: 21>\u001b[1;34m()\u001b[0m\n\u001b[0;32m     <a href='vscode-notebook-cell:/c%3A/Users/User/python/chapter9_function.ipynb#Y111sZmlsZQ%3D%3D?line=19'>20</a>\u001b[0m strs\u001b[39m=\u001b[39m\u001b[39m'\u001b[39m\u001b[39m'\u001b[39m\n\u001b[0;32m     <a href='vscode-notebook-cell:/c%3A/Users/User/python/chapter9_function.ipynb#Y111sZmlsZQ%3D%3D?line=20'>21</a>\u001b[0m \u001b[39mfor\u001b[39;00m i \u001b[39min\u001b[39;00m \u001b[39mrange\u001b[39m(\u001b[39mlen\u001b[39m(list_a)):\n\u001b[1;32m---> <a href='vscode-notebook-cell:/c%3A/Users/User/python/chapter9_function.ipynb#Y111sZmlsZQ%3D%3D?line=21'>22</a>\u001b[0m     strs\u001b[39m+\u001b[39m\u001b[39m=\u001b[39m\u001b[39mstr\u001b[39;49m(list_a[i][\u001b[39m0\u001b[39;49m])\n\u001b[0;32m     <a href='vscode-notebook-cell:/c%3A/Users/User/python/chapter9_function.ipynb#Y111sZmlsZQ%3D%3D?line=23'>24</a>\u001b[0m strs\u001b[39m.\u001b[39mreplace(\u001b[39m'\u001b[39m\u001b[39m.\u001b[39m\u001b[39m'\u001b[39m,\u001b[39m'\u001b[39m\u001b[39m'\u001b[39m)\n",
      "\u001b[1;31mTypeError\u001b[0m: 'str' object is not callable"
     ]
    }
   ],
   "source": [
    "#[6, 10, 2]\t\"6210\"\n",
    "#[3, 30, 34, 5, 9]\t\"9534330\"\n",
    "a=[91,92,93,9,900]\n",
    "#9 93 92 91 900\n",
    "#  \n",
    "list_a=[]\n",
    "def cals(n,m):\n",
    "    if n>=10:\n",
    "        n=n/10\n",
    "        m-=1\n",
    "        return cals(n,m)\n",
    "    else:\n",
    "        return [n,m]\n",
    "\n",
    "for i in range(len(a)):\n",
    "    list_a.append(cals(a[i],0))\n",
    "\n",
    "list_a.sort(reverse=True)\n",
    "print(list_a)\n",
    "strs=''\n",
    "for i in range(len(list_a)):\n",
    "    strs+=str(list_a[i][0])\n",
    "\n",
    "strs.replace('.','')\n"
   ]
  },
  {
   "cell_type": "code",
   "execution_count": null,
   "id": "37874060",
   "metadata": {},
   "outputs": [
    {
     "data": {
      "text/plain": [
       "24"
      ]
     },
     "execution_count": 76,
     "metadata": {},
     "output_type": "execute_result"
    }
   ],
   "source": [
    "#987\t24\n",
    "\n",
    "def solution(n):\n",
    "    n=list(str(n))\n",
    "    answer=0\n",
    "    for i in range(len(n)):\n",
    "        answer+=int(n[i])\n",
    "    return answer\n",
    "solution(987)\n"
   ]
  },
  {
   "cell_type": "code",
   "execution_count": null,
   "id": "128159c6",
   "metadata": {},
   "outputs": [
    {
     "data": {
      "text/plain": [
       "[3, 3, 2, 1]"
      ]
     },
     "execution_count": 83,
     "metadata": {},
     "output_type": "execute_result"
    }
   ],
   "source": [
    "#12345\t[5,4,3,2,1]\n",
    "def solution(n):\n",
    "    answer=[]\n",
    "    n=list(str(n))\n",
    "    count=len(n)-1\n",
    "    while count>=0:\n",
    "        answer.append(int(n[count]))\n",
    "        count-=1\n",
    "    return answer\n",
    "solution(1233) "
   ]
  },
  {
   "cell_type": "code",
   "execution_count": null,
   "id": "89b06ce8",
   "metadata": {},
   "outputs": [
    {
     "data": {
      "text/plain": [
       "873211"
      ]
     },
     "execution_count": 9,
     "metadata": {},
     "output_type": "execute_result"
    }
   ],
   "source": [
    "#118372\t873211\n",
    "\n",
    "def solution(n):\n",
    "    answer=''\n",
    "    answer_list=[]\n",
    "    n=list(str(n))\n",
    "    for i in range(len(n)):\n",
    "        answer_list.append(int(n[i]))\n",
    "    answer_list.sort(reverse=True)\n",
    "    for i in range(len(n)):\n",
    "        answer+=str(answer_list[i])\n",
    "    answer=int(answer)\n",
    "    return answer\n",
    "\n",
    "solution(118372)"
   ]
  },
  {
   "cell_type": "code",
   "execution_count": null,
   "id": "780fb03f",
   "metadata": {},
   "outputs": [
    {
     "data": {
      "text/plain": [
       "2"
      ]
     },
     "execution_count": 18,
     "metadata": {},
     "output_type": "execute_result"
    }
   ],
   "source": [
    "#121\t144\n",
    "#3\t-1\n",
    "#제곱근\n",
    "\n",
    "def solution(n):\n",
    "    answer=0\n",
    "    if n**(1/2)==int(n**(1/2)):\n",
    "        answer=int(n**(1/2))\n",
    "    else:\n",
    "        answer=-1\n",
    "    return answer\n",
    "\n",
    "solution(4)\n"
   ]
  },
  {
   "cell_type": "code",
   "execution_count": 85,
   "id": "989a10b9",
   "metadata": {},
   "outputs": [
    {
     "data": {
      "text/plain": [
       "[-1]"
      ]
     },
     "execution_count": 85,
     "metadata": {},
     "output_type": "execute_result"
    }
   ],
   "source": [
    "def solution(arr):\n",
    "    answer=[]\n",
    "    arr.remove(min(arr))\n",
    "    answer=arr\n",
    "    if answer==[]:\n",
    "        answer.append(-1)\n",
    "    return answer\n",
    "\n",
    "solution([1])\n"
   ]
  },
  {
   "cell_type": "code",
   "execution_count": 31,
   "id": "5b08bfa4",
   "metadata": {},
   "outputs": [
    {
     "data": {
      "text/plain": [
       "False"
      ]
     },
     "execution_count": 31,
     "metadata": {},
     "output_type": "execute_result"
    }
   ],
   "source": [
    "#\"a234\"\tfalse\n",
    "#\"1234\"\ttrue\n",
    "def solution(s):\n",
    "    answer=False\n",
    "    if 3<len(s)<7:\n",
    "        answer=True\n",
    "    try:\n",
    "        for i in range(len(s)):\n",
    "            int(s[i])\n",
    "    except:\n",
    "        answer=False\n",
    "    return answer\n",
    "solution(\"123456\")"
   ]
  },
  {
   "cell_type": "code",
   "execution_count": 52,
   "id": "75ab9c50",
   "metadata": {},
   "outputs": [
    {
     "data": {
      "text/plain": [
       "'Mr.Brinch'"
      ]
     },
     "execution_count": 52,
     "metadata": {},
     "output_type": "execute_result"
    }
   ],
   "source": [
    "#객체와 클래스\n",
    "class cat():\n",
    "    def cat(*args):\n",
    "        print(\"hi\")\n",
    "    def cats(*args):\n",
    "        print(\"oh\")\n",
    "\n",
    "a_cat=cat()\n",
    "another_cat=cat()\n",
    "a_cat.age=3\n",
    "a_cat.name='Mr.Fuzzy'\n",
    "a_cat.namesis=another_cat\n",
    "\n",
    "a_cat.age\n",
    "a_cat.namesis.name='Mr.Brinch'\n",
    "\n",
    "another_cat.name\n"
   ]
  },
  {
   "cell_type": "code",
   "execution_count": 59,
   "id": "4c6677e0",
   "metadata": {},
   "outputs": [],
   "source": [
    "class Cat():\n",
    "    def __init__(self,name):#초기화 메소드\n",
    "        self.name=name\n",
    "furball=Cat('Grumpy')"
   ]
  },
  {
   "cell_type": "code",
   "execution_count": 73,
   "id": "be26c9c5",
   "metadata": {},
   "outputs": [
    {
     "data": {
      "text/plain": [
       "True"
      ]
     },
     "execution_count": 73,
     "metadata": {},
     "output_type": "execute_result"
    }
   ],
   "source": [
    "class Car():\n",
    "    def exclaim(self):\n",
    "        print(\"i am a car\")\n",
    "class Yogo(Car):\n",
    "    def exclaim(self):\n",
    "        print('i am a yogo but more yogo_ish')    \n",
    "issubclass(Yogo,Car)\n"
   ]
  },
  {
   "cell_type": "code",
   "execution_count": 74,
   "id": "cd2f5551",
   "metadata": {},
   "outputs": [
    {
     "name": "stdout",
     "output_type": "stream",
     "text": [
      "i am a car\n",
      "i am a yogo but more yogo_ish\n"
     ]
    }
   ],
   "source": [
    "acar=Car()\n",
    "acar.exclaim()\n",
    "ayogo=Yogo()\n",
    "ayogo.exclaim()\n",
    "\n"
   ]
  },
  {
   "cell_type": "code",
   "execution_count": 83,
   "id": "8f231d58",
   "metadata": {},
   "outputs": [
    {
     "name": "stdout",
     "output_type": "stream",
     "text": [
      "fudd\n",
      "Doctor fucc\n",
      "A little help here?\n"
     ]
    }
   ],
   "source": [
    "#다형성\n",
    "#method override\n",
    "class person():\n",
    "    def __init__(self,name):\n",
    "        self.name=name\n",
    "class MDperson():\n",
    "    def __init__(self,name):\n",
    "        self.name=\"Doctor \"+name\n",
    "    def need_a_push(self):\n",
    "        print('A little help here?')\n",
    "\n",
    "person1=person(\"fudd\")\n",
    "doctor=MDperson(\"fucc\")\n",
    "print(person1.name)\n",
    "print(doctor.name)\n",
    "doctor.need_a_push()\n"
   ]
  },
  {
   "cell_type": "code",
   "execution_count": 96,
   "id": "bbe66a45",
   "metadata": {},
   "outputs": [
    {
     "data": {
      "text/plain": [
       "'bob@frad.com'"
      ]
     },
     "execution_count": 96,
     "metadata": {},
     "output_type": "execute_result"
    }
   ],
   "source": [
    "class Person():\n",
    "    def __init__(self,name):\n",
    "        self.name=name\n",
    "class EmailPerson(Person):\n",
    "    def __init__(self,name,email):\n",
    "        super().__init__(name)\n",
    "        self.email=email\n",
    "\n",
    "bob=EmailPerson('bob Frad','bob@frad.com')\n",
    "bob.name\n",
    "bob.email\n"
   ]
  },
  {
   "cell_type": "code",
   "execution_count": 111,
   "id": "4fd324cd",
   "metadata": {},
   "outputs": [
    {
     "data": {
      "text/plain": [
       "[__main__.Nule, __main__.Donkey, __main__.Horse, __main__.Animal, object]"
      ]
     },
     "execution_count": 111,
     "metadata": {},
     "output_type": "execute_result"
    }
   ],
   "source": [
    "class Animal:\n",
    "    def says(self):\n",
    "        return 'i speak!'\n",
    "\n",
    "class Horse(Animal):\n",
    "    def says(self):\n",
    "        return 'Neigh!'\n",
    "\n",
    "class Donkey(Animal):\n",
    "    def says(self):\n",
    "        return 'Hee-haw!'\n",
    "\n",
    "class Nule(Donkey,Horse):\n",
    "    pass\n",
    "\n",
    "class Hinny(Horse,Donkey):\n",
    "    pass\n",
    "\n",
    "nule=Nule()\n",
    "nule.says()\n",
    "hinny=Hinny()\n",
    "hinny.says()\n",
    "\n",
    "Nule.mro()\n"
   ]
  },
  {
   "cell_type": "code",
   "execution_count": 118,
   "id": "459ff29e",
   "metadata": {},
   "outputs": [
    {
     "name": "stdout",
     "output_type": "stream",
     "text": [
      "inside the getter\n",
      "inside the setter\n",
      "inside the getter\n"
     ]
    },
    {
     "data": {
      "text/plain": [
       "'Donald'"
      ]
     },
     "execution_count": 118,
     "metadata": {},
     "output_type": "execute_result"
    }
   ],
   "source": [
    "class Duck():\n",
    "    def __init__(self,input_name):\n",
    "        self.hidden_name=input_name\n",
    "    @property\n",
    "    def name(self):\n",
    "        print('inside the getter')\n",
    "        return self.hidden_name\n",
    "    @name.setter\n",
    "    def name(self,input_name):\n",
    "        print('inside the setter')\n",
    "        self.hidden_name=input_name\n",
    "\n",
    "fowl=Duck('Howard')\n",
    "fowl.name\n",
    "fowl.name='Donald'\n",
    "fowl.name"
   ]
  },
  {
   "cell_type": "code",
   "execution_count": 119,
   "id": "388778ae",
   "metadata": {},
   "outputs": [],
   "source": [
    "class Animal:\n",
    "    def says(self):\n",
    "        return 'i speak!'\n",
    "\n",
    "class Horse(Animal):\n",
    "    def says(self):\n",
    "        return 'Neigh!'\n",
    "\n",
    "class Donkey(Animal):\n",
    "    def says(self):\n",
    "        return 'Hee-haw!'\n",
    "\n",
    "class Duck():\n",
    "    def says(self):\n",
    "        return 'quake!'"
   ]
  },
  {
   "cell_type": "code",
   "execution_count": 122,
   "id": "bbb063e4",
   "metadata": {},
   "outputs": [
    {
     "name": "stdout",
     "output_type": "stream",
     "text": [
      "i speak!\n",
      "Neigh!\n",
      "Hee-haw!\n",
      "quake!\n"
     ]
    }
   ],
   "source": [
    "animal=Animal()\n",
    "horse=Horse()\n",
    "donkey=Donkey()\n",
    "duck=Duck()\n",
    "ani_families=[animal,horse,donkey,duck]\n",
    "for i in ani_families:\n",
    "    print(i.says())"
   ]
  },
  {
   "cell_type": "code",
   "execution_count": 125,
   "id": "770f82c6",
   "metadata": {},
   "outputs": [
    {
     "name": "stdout",
     "output_type": "stream",
     "text": [
      "Things\n"
     ]
    },
    {
     "data": {
      "text/plain": [
       "<__main__.Thing at 0x24140092c20>"
      ]
     },
     "execution_count": 125,
     "metadata": {},
     "output_type": "execute_result"
    }
   ],
   "source": [
    "class Thing():\n",
    "    print('Things')\n",
    "\n",
    "thing=Thing()\n",
    "thing.letters='abc'\n",
    "thing.letters\n",
    "Thing()\n"
   ]
  },
  {
   "cell_type": "code",
   "execution_count": 1,
   "id": "b486022b",
   "metadata": {},
   "outputs": [
    {
     "data": {
      "text/plain": [
       "[1, 7]"
      ]
     },
     "execution_count": 1,
     "metadata": {},
     "output_type": "execute_result"
    }
   ],
   "source": []
  },
  {
   "cell_type": "code",
   "execution_count": null,
   "id": "8c912ede",
   "metadata": {},
   "outputs": [],
   "source": []
  }
 ],
 "metadata": {
  "kernelspec": {
   "display_name": "Python 3 (ipykernel)",
   "language": "python",
   "name": "python3"
  },
  "language_info": {
   "codemirror_mode": {
    "name": "ipython",
    "version": 3
   },
   "file_extension": ".py",
   "mimetype": "text/x-python",
   "name": "python",
   "nbconvert_exporter": "python",
   "pygments_lexer": "ipython3",
   "version": "3.9.12"
  },
  "vscode": {
   "interpreter": {
    "hash": "afb734500600fd355917ca529030176ea0ca205570884b88f2f6f7d791fd3fbe"
   }
  }
 },
 "nbformat": 4,
 "nbformat_minor": 5
}
