{
 "cells": [
  {
   "cell_type": "code",
   "execution_count": 93,
   "id": "b110ba11-101f-4929-a71b-19f3b92fb837",
   "metadata": {},
   "outputs": [
    {
     "name": "stdout",
     "output_type": "stream",
     "text": [
      "end\n",
      "7\n",
      "[[7, 7, 1], [10, 10, 1]]\n"
     ]
    }
   ],
   "source": [
    "#n=6\ttimes=[7, 10]\treturn=28\n",
    "#table은 times의 갯수만큼 있음\n",
    "#최소시간을 구하시오\n",
    "#[7,10,14,20,21,28]의 배열을 생성하면 될듯\n",
    "n=1\n",
    "times=[7,10]\n",
    "answer=0\n",
    "#3 6 7 9 10 12\n",
    "for i in range(len(times)):\n",
    "    times[i]=[times[i],times[i],1]\n",
    "\n",
    "for i in range(n):\n",
    "    answer=min(times)\n",
    "    if i+1<n:\n",
    "        times[times.index(min(times))][2]+=1\n",
    "        times[times.index(min(times))][0]=times[times.index(min(times))][1]*times[times.index(min(times))][2]\n",
    "    \n",
    "\n",
    "\n",
    "print('end')\n",
    "print(answer[0])\n",
    "print(times)\n",
    "\n",
    "#times.index(min(times))"
   ]
  },
  {
   "cell_type": "code",
   "execution_count": 129,
   "id": "c71d21dc",
   "metadata": {},
   "outputs": [
    {
     "name": "stdout",
     "output_type": "stream",
     "text": [
      "15\n"
     ]
    },
    {
     "data": {
      "text/plain": [
       "'0001111'"
      ]
     },
     "execution_count": 129,
     "metadata": {},
     "output_type": "execute_result"
    }
   ],
   "source": [
    "#[4, 1, 2, 1]\t4\t2\n",
    "#\n",
    "bin(15)\n",
    "number=[4, 1, 2, 1]\n",
    "target=4\n",
    "#승수 구하기\n",
    "height=1\n",
    "for i in range(len(number)):\n",
    "    height=height*2\n",
    "\n",
    "print(height-1)\n",
    "\n",
    "a=bin(15)\n",
    "a=a.replace('0b','')\n",
    "a=a.zfill(7)\n",
    "a"
   ]
  },
  {
   "cell_type": "code",
   "execution_count": 132,
   "id": "bd370e56",
   "metadata": {},
   "outputs": [
    {
     "name": "stdout",
     "output_type": "stream",
     "text": [
      "value=\"A\",name=\"LATIN CAPITAL LETTER A\",value2=\"A\"\n",
      "value=\"%\",name=\"PERCENT SIGN\",value2=\"%\"\n",
      "value=\"¢\",name=\"CENT SIGN\",value2=\"¢\"\n"
     ]
    }
   ],
   "source": [
    "def unicode_test(value):\n",
    "    import unicodedata\n",
    "    name=unicodedata.name(value)\n",
    "    value2=unicodedata.lookup(name)\n",
    "    print('value=\"%s\",name=\"%s\",value2=\"%s\"'%(value,name,value2))\n",
    "\n",
    "unicode_test(\"A\")\n",
    "unicode_test(\"%\")\n",
    "unicode_test(\"\\u00a2\")\n"
   ]
  },
  {
   "cell_type": "code",
   "execution_count": 14,
   "id": "2ff74a68",
   "metadata": {},
   "outputs": [
    {
     "data": {
      "text/plain": [
       "4"
      ]
     },
     "execution_count": 14,
     "metadata": {},
     "output_type": "execute_result"
    }
   ],
   "source": [
    "#[1,2,3,4]\t1\n",
    "#[1,2,7,6,4]\t4\n",
    "nums=[1,2,7,6,4]\n",
    "def solution(nums):\n",
    "    answer=0\n",
    "    total=[]\n",
    "    count=0\n",
    "    for a in range(len(nums)-2):\n",
    "        for b in range(a+1,len(nums)-1):\n",
    "            for c in range(b+1,len(nums)):\n",
    "                num=nums[a]+nums[b]+nums[c]\n",
    "                if counts(num)==True:\n",
    "                    count+=1\n",
    "    return count\n",
    "\n",
    "def counts(num):\n",
    "    for i in range(2,num):\n",
    "        if num%i==0:\n",
    "            return False\n",
    "        if i==num-1:\n",
    "            return True\n",
    "\n",
    "solution(nums)"
   ]
  },
  {
   "cell_type": "code",
   "execution_count": 9,
   "id": "e2f24df9",
   "metadata": {},
   "outputs": [
    {
     "name": "stdout",
     "output_type": "stream",
     "text": [
      "this\n"
     ]
    }
   ],
   "source": [
    "num=7\n",
    "for i in range(2,num):\n",
    "    if num%i==0:\n",
    "        break\n",
    "    if i==num-1:\n",
    "        print(\"this\")"
   ]
  },
  {
   "cell_type": "code",
   "execution_count": 32,
   "id": "62986b3a",
   "metadata": {},
   "outputs": [
    {
     "name": "stdout",
     "output_type": "stream",
     "text": [
      "6\n"
     ]
    },
    {
     "data": {
      "text/plain": [
       "[1, 1]"
      ]
     },
     "execution_count": 32,
     "metadata": {},
     "output_type": "execute_result"
    }
   ],
   "source": [
    "#[44, 1, 0, 0, 31, 25]\t[31, 10, 45, 1, 6, 19]\t[3, 5]\n",
    "lottos=[45, 4, 35, 20, 3, 9]\n",
    "win_nums=[20, 9, 3, 45, 4, 35]\n",
    "#2개일치 5등 3개일치 4등 ....\n",
    "#[45, 4, 35, 20, 3, 9], [20, 9, 3, 45, 4, 35]\n",
    "def solution(lottos,win_nums):\n",
    "    answer = []\n",
    "    hiddenN=0\n",
    "    count=0\n",
    "    for i in range(len(lottos)):\n",
    "        if lottos[i]==0:\n",
    "            hiddenN+=1\n",
    "        for j in range(len(win_nums)):\n",
    "            if lottos[i]==win_nums[j]:\n",
    "                count+=1\n",
    "    \n",
    "    answer.append(7-count-hiddenN)\n",
    "    answer.append(7-count)\n",
    "    for i in range(len(answer)):\n",
    "        if answer[i]<=0:\n",
    "            answer[i]=1\n",
    "        if answer[i]==7:\n",
    "            answer[i]=6\n",
    "    print(count)\n",
    "    return answer\n",
    "\n",
    "solution(lottos,win_nums)\n"
   ]
  },
  {
   "cell_type": "code",
   "execution_count": 37,
   "id": "045608fd",
   "metadata": {},
   "outputs": [
    {
     "data": {
      "text/plain": [
       "116"
      ]
     },
     "execution_count": 37,
     "metadata": {},
     "output_type": "execute_result"
    }
   ],
   "source": [
    "a=[20, 9, 3, 45, 4, 35]\n",
    "b=sum(a)\n",
    "b"
   ]
  },
  {
   "cell_type": "code",
   "execution_count": 47,
   "id": "db7ff599",
   "metadata": {},
   "outputs": [
    {
     "name": "stdout",
     "output_type": "stream",
     "text": [
      "11\n",
      "2\n"
     ]
    },
    {
     "data": {
      "text/plain": [
       "False"
      ]
     },
     "execution_count": 47,
     "metadata": {},
     "output_type": "execute_result"
    }
   ],
   "source": [
    "def solution(x):\n",
    "    a=str(x)\n",
    "    a=list(a)\n",
    "    for i in range(len(a)):\n",
    "        a[i]=int(a[i])\n",
    "    b=sum(a)    \n",
    "    if x%b==0:\n",
    "        answer=True\n",
    "    else:\n",
    "        answer=False\n",
    "    print(x)\n",
    "    print(b)\n",
    "    return answer\n",
    "\n",
    "solution(11)"
   ]
  },
  {
   "cell_type": "code",
   "execution_count": 54,
   "id": "61f86f94",
   "metadata": {},
   "outputs": [
    {
     "data": {
      "text/plain": [
       "'**********fee2'"
      ]
     },
     "execution_count": 54,
     "metadata": {},
     "output_type": "execute_result"
    }
   ],
   "source": [
    "def solution(phone_number):\n",
    "    a=list(phone_number)\n",
    "    answer=''\n",
    "    for i in range(len(a)):\n",
    "        if i<=len(a)-5:\n",
    "            a[i]=\"*\"\n",
    "        answer+=a[i]\n",
    "    return answer\n",
    "\n",
    "solution(\"1233212233fee2\")"
   ]
  },
  {
   "cell_type": "code",
   "execution_count": null,
   "id": "b3969e14",
   "metadata": {},
   "outputs": [],
   "source": []
  }
 ],
 "metadata": {
  "kernelspec": {
   "display_name": "Python 3.10.6 64-bit",
   "language": "python",
   "name": "python3"
  },
  "language_info": {
   "codemirror_mode": {
    "name": "ipython",
    "version": 3
   },
   "file_extension": ".py",
   "mimetype": "text/x-python",
   "name": "python",
   "nbconvert_exporter": "python",
   "pygments_lexer": "ipython3",
   "version": "3.10.6"
  },
  "vscode": {
   "interpreter": {
    "hash": "afb734500600fd355917ca529030176ea0ca205570884b88f2f6f7d791fd3fbe"
   }
  }
 },
 "nbformat": 4,
 "nbformat_minor": 5
}
