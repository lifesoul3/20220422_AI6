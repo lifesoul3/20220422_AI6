{
 "cells": [
  {
   "cell_type": "code",
   "execution_count": 4,
   "id": "20a80b92-d185-491c-a57e-97ab324ba04c",
   "metadata": {},
   "outputs": [
    {
     "name": "stdout",
     "output_type": "stream",
     "text": [
      "1\n",
      "2\n",
      "3\n",
      "4\n",
      "5\n"
     ]
    }
   ],
   "source": [
    "#list=가변\n",
    "#tuple=불변(상수)\n",
    "\n",
    "start=(1,2,3,4,5)\n",
    "for item in start:\n",
    "    print(item)\n"
   ]
  },
  {
   "cell_type": "code",
   "execution_count": 13,
   "id": "f473d119-f6d4-4cbf-ae72-9b6cce6d235b",
   "metadata": {},
   "outputs": [
    {
     "name": "stdout",
     "output_type": "stream",
     "text": [
      "('Groucho',)\n",
      "('Groucho', 'Choico', 'harpo')\n",
      "<class 'tuple'>\n",
      "Groucho\n"
     ]
    }
   ],
   "source": [
    "one_marx='Groucho', #끝에 콤마가 있어야 튜플로 인정된다\n",
    "print(one_marx)\n",
    "one_marx=('Groucho','Choico')\n",
    "one_marx=one_marx+('harpo',)#강제 결합\n",
    "print(one_marx)\n",
    "print(type(one_marx))\n",
    "print(one_marx[0])"
   ]
  },
  {
   "cell_type": "code",
   "execution_count": 15,
   "id": "88507f0c-81d9-4ed0-aa2d-f883bb05f3c6",
   "metadata": {},
   "outputs": [
    {
     "name": "stdout",
     "output_type": "stream",
     "text": [
      "Groucho\n",
      "Choico\n",
      "harpo\n"
     ]
    }
   ],
   "source": [
    "d,e,f=one_marx\n",
    "print(d)\n",
    "print(e)\n",
    "print(f)"
   ]
  },
  {
   "cell_type": "code",
   "execution_count": 18,
   "id": "731ef456-ba83-4410-b57e-cd30c8e0adc4",
   "metadata": {},
   "outputs": [
    {
     "name": "stdout",
     "output_type": "stream",
     "text": [
      "tuttiftutti wordfish\n"
     ]
    }
   ],
   "source": [
    "password=\"wordfish\"\n",
    "icecream=\"tuttiftutti\"\n",
    "password,icecream=icecream,password\n",
    "print(password,icecream)"
   ]
  },
  {
   "cell_type": "code",
   "execution_count": 22,
   "id": "542f3093-0049-45fd-ba3c-ec675537cfd4",
   "metadata": {},
   "outputs": [
    {
     "name": "stdout",
     "output_type": "stream",
     "text": [
      "['Groucho', 'Choico', 'harpo']\n",
      "('Groucho', 'Choico', 'harpo')\n"
     ]
    }
   ],
   "source": [
    "marx_list=['Groucho','Choico','harpo']\n",
    "print(marx_list)\n",
    "marx_list=tuple(marx_list)\n",
    "print(marx_list)"
   ]
  },
  {
   "cell_type": "code",
   "execution_count": 24,
   "id": "55f44e95-6a05-4f0f-98ab-757bfbc77839",
   "metadata": {},
   "outputs": [
    {
     "name": "stdout",
     "output_type": "stream",
     "text": [
      "('Groucho', 'Choico', 'harpo', 'Groucho', 'Choico', 'harpo', 'Groucho', 'Choico', 'harpo')\n"
     ]
    }
   ],
   "source": [
    "marx_list=marx_list*3\n",
    "print(marx_list)"
   ]
  },
  {
   "cell_type": "code",
   "execution_count": 27,
   "id": "8500db1f-c8a1-4877-8fd1-a55f2458797c",
   "metadata": {},
   "outputs": [
    {
     "name": "stdout",
     "output_type": "stream",
     "text": [
      "False\n",
      "True\n"
     ]
    }
   ],
   "source": [
    "a=(7,2)\n",
    "b=(2,7)\n",
    "c=(7,2)\n",
    "print(a==b)\n",
    "print(a==c)"
   ]
  },
  {
   "cell_type": "code",
   "execution_count": 28,
   "id": "6fbed4f2-38bf-4710-99ec-750c0a939aca",
   "metadata": {},
   "outputs": [
    {
     "name": "stdout",
     "output_type": "stream",
     "text": [
      "Groucho\n",
      "Choico\n",
      "harpo\n",
      "Groucho\n",
      "Choico\n",
      "harpo\n",
      "Groucho\n",
      "Choico\n",
      "harpo\n"
     ]
    }
   ],
   "source": [
    "for item in marx_list:\n",
    "    print(item)"
   ]
  },
  {
   "cell_type": "code",
   "execution_count": 66,
   "id": "c3557acf-b953-44ff-9e9c-d56fe500bd57",
   "metadata": {},
   "outputs": [
    {
     "name": "stdout",
     "output_type": "stream",
     "text": [
      "['Groucho', 'Choico', 'hi', 'hi', 'hi', 'harpo', 'Groucho', 'his', 'Choico', 'harpo', 'Groucho', 'Choico', 'harpo']\n"
     ]
    }
   ],
   "source": [
    "marx_list=list(marx_list)\n",
    "print(marx_list)"
   ]
  },
  {
   "cell_type": "code",
   "execution_count": 65,
   "id": "a99a5fc5-20b1-4822-b02a-f558fd59aa92",
   "metadata": {},
   "outputs": [],
   "source": [
    "##scoville c=a+b*2\n",
    "marx_list.insert(7,\"his\")\n"
   ]
  },
  {
   "cell_type": "code",
   "execution_count": 71,
   "id": "e854a4e6-5761-46f4-9a2d-f42bfcdb1664",
   "metadata": {},
   "outputs": [
    {
     "name": "stdout",
     "output_type": "stream",
     "text": [
      "['Gummo', 'Karl', 'Chip', 'Price']\n"
     ]
    }
   ],
   "source": [
    "other1=['Gummo','Karl']\n",
    "other2=['Chip','Price']\n",
    "other1+=other2\n",
    "print(other1)\n"
   ]
  },
  {
   "cell_type": "code",
   "execution_count": 78,
   "id": "6aaac751-31bd-4edb-a81f-e523a0aeba66",
   "metadata": {},
   "outputs": [
    {
     "name": "stdout",
     "output_type": "stream",
     "text": [
      "[1, 3, 2, 3, 4, 5]\n",
      "[3, 4, 5]\n"
     ]
    }
   ],
   "source": [
    "number=[1,2,3,4,5]\n",
    "#slice로 항목 바꾸기\n",
    "number[1:2]=[3,2]\n",
    "print(number)\n",
    "number[0:3]=[]\n",
    "print(number)"
   ]
  },
  {
   "cell_type": "code",
   "execution_count": 94,
   "id": "203658aa-951d-4cd2-b0ce-b95f11ee4da0",
   "metadata": {},
   "outputs": [
    {
     "name": "stdout",
     "output_type": "stream",
     "text": [
      "[1, 2, 3, 9, 10, 12]\n",
      "[12, 10, 9, 3, 2, 1]\n",
      "1\n",
      "[12, 10, 9, 3, 5]\n",
      "[12, 10, 9, 5, 3]\n"
     ]
    }
   ],
   "source": [
    "scoville=[1, 2, 3, 9, 10, 12]\n",
    "print(scoville)\n",
    "scoville.sort(reverse=True)\n",
    "print(scoville)\n",
    "print(scoville[len(scoville)-1])\n",
    "if scoville[len(scoville)-1]<7:\n",
    "    number=scoville[len(scoville)-1]+scoville[len(scoville)-2]*2\n",
    "    scoville.pop()\n",
    "    scoville.pop()\n",
    "    scoville.append(number)\n",
    "print(scoville)\n",
    "scoville.sort(reverse=True)\n",
    "print(scoville)"
   ]
  },
  {
   "cell_type": "code",
   "execution_count": 95,
   "id": "b279a55f-65a6-4601-afb8-239c668889a5",
   "metadata": {},
   "outputs": [
    {
     "data": {
      "text/plain": [
       "'2022-8-31'"
      ]
     },
     "execution_count": 95,
     "metadata": {},
     "output_type": "execute_result"
    }
   ],
   "source": [
    "someday=[\"2022\",\"8\",\"31\"]\n",
    "\"-\".join(someday)"
   ]
  },
  {
   "cell_type": "code",
   "execution_count": 102,
   "id": "3cbec1cf-8924-44f5-b6aa-561fea320032",
   "metadata": {},
   "outputs": [
    {
     "name": "stdout",
     "output_type": "stream",
     "text": [
      "['a', 'b', 'c', 'f']\n"
     ]
    }
   ],
   "source": [
    "once=['a',3,'b',1,'f','c']\n"
   ]
  },
  {
   "cell_type": "code",
   "execution_count": 109,
   "id": "19648da7-a421-4da7-815a-5fc7d514ef72",
   "metadata": {},
   "outputs": [
    {
     "name": "stdout",
     "output_type": "stream",
     "text": [
      "True\n",
      "True\n"
     ]
    }
   ],
   "source": [
    "nums=[]\n",
    "try:\n",
    "    for item in once:\n",
    "        if int(item)>0:\n",
    "            nums.append(item)\n",
    "            "
   ]
  },
  {
   "cell_type": "code",
   "execution_count": null,
   "id": "a3376a05-921e-4808-b0d1-40a3370a134c",
   "metadata": {},
   "outputs": [],
   "source": []
  }
 ],
 "metadata": {
  "kernelspec": {
   "display_name": "Python 3 (ipykernel)",
   "language": "python",
   "name": "python3"
  },
  "language_info": {
   "codemirror_mode": {
    "name": "ipython",
    "version": 3
   },
   "file_extension": ".py",
   "mimetype": "text/x-python",
   "name": "python",
   "nbconvert_exporter": "python",
   "pygments_lexer": "ipython3",
   "version": "3.9.12"
  }
 },
 "nbformat": 4,
 "nbformat_minor": 5
}
