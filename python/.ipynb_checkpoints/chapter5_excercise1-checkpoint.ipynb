{
 "cells": [
  {
   "cell_type": "code",
   "execution_count": 4,
   "id": "37affed6-1f9c-4d31-8754-43c8c33f9630",
   "metadata": {},
   "outputs": [
    {
     "name": "stdout",
     "output_type": "stream",
     "text": [
      "\n",
      "Here is a list of the Python keywords.  Enter any keyword to get more help.\n",
      "\n",
      "False               break               for                 not\n",
      "None                class               from                or\n",
      "True                continue            global              pass\n",
      "__peg_parser__      def                 if                  raise\n",
      "and                 del                 import              return\n",
      "as                  elif                in                  try\n",
      "assert              else                is                  while\n",
      "async               except              lambda              with\n",
      "await               finally             nonlocal            yield\n",
      "\n"
     ]
    }
   ],
   "source": [
    "help('keywords')"
   ]
  },
  {
   "cell_type": "code",
   "execution_count": null,
   "id": "a9b8244b-3230-4973-94a6-cebb20a6e781",
   "metadata": {},
   "outputs": [],
   "source": [
    "number=int(input(\"integer plz\"))\n",
    "count=1\n",
    "poten=0\n",
    "while count<=number:\n",
    "    if number%count==0:\n",
    "        poten+=1 \n",
    "    count+=1\n",
    "print(poten)\n",
    "if poten==2:\n",
    "    print(str(number)+\" 는 소수\")\n",
    "else:\n",
    "    print(str(number)+\" 는 소수아님\")"
   ]
  },
  {
   "cell_type": "code",
   "execution_count": 2,
   "id": "334fc38e-f722-452d-81d7-d5230a3dd384",
   "metadata": {},
   "outputs": [
    {
     "name": "stdout",
     "output_type": "stream",
     "text": [
      "[12, 15, 18, 21, 24, 27, 30, 33, 36, 39]\n"
     ]
    }
   ],
   "source": [
    "x=10\n",
    "y=40\n",
    "triple=[]\n",
    "while x<=y:\n",
    "    if x%3==0:\n",
    "        triple.append(x)\n",
    "    x+=1\n",
    "print(triple)"
   ]
  },
  {
   "cell_type": "code",
   "execution_count": 4,
   "id": "49ce785c-147b-4b28-b93e-4780d0386680",
   "metadata": {},
   "outputs": [
    {
     "name": "stdout",
     "output_type": "stream",
     "text": [
      "[5, 10]\n"
     ]
    }
   ],
   "source": [
    "#[5, 9, 7, 10]\t5\t[5, 10] 배열에 담긴숫자중 x값을 나누었을때 맞아떨어지면 배열추가\n",
    "arr=[5, 9, 7, 10]\n",
    "divisor=5\n",
    "answer=[]\n",
    "for item in arr:\n",
    "    if item%divisor==0:\n",
    "        answer.append(item)\n",
    "        \n",
    "print(answer)"
   ]
  },
  {
   "cell_type": "code",
   "execution_count": 18,
   "id": "232836fc-06d3-4a65-9d14-c9dbc5b2e92d",
   "metadata": {},
   "outputs": [
    {
     "name": "stdout",
     "output_type": "stream",
     "text": [
      "[2, 4, 6, 8, 10, 12]\n"
     ]
    }
   ],
   "source": [
    "#2\t5\t[2,4,6,8,10]\n",
    "x=2\n",
    "n=5\n",
    "answer=[]\n",
    "count=0\n",
    "while count<=n:\n",
    "    answer.append(x*(count+1))\n",
    "    count+=1\n",
    "print(answer)"
   ]
  },
  {
   "cell_type": "code",
   "execution_count": 12,
   "id": "35dde4a1-1f0a-45b9-8354-0523bcf9f07e",
   "metadata": {},
   "outputs": [
    {
     "name": "stdout",
     "output_type": "stream",
     "text": [
      "[<built-in method count of list object at 0x0000021D248D0700>, <built-in method count of list object at 0x0000021D248D0700>, <built-in method count of list object at 0x0000021D248D0700>]\n",
      "[9, 10, 12, 13]\n"
     ]
    }
   ],
   "source": [
    "#[1, 2, 3, 9, 10, 12]\t7\t2\n",
    "#섞은 음식의 스코빌 지수 = 가장 맵지 않은 음식의 스코빌 지수 + \n",
    "#(두 번째로 맵지 않은 음식의 스코빌 지수 * 2)\n",
    "#배열 내부의 숫자가 K값 이상이 될때까지 만들어라\n",
    "#최소 행한 횟수를 리턴하라\n",
    "scoville=[1, 2, 3, 9, 10, 12]\n",
    "K=7\n",
    "count=0\n",
    "scovilles=[]\n",
    "while count<=len(scoville)-1:\n",
    "    if scoville[count]<7:\n",
    "        scovilles.append(scoville.count)\n",
    "    else:\n",
    "        break\n",
    "    count+=1\n",
    "print(scovilles)\n",
    "\n",
    "\n",
    "\n",
    "print(scoville)\n"
   ]
  },
  {
   "cell_type": "code",
   "execution_count": 6,
   "id": "2b9d141b-e05b-4820-bb93-a9a6b5011382",
   "metadata": {},
   "outputs": [
    {
     "name": "stdout",
     "output_type": "stream",
     "text": [
      "[1, 2, 3]\n",
      "2\n"
     ]
    }
   ],
   "source": [
    "scoville=[1, 2, 3, 9, 10, 12]\n",
    "K=7\n",
    "count=0\n",
    "scovilles=[]\n",
    "while count<=len(scoville)-1:\n",
    "    if scoville[count]<K:\n",
    "        scovilles.append(scoville[count])\n",
    "        count+=1\n",
    "    else:\n",
    "        break\n",
    "print(scovilles)\n",
    "count=0\n",
    "while True:\n",
    "    if scovilles[0]<7:\n",
    "        scovilles.append(scovilles[0]+scovilles[1]*2)\n",
    "        scovilles.sort()\n",
    "        scovilles=scovilles[2:len(scovilles)]\n",
    "        count+=1\n",
    "    else:\n",
    "        break\n",
    "print(count)"
   ]
  },
  {
   "cell_type": "code",
   "execution_count": 9,
   "id": "f27cde2f-9a7e-47cf-bde6-7444bb1568ca",
   "metadata": {},
   "outputs": [
    {
     "name": "stdout",
     "output_type": "stream",
     "text": [
      "too low 1\n",
      "too low 2\n",
      "too low 3\n",
      "too low 4\n",
      "too low 5\n",
      "too low 6\n",
      "found it 7\n"
     ]
    }
   ],
   "source": [
    "guess_me=7\n",
    "number=1\n",
    "while True:\n",
    "    if guess_me==number:\n",
    "        print('found it',number)\n",
    "        break\n",
    "    elif guess_me>number:\n",
    "        print('too low',number)\n",
    "        number+=1\n",
    "    else:\n",
    "        print('oops',number)\n",
    "        break\n"
   ]
  },
  {
   "cell_type": "code",
   "execution_count": 13,
   "id": "176291da-be89-43b0-870e-a00ca6d0a11e",
   "metadata": {},
   "outputs": [
    {
     "name": "stdout",
     "output_type": "stream",
     "text": [
      "oop 0\n",
      "oop 1\n",
      "oop 2\n",
      "oop 3\n",
      "oop 4\n",
      "found it 5\n",
      "oop 6\n",
      "oop 7\n",
      "oop 8\n",
      "oop 9\n"
     ]
    }
   ],
   "source": [
    "guess_me=5\n",
    "for number in range(10):\n",
    "    if number==guess_me:\n",
    "        print('found it',number)\n",
    "    else:\n",
    "        print('oop',number)\n",
    "    "
   ]
  },
  {
   "cell_type": "code",
   "execution_count": 1,
   "id": "14e3cef5-c95c-498d-a662-182bdcf80352",
   "metadata": {},
   "outputs": [
    {
     "name": "stdout",
     "output_type": "stream",
     "text": [
      "[1, 1, 0]\n",
      "1\n",
      "[2, 1, 1, 0]\n"
     ]
    }
   ],
   "source": [
    "#[1, 2, 3, 9, 10, 12]\t7\t2\n",
    "#scoville K answer\n",
    "answer=0\n",
    "scoville=[0,1,1]\n",
    "K=7\n",
    "scoville.sort(reverse=True)\n",
    "while True:\n",
    "    if scoville[len(scoville)-1]<K:\n",
    "        num=scoville[len(scoville)-1]+scoville[len(scoville)-2]*2\n",
    "        print(scoville)\n",
    "        \n",
    "        scoville.append(num)\n",
    "        scoville.sort(reverse=True)\n",
    "        answer+=1\n",
    "    if len(scoville)==1:\n",
    "        break\n",
    "    else:\n",
    "        break\n",
    "print(answer)\n",
    "print(scoville)\n",
    "\n"
   ]
  },
  {
   "cell_type": "code",
   "execution_count": 4,
   "id": "0feda984-adb5-4994-92e6-366466103ff4",
   "metadata": {},
   "outputs": [
    {
     "name": "stdout",
     "output_type": "stream",
     "text": [
      "d\n"
     ]
    }
   ],
   "source": [
    "express=\"100-200*300-500+20\"\n",
    "answer=60420 #*>+>-\n",
    "print(\"d\")\n"
   ]
  },
  {
   "cell_type": "code",
   "execution_count": null,
   "id": "a84f32d8-7f45-4f78-bc00-d31f8bdd74b0",
   "metadata": {},
   "outputs": [],
   "source": [
    "s=\"{{2},{2,1},{2,1,3},{2,1,3,4}}\"\n",
    "s=s.strip('{{')\n",
    "s=s.strip('}}')\n",
    "s=s.split('},{')\n",
    "print(s)\n",
    "k=[[1],[3,2,1],[2,2,1],[3]]\n",
    "print(k)\n",
    "print(type(k[1]))\n",
    "print(type(k[1]))"
   ]
  },
  {
   "cell_type": "code",
   "execution_count": 20,
   "id": "b6176777-da01-470a-8473-924f5eb063eb",
   "metadata": {},
   "outputs": [
    {
     "name": "stdout",
     "output_type": "stream",
     "text": [
      "gl\n"
     ]
    }
   ],
   "source": [
    "s=\"faglif\"\n",
    "\n",
    "if len(s)%2==0:\n",
    "    target=int((len(s)-2)/2)\n",
    "    answer=s[target:target+2]\n",
    "else:\n",
    "    target=int((len(s)-1)/2)\n",
    "    answer=s[target:target+1]\n",
    "\n",
    "print(answer)"
   ]
  },
  {
   "cell_type": "code",
   "execution_count": 24,
   "id": "1cb78590-8e1c-4087-9e0e-7a687eea7d23",
   "metadata": {},
   "outputs": [
    {
     "name": "stdout",
     "output_type": "stream",
     "text": [
      "수박수박\n"
     ]
    }
   ],
   "source": [
    "n=4\n",
    "answer=\"\"\n",
    "count=0\n",
    "while count<n:\n",
    "    if count%2==0:\n",
    "        answer+=\"수\"\n",
    "    else:\n",
    "        answer+=\"박\"\n",
    "    count+=1\n",
    "print(answer)"
   ]
  },
  {
   "cell_type": "code",
   "execution_count": 66,
   "id": "6f70cbd7-965b-40f5-abea-17be0b041076",
   "metadata": {},
   "outputs": [
    {
     "name": "stdout",
     "output_type": "stream",
     "text": [
      "z A y\n"
     ]
    }
   ],
   "source": [
    "item=\"a B z\"\n",
    "item=list(item)\n",
    "count=0\n",
    "n=25\n",
    "while count<len(item):\n",
    "    if item[count]==' ':\n",
    "        count+=1\n",
    "    elif ord(item[count])<=90:\n",
    "        num=ord(item[count])\n",
    "        num=num+n\n",
    "        if num>90:\n",
    "            num=num-26\n",
    "            item[count]=chr(num)\n",
    "        else:\n",
    "            item[count]=chr(num)\n",
    "        count+=1\n",
    "    elif ord(item[count])<=122:\n",
    "        num=ord(item[count])\n",
    "        num=num+n\n",
    "        if num>122:\n",
    "            num=num-26\n",
    "            item[count]=chr(num)\n",
    "        else:\n",
    "            item[count]=chr(num)\n",
    "        count+=1\n",
    "answer=''\n",
    "for x in item:\n",
    "    answer+=x\n",
    "print(answer)"
   ]
  },
  {
   "cell_type": "code",
   "execution_count": 29,
   "id": "abf0fe67-e10c-48c7-9f32-8c657e631fb5",
   "metadata": {},
   "outputs": [
    {
     "name": "stdout",
     "output_type": "stream",
     "text": [
      "26\n"
     ]
    }
   ],
   "source": [
    "alphabet=\"abcdefghijklmnopqrstuvwxyz\"\n",
    "print(len(alphabet))"
   ]
  },
  {
   "cell_type": "code",
   "execution_count": 45,
   "id": "045db528-24db-4484-bcb8-2172bac76fe9",
   "metadata": {},
   "outputs": [
    {
     "name": "stdout",
     "output_type": "stream",
     "text": [
      "97\n",
      "122\n",
      "65\n",
      "90\n",
      "-25\n"
     ]
    }
   ],
   "source": [
    "print(ord('a'))\n",
    "print(ord('z'))\n",
    "print(ord('A'))\n",
    "print(ord('Z'))\n",
    "print(int(ord('a'))-int(ord('z')))"
   ]
  },
  {
   "cell_type": "code",
   "execution_count": 68,
   "id": "9784ceef-b0de-4010-bb85-83366ecfb83d",
   "metadata": {},
   "outputs": [
    {
     "name": "stdout",
     "output_type": "stream",
     "text": [
      "3\n"
     ]
    }
   ],
   "source": [
    "#10\t3\n",
    "#주어진 수 n을 나누어 1이될수 있는 가장 작은수를 구하시오\n",
    "n=10\n",
    "count=1\n",
    "while True:\n",
    "    if n%count==1:\n",
    "        break\n",
    "    else:\n",
    "        count+=1\n",
    "print(count)"
   ]
  },
  {
   "cell_type": "code",
   "execution_count": 70,
   "id": "9155de97-9c4a-445b-896a-315a0612610f",
   "metadata": {},
   "outputs": [
    {
     "name": "stdout",
     "output_type": "stream",
     "text": [
      "['hello', 'world', 'together']\n",
      "h\n"
     ]
    }
   ],
   "source": [
    "n='hello world together'\n",
    "k=n.split(' ')\n",
    "print(k)\n",
    "print(k[0][0])\n",
    "count1=0\n",
    "while True:\n",
    "    "
   ]
  },
  {
   "cell_type": "code",
   "execution_count": 71,
   "id": "bd104e16-9f03-445a-a188-48afa1bcec6b",
   "metadata": {},
   "outputs": [
    {
     "name": "stdout",
     "output_type": "stream",
     "text": [
      "28\n"
     ]
    }
   ],
   "source": [
    "#12\t28\n",
    "#12의 약수 1,2,3,4,6,12\n",
    "list=[1,2,3,4,6,12]\n",
    "answer=0\n",
    "for x in list:\n",
    "    answer+=x\n",
    "print(answer)"
   ]
  },
  {
   "cell_type": "code",
   "execution_count": null,
   "id": "b7e6bd1b-5f23-4ab1-b01c-f1da925ff7b0",
   "metadata": {},
   "outputs": [],
   "source": []
  },
  {
   "cell_type": "code",
   "execution_count": 21,
   "id": "d9fba5b5-1abb-4899-ad48-505d4bcf0b54",
   "metadata": {},
   "outputs": [
    {
     "name": "stdout",
     "output_type": "stream",
     "text": [
      "['b', 'a', 'a', 'b', 'a', 'a', 'q']\n",
      "['b', 'a', 'a', 'b', 'a', 'a', 'q']\n",
      "1\n",
      "['b', 'b', 'a', 'a', 'q']\n",
      "0\n",
      "['a', 'a', 'q']\n",
      "0\n",
      "['q']\n"
     ]
    }
   ],
   "source": [
    "s='baabaaq'\n",
    "k=list(s)\n",
    "count=0\n",
    "while count<len(k)-1:\n",
    "    print(k)\n",
    "    if k[count]==k[count+1]:\n",
    "        print(count)\n",
    "        k.pop(count)\n",
    "        k.pop(count)\n",
    "        count=0\n",
    "    else:\n",
    "        count+=1\n",
    "print(k)"
   ]
  },
  {
   "cell_type": "code",
   "execution_count": 14,
   "id": "0eaf9033-4c4f-4207-b3b6-0305380e29ec",
   "metadata": {},
   "outputs": [
    {
     "name": "stdout",
     "output_type": "stream",
     "text": [
      "['a', 'b', 'd', 'e', 'f', 'g']\n"
     ]
    }
   ],
   "source": [
    "str=\"abcdefg\"\n",
    "strlist=list(str)\n",
    "strlist.pop(2)\n",
    "print(strlist)"
   ]
  },
  {
   "cell_type": "code",
   "execution_count": 1,
   "id": "68a5ca30-bcc1-4fcf-b2cf-72907c8022ac",
   "metadata": {},
   "outputs": [
    {
     "name": "stdout",
     "output_type": "stream",
     "text": [
      "[1, 2, 3, 4, 5]\n"
     ]
    }
   ],
   "source": [
    "number_list1=list(range(1,6))\n",
    "print(number_list1)"
   ]
  },
  {
   "cell_type": "code",
   "execution_count": 6,
   "id": "c7656dfa-3c4b-4ed2-96d2-63bcee0b0e46",
   "metadata": {},
   "outputs": [
    {
     "name": "stdout",
     "output_type": "stream",
     "text": [
      "[3]\n",
      "[3]\n"
     ]
    }
   ],
   "source": [
    "number_list2=[number for number in range(1,6) if number%3==0]\n",
    "print(number_list2)\n",
    "a_list=[]\n",
    "for number in range(1,6):\n",
    "    if number%3==0:\n",
    "        a_list.append(number)\n",
    "print(a_list)"
   ]
  },
  {
   "cell_type": "code",
   "execution_count": 7,
   "id": "d9a71cb7-9274-4837-b635-5ed7d75e9076",
   "metadata": {},
   "outputs": [
    {
     "name": "stdout",
     "output_type": "stream",
     "text": [
      "1 1\n",
      "1 2\n",
      "2 1\n",
      "2 2\n",
      "3 1\n",
      "3 2\n"
     ]
    }
   ],
   "source": [
    "rows=range(1,4)\n",
    "cols=range(1,3)\n",
    "for row in rows:\n",
    "    for col in cols:\n",
    "        print(row,col)"
   ]
  },
  {
   "cell_type": "code",
   "execution_count": 14,
   "id": "3007ed72-1019-4e7c-8650-efccf7cc1053",
   "metadata": {},
   "outputs": [
    {
     "name": "stdout",
     "output_type": "stream",
     "text": [
      "(1, 1)\n",
      "1 1\n",
      "(1, 2)\n",
      "1 2\n",
      "(2, 1)\n",
      "2 1\n",
      "(2, 2)\n",
      "2 2\n",
      "(3, 1)\n",
      "3 1\n",
      "(3, 2)\n",
      "3 2\n"
     ]
    }
   ],
   "source": [
    "rows=range(1,4)\n",
    "cols=range(1,3)\n",
    "cells=[(row,col) for row in rows for col in cols]\n",
    "for cell in cells:\n",
    "    print(cell)\n",
    "    row,col=cell\n",
    "    print(row,col)"
   ]
  },
  {
   "cell_type": "code",
   "execution_count": 15,
   "id": "f24da2ba-9058-4900-9d5a-8d4a255b07d4",
   "metadata": {},
   "outputs": [
    {
     "name": "stdout",
     "output_type": "stream",
     "text": [
      "1 1\n",
      "1 2\n",
      "2 1\n",
      "2 2\n",
      "3 1\n",
      "3 2\n"
     ]
    }
   ],
   "source": [
    "for row,col in cells:\n",
    "    print(row,col)"
   ]
  },
  {
   "cell_type": "code",
   "execution_count": 20,
   "id": "0f43ae7e-80b6-41fa-8497-a87df2409aaa",
   "metadata": {},
   "outputs": [
    {
     "ename": "AttributeError",
     "evalue": "'list' object has no attribute 'id'",
     "output_type": "error",
     "traceback": [
      "\u001b[1;31m---------------------------------------------------------------------------\u001b[0m",
      "\u001b[1;31mAttributeError\u001b[0m                            Traceback (most recent call last)",
      "Input \u001b[1;32mIn [20]\u001b[0m, in \u001b[0;36m<cell line: 5>\u001b[1;34m()\u001b[0m\n\u001b[0;32m      3\u001b[0m list3\u001b[38;5;241m=\u001b[39m[\u001b[38;5;124m'\u001b[39m\u001b[38;5;124mgo\u001b[39m\u001b[38;5;124m'\u001b[39m,\u001b[38;5;124m'\u001b[39m\u001b[38;5;124mstop\u001b[39m\u001b[38;5;124m'\u001b[39m,\u001b[38;5;124m'\u001b[39m\u001b[38;5;124mwait\u001b[39m\u001b[38;5;124m'\u001b[39m]\n\u001b[0;32m      4\u001b[0m list4\u001b[38;5;241m=\u001b[39m[list1,list2,list3]\n\u001b[1;32m----> 5\u001b[0m \u001b[38;5;28mprint\u001b[39m(\u001b[43mlist4\u001b[49m\u001b[38;5;241;43m.\u001b[39;49m\u001b[43mid\u001b[49m)\n",
      "\u001b[1;31mAttributeError\u001b[0m: 'list' object has no attribute 'id'"
     ]
    }
   ],
   "source": [
    "list1=['hi','hello']\n",
    "list2=['apple','banana']\n",
    "list3=['go','stop','wait']\n",
    "list4=[list1,list2,list3]\n",
    "print(list4)"
   ]
  },
  {
   "cell_type": "code",
   "execution_count": 22,
   "id": "7ec12b5b-b0c6-4163-b471-3ce99ef41d6d",
   "metadata": {},
   "outputs": [
    {
     "name": "stdout",
     "output_type": "stream",
     "text": [
      "<class 'dict'>\n",
      "{'day': 'A period', 'position': 'mistaken at', 'misfortune': 'the kind of'}\n"
     ]
    }
   ],
   "source": [
    "#딕셔너리->딕트\n",
    "#단어->뜻\n",
    "#키(key)->값(value)\n",
    "empty_dict={}\n",
    "print(type(empty_dict))\n",
    "bierce={\n",
    "    \"day\":\"A period\",\"position\":\"mistaken at\",\"misfortune\":\"the kind of\"\n",
    "}\n",
    "print(bierce)\n"
   ]
  },
  {
   "cell_type": "code",
   "execution_count": 24,
   "id": "412a853d-1b55-4886-8924-a4a9cea4f8cf",
   "metadata": {},
   "outputs": [
    {
     "name": "stdout",
     "output_type": "stream",
     "text": [
      "{'day': 'A period', 'position': 'mistaken at', 'misfortune': 'the kind of'}\n"
     ]
    }
   ],
   "source": [
    "acum_dict=dict(day=\"A period\",position=\"mistaken at\",misfortune=\"the kind of\")\n",
    "print(acum_dict)"
   ]
  },
  {
   "cell_type": "code",
   "execution_count": 26,
   "id": "f4aeec73-c0dc-49ce-af74-1e22dbcab9e2",
   "metadata": {},
   "outputs": [
    {
     "name": "stdout",
     "output_type": "stream",
     "text": [
      "[['a', 'b'], ['c', 'd']]\n",
      "{'a': 'b', 'c': 'd'}\n"
     ]
    }
   ],
   "source": [
    "lol=[[\"a\",\"b\"],[\"c\",\"d\"]]\n",
    "print(lol)\n",
    "print(dict(lol))"
   ]
  },
  {
   "cell_type": "code",
   "execution_count": 29,
   "id": "2518a535-21e1-427b-bd12-79f5e3423c35",
   "metadata": {},
   "outputs": [
    {
     "data": {
      "text/plain": [
       "[(2, 1),\n",
       " (2, 2),\n",
       " (2, 3),\n",
       " (2, 4),\n",
       " (2, 5),\n",
       " (2, 6),\n",
       " (2, 7),\n",
       " (2, 8),\n",
       " (3, 1),\n",
       " (3, 2),\n",
       " (3, 3),\n",
       " (3, 4),\n",
       " (3, 5),\n",
       " (3, 6),\n",
       " (3, 7),\n",
       " (3, 8),\n",
       " (4, 1),\n",
       " (4, 2),\n",
       " (4, 3),\n",
       " (4, 4),\n",
       " (4, 5),\n",
       " (4, 6),\n",
       " (4, 7),\n",
       " (4, 8),\n",
       " (5, 1),\n",
       " (5, 2),\n",
       " (5, 3),\n",
       " (5, 4),\n",
       " (5, 5),\n",
       " (5, 6),\n",
       " (5, 7),\n",
       " (5, 8),\n",
       " (6, 1),\n",
       " (6, 2),\n",
       " (6, 3),\n",
       " (6, 4),\n",
       " (6, 5),\n",
       " (6, 6),\n",
       " (6, 7),\n",
       " (6, 8),\n",
       " (7, 1),\n",
       " (7, 2),\n",
       " (7, 3),\n",
       " (7, 4),\n",
       " (7, 5),\n",
       " (7, 6),\n",
       " (7, 7),\n",
       " (7, 8),\n",
       " (8, 1),\n",
       " (8, 2),\n",
       " (8, 3),\n",
       " (8, 4),\n",
       " (8, 5),\n",
       " (8, 6),\n",
       " (8, 7),\n",
       " (8, 8)]"
      ]
     },
     "execution_count": 29,
     "metadata": {},
     "output_type": "execute_result"
    }
   ],
   "source": [
    "lot=[(n1,n2)for n1 in range(2,9) for n2 in range(1,9)]\n",
    "lot"
   ]
  },
  {
   "cell_type": "code",
   "execution_count": null,
   "id": "799cbfc5-add0-4a62-bbdd-6880b7bf534c",
   "metadata": {},
   "outputs": [],
   "source": []
  }
 ],
 "metadata": {
  "kernelspec": {
   "display_name": "Python 3 (ipykernel)",
   "language": "python",
   "name": "python3"
  },
  "language_info": {
   "codemirror_mode": {
    "name": "ipython",
    "version": 3
   },
   "file_extension": ".py",
   "mimetype": "text/x-python",
   "name": "python",
   "nbconvert_exporter": "python",
   "pygments_lexer": "ipython3",
   "version": "3.9.12"
  }
 },
 "nbformat": 4,
 "nbformat_minor": 5
}
