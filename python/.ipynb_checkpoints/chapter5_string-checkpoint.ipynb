{
 "cells": [
  {
   "cell_type": "code",
   "execution_count": 21,
   "id": "1e1f92d0-a06d-458c-a9df-b1b97bada3d7",
   "metadata": {},
   "outputs": [
    {
     "name": "stdout",
     "output_type": "stream",
     "text": [
      "        there was a young lady of norway,\n",
      "        who casally sat in a doorway;\n",
      "        whe the door sqeezed her flat,\n",
      "        she exclaimed, \"what of that?\"\n",
      "        this courageous young lady of norway.\n"
     ]
    }
   ],
   "source": [
    "pome=\"\"\"        there was a young lady of norway,\n",
    "        who casally sat in a doorway;\n",
    "        whe the door sqeezed her flat,\n",
    "        she exclaimed, \"what of that?\"\n",
    "        this courageous young lady of norway.\"\"\"\n",
    "print(pome)"
   ]
  },
  {
   "cell_type": "code",
   "execution_count": 28,
   "id": "cd6c78bd-e929-4ae4-ba92-0f79a4a28303",
   "metadata": {},
   "outputs": [
    {
     "name": "stdout",
     "output_type": "stream",
     "text": [
      "12\n",
      "3\n"
     ]
    }
   ],
   "source": [
    "a=str(1)\n",
    "b=str(2)\n",
    "print(a+b)\n",
    "a=1\n",
    "b=2\n",
    "print(a+b)"
   ]
  },
  {
   "cell_type": "code",
   "execution_count": 35,
   "id": "33409bde-322c-4d4c-9a27-917cf7b571ef",
   "metadata": {},
   "outputs": [
    {
     "name": "stdout",
     "output_type": "stream",
     "text": [
      "A man, \n",
      " plan\n"
     ]
    }
   ],
   "source": [
    "palindrome=\"A man, \\n plan\" #\\n 줄바꿈\n",
    "print(palindrome)"
   ]
  },
  {
   "cell_type": "code",
   "execution_count": 37,
   "id": "242b633d-d31f-4f39-903b-5c4278419d89",
   "metadata": {},
   "outputs": [
    {
     "name": "stdout",
     "output_type": "stream",
     "text": [
      "A man, \t plan\n"
     ]
    }
   ],
   "source": [
    "palindrome=\"A man, \\t plan\" #\\t 탭\n",
    "print(palindrome)"
   ]
  },
  {
   "cell_type": "code",
   "execution_count": 40,
   "id": "cf4c8c33-91b1-4b21-9ecb-8a705467b053",
   "metadata": {},
   "outputs": [
    {
     "name": "stdout",
     "output_type": "stream",
     "text": [
      "\"i did  it\"\n"
     ]
    }
   ],
   "source": [
    "test=\"\\\"i did  it\\\"\"\n",
    "print(test)"
   ]
  },
  {
   "cell_type": "code",
   "execution_count": 42,
   "id": "b2932877-e239-4bf2-9ea0-567ae2967a71",
   "metadata": {},
   "outputs": [
    {
     "data": {
      "text/plain": [
       "'hi world'"
      ]
     },
     "execution_count": 42,
     "metadata": {},
     "output_type": "execute_result"
    }
   ],
   "source": [
    "'hi '+'world'"
   ]
  },
  {
   "cell_type": "code",
   "execution_count": 49,
   "id": "807a7ae8-1fb2-41df-8c5d-c0d2fe8659b5",
   "metadata": {},
   "outputs": [
    {
     "data": {
      "text/plain": [
       "'hi world'"
      ]
     },
     "execution_count": 49,
     "metadata": {},
     "output_type": "execute_result"
    }
   ],
   "source": [
    "'hi ''world'"
   ]
  },
  {
   "cell_type": "code",
   "execution_count": 51,
   "id": "6810e2ce-7ee2-4721-ac18-979c70934ffb",
   "metadata": {},
   "outputs": [
    {
     "name": "stdout",
     "output_type": "stream",
     "text": [
      "aeiou\n"
     ]
    }
   ],
   "source": [
    "vowels=('a'\"e\"'''i''''o'\"\"\"u\"\"\")\n",
    "vowels\n"
   ]
  },
  {
   "cell_type": "code",
   "execution_count": 55,
   "id": "84a3271c-d593-4b55-98cb-28559557caa1",
   "metadata": {},
   "outputs": [
    {
     "data": {
      "text/plain": [
       "'duckduckgrey duck!'"
      ]
     },
     "execution_count": 55,
     "metadata": {},
     "output_type": "execute_result"
    }
   ],
   "source": [
    "a=\"duck\"\n",
    "b=a\n",
    "c=\"grey duck!\"\n",
    "a+b+c"
   ]
  },
  {
   "cell_type": "code",
   "execution_count": 58,
   "id": "e1959ccd-5857-4c57-b7a1-43a3ecf7886d",
   "metadata": {},
   "outputs": [
    {
     "name": "stdout",
     "output_type": "stream",
     "text": [
      "duck duck grey duck!\n"
     ]
    }
   ],
   "source": [
    "print(a,b,c)"
   ]
  },
  {
   "cell_type": "code",
   "execution_count": 59,
   "id": "6ef77a56-1a36-4aaa-b3ba-edc6431e7e97",
   "metadata": {},
   "outputs": [
    {
     "name": "stdout",
     "output_type": "stream",
     "text": [
      "NaNaNaNa\n",
      "heyheyhey\tgoodbyegoodbye\n"
     ]
    }
   ],
   "source": [
    "start=\"Na\"*4+\"\\n\"\n",
    "middle=\"hey\"*3+\"\\t\"\n",
    "end=\"goodbye\"*2\n",
    "print(start+middle+end)\n"
   ]
  },
  {
   "cell_type": "code",
   "execution_count": 80,
   "id": "beca6899-ba41-4105-ae5d-4fb3a914336f",
   "metadata": {},
   "outputs": [
    {
     "name": "stdout",
     "output_type": "stream",
     "text": [
      "e\n",
      "d\n",
      "helluwurld\n",
      "helloworld\n"
     ]
    },
    {
     "data": {
      "text/plain": [
       "'worl'"
      ]
     },
     "execution_count": 80,
     "metadata": {},
     "output_type": "execute_result"
    }
   ],
   "source": [
    "name='helloworld'\n",
    "print(name[1])\n",
    "print(name[-1] )#음수라면 맨뒤부터\n",
    "print(name.replace('o','u'))\n",
    "print(name)\n",
    "name[1:]\n",
    "name[1:5]\n",
    "name[-5:-1]"
   ]
  },
  {
   "cell_type": "code",
   "execution_count": 83,
   "id": "6609e243-b49c-4ed0-ac77-884dd23f78aa",
   "metadata": {},
   "outputs": [
    {
     "data": {
      "text/plain": [
       "'aku'"
      ]
     },
     "execution_count": 83,
     "metadata": {},
     "output_type": "execute_result"
    }
   ],
   "source": [
    "letter='abcdefghijklmnopqrstuvwxyz'\n",
    "letter[::3]#3의 배수\n",
    "letter[::10]"
   ]
  },
  {
   "cell_type": "code",
   "execution_count": 84,
   "id": "4b440d5d-f356-4854-bac4-23966bd3d33b",
   "metadata": {},
   "outputs": [
    {
     "data": {
      "text/plain": [
       "26"
      ]
     },
     "execution_count": 84,
     "metadata": {},
     "output_type": "execute_result"
    }
   ],
   "source": [
    "len(letter)"
   ]
  },
  {
   "cell_type": "code",
   "execution_count": 89,
   "id": "58339d61-71e2-4269-acc1-290c19633b55",
   "metadata": {},
   "outputs": [
    {
     "data": {
      "text/plain": [
       "['get gloves', 'get mask', 'give cat']"
      ]
     },
     "execution_count": 89,
     "metadata": {},
     "output_type": "execute_result"
    }
   ],
   "source": [
    "tasks=\"get gloves,get mask,give cat\"\n",
    "tasks.split(\",\") #listing 기본형은 줄바꿈 스페이스 탭\n"
   ]
  },
  {
   "cell_type": "code",
   "execution_count": 96,
   "id": "d0775cff-6cb5-4377-a2c4-f92d33aa28ce",
   "metadata": {},
   "outputs": [
    {
     "name": "stdout",
     "output_type": "stream",
     "text": [
      "['Yeti', 'Bigfoot', 'Nunu']\n",
      "Yeti,Bigfoot,Nunu\n"
     ]
    }
   ],
   "source": [
    "#join()-문자열 결합\n",
    "cypto_list=[\"Yeti\",\"Bigfoot\",\"Nunu\"]\n",
    "print(cypto_list)\n",
    "cypto_string=','.join(cypto_list)\n",
    "print(cypto_string)"
   ]
  },
  {
   "cell_type": "code",
   "execution_count": 100,
   "id": "408078ea-8904-4a09-a39e-27a0f847a42f",
   "metadata": {},
   "outputs": [
    {
     "name": "stdout",
     "output_type": "stream",
     "text": [
      "a marmoset goes into a bar...\n",
      "a famous duck goes into a bar...\n"
     ]
    }
   ],
   "source": [
    "setup=\"a duck goes into a bar...\"\n",
    "print(setup.replace(\"duck\",\"marmoset\"))\n",
    "print(setup.replace(\"a\",\"a famous\",1))"
   ]
  },
  {
   "cell_type": "code",
   "execution_count": 109,
   "id": "655b2dca-1604-43f7-9535-e182b5be9c56",
   "metadata": {},
   "outputs": [
    {
     "name": "stdout",
     "output_type": "stream",
     "text": [
      "    earth     \n",
      "earth\n",
      "    earth\n",
      "earth     \n",
      "    earth     \n"
     ]
    }
   ],
   "source": [
    "#strip() 양쪽 공백 제거 매게변수가 없다면 스페이스 있다면 지우고 싶은문자\n",
    "world=\"    earth.!?     \"\n",
    "print(world)\n",
    "print(world.strip())\n",
    "print(world.rstrip())\n",
    "print(world.lstrip())\n",
    "print(world.strip('.!?'))"
   ]
  },
  {
   "cell_type": "code",
   "execution_count": null,
   "id": "28480647-4d41-4f88-ad7e-1031c674e3d8",
   "metadata": {},
   "outputs": [],
   "source": []
  }
 ],
 "metadata": {
  "kernelspec": {
   "display_name": "Python 3 (ipykernel)",
   "language": "python",
   "name": "python3"
  },
  "language_info": {
   "codemirror_mode": {
    "name": "ipython",
    "version": 3
   },
   "file_extension": ".py",
   "mimetype": "text/x-python",
   "name": "python",
   "nbconvert_exporter": "python",
   "pygments_lexer": "ipython3",
   "version": "3.9.12"
  }
 },
 "nbformat": 4,
 "nbformat_minor": 5
}
