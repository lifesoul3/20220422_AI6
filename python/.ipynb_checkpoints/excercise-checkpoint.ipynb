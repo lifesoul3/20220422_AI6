{
 "cells": [
  {
   "cell_type": "code",
   "execution_count": null,
   "id": "b110ba11-101f-4929-a71b-19f3b92fb837",
   "metadata": {},
   "outputs": [],
   "source": [
    "from random import choice\n",
    "places=['Mcdonald','KFC','BurgerKing']\n",
    "def pick():\n",
    "    return choice(places)\n"
   ]
  }
 ],
 "metadata": {
  "kernelspec": {
   "display_name": "Python 3 (ipykernel)",
   "language": "python",
   "name": "python3"
  },
  "language_info": {
   "codemirror_mode": {
    "name": "ipython",
    "version": 3
   },
   "file_extension": ".py",
   "mimetype": "text/x-python",
   "name": "python",
   "nbconvert_exporter": "python",
   "pygments_lexer": "ipython3",
   "version": "3.9.12"
  }
 },
 "nbformat": 4,
 "nbformat_minor": 5
}
