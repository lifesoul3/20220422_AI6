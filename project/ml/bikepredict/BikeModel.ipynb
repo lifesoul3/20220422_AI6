{
 "cells": [
  {
   "cell_type": "code",
   "execution_count": 1,
   "id": "af759e03-f4e6-42f9-a783-ec6908c006cf",
   "metadata": {},
   "outputs": [],
   "source": [
    "import pandas as pd\n",
    "import numpy as np"
   ]
  },
  {
   "cell_type": "code",
   "execution_count": 2,
   "id": "8d7ebebe-8f31-40f9-bd98-389888a6a2bc",
   "metadata": {},
   "outputs": [
    {
     "data": {
      "text/plain": [
       "(10886, 12)"
      ]
     },
     "execution_count": 2,
     "metadata": {},
     "output_type": "execute_result"
    }
   ],
   "source": [
    "train = pd.read_csv(\"data/train.csv\", parse_dates=[\"datetime\"])\n",
    "train.shape"
   ]
  },
  {
   "cell_type": "code",
   "execution_count": 3,
   "id": "03034380-13f9-4aa9-a2be-41da39910842",
   "metadata": {},
   "outputs": [],
   "source": [
    "train[\"year\"] = train[\"datetime\"].dt.year\n",
    "train[\"month\"] = train[\"datetime\"].dt.month\n",
    "train[\"hour\"] = train[\"datetime\"].dt.hour\n",
    "train[\"dayofweek\"] = train[\"datetime\"].dt.dayofweek"
   ]
  },
  {
   "cell_type": "code",
   "execution_count": 4,
   "id": "a7b4a4ed-ad95-4335-95ea-61acfe667459",
   "metadata": {},
   "outputs": [
    {
     "name": "stdout",
     "output_type": "stream",
     "text": [
      "<class 'pandas.core.frame.DataFrame'>\n",
      "RangeIndex: 10886 entries, 0 to 10885\n",
      "Data columns (total 16 columns):\n",
      " #   Column      Non-Null Count  Dtype         \n",
      "---  ------      --------------  -----         \n",
      " 0   datetime    10886 non-null  datetime64[ns]\n",
      " 1   season      10886 non-null  int64         \n",
      " 2   holiday     10886 non-null  int64         \n",
      " 3   workingday  10886 non-null  int64         \n",
      " 4   weather     10886 non-null  int64         \n",
      " 5   temp        10886 non-null  float64       \n",
      " 6   atemp       10886 non-null  float64       \n",
      " 7   humidity    10886 non-null  int64         \n",
      " 8   windspeed   10886 non-null  float64       \n",
      " 9   casual      10886 non-null  int64         \n",
      " 10  registered  10886 non-null  int64         \n",
      " 11  count       10886 non-null  int64         \n",
      " 12  year        10886 non-null  int64         \n",
      " 13  month       10886 non-null  int64         \n",
      " 14  hour        10886 non-null  int64         \n",
      " 15  dayofweek   10886 non-null  int64         \n",
      "dtypes: datetime64[ns](1), float64(3), int64(12)\n",
      "memory usage: 1.3 MB\n"
     ]
    }
   ],
   "source": [
    "train.info()"
   ]
  },
  {
   "cell_type": "code",
   "execution_count": 5,
   "id": "e0654cc0-c08f-4d35-8d50-760ec6409fa9",
   "metadata": {},
   "outputs": [
    {
     "name": "stdout",
     "output_type": "stream",
     "text": [
      "<class 'pandas.core.frame.DataFrame'>\n",
      "RangeIndex: 10886 entries, 0 to 10885\n",
      "Data columns (total 10 columns):\n",
      " #   Column      Non-Null Count  Dtype  \n",
      "---  ------      --------------  -----  \n",
      " 0   season      10886 non-null  int64  \n",
      " 1   weather     10886 non-null  int64  \n",
      " 2   temp        10886 non-null  float64\n",
      " 3   atemp       10886 non-null  float64\n",
      " 4   humidity    10886 non-null  int64  \n",
      " 5   year        10886 non-null  int64  \n",
      " 6   hour        10886 non-null  int64  \n",
      " 7   dayofweek   10886 non-null  int64  \n",
      " 8   holiday     10886 non-null  int64  \n",
      " 9   workingday  10886 non-null  int64  \n",
      "dtypes: float64(2), int64(8)\n",
      "memory usage: 850.6 KB\n"
     ]
    }
   ],
   "source": [
    "# 연속형 feature와 범주형 feature\n",
    "# 범주형 feature의 type을 category로 변경 해 준다.\n",
    "feature_names = [\"season\", \"weather\", \"temp\", \"atemp\", \"humidity\",\n",
    "                 \"year\", \"hour\", \"dayofweek\", \"holiday\", \"workingday\"]\n",
    "label_name = \"count\"\n",
    "X_train = train[feature_names]\n",
    "Y_train = train[label_name]\n",
    "X_train.info()"
   ]
  },
  {
   "cell_type": "code",
   "execution_count": 6,
   "id": "5ca94ece-a780-4cf9-a34e-1b88bd69d2d0",
   "metadata": {},
   "outputs": [
    {
     "name": "stderr",
     "output_type": "stream",
     "text": [
      "[Parallel(n_jobs=1)]: Using backend SequentialBackend with 1 concurrent workers.\n",
      "[Parallel(n_jobs=1)]: Done 200 out of 200 | elapsed:    3.4s finished\n",
      "[Parallel(n_jobs=1)]: Using backend SequentialBackend with 1 concurrent workers.\n",
      "[Parallel(n_jobs=1)]: Done 200 out of 200 | elapsed:    0.2s finished\n"
     ]
    },
    {
     "data": {
      "text/plain": [
       "99.36"
      ]
     },
     "execution_count": 6,
     "metadata": {},
     "output_type": "execute_result"
    }
   ],
   "source": [
    "from sklearn.ensemble import RandomForestRegressor\n",
    "clf = RandomForestRegressor(n_estimators=200,verbose=1)\n",
    "Y_train_log = np.log1p(Y_train)\n",
    "clf.fit(X_train, Y_train_log)\n",
    "clf_score=round(clf.score(X_train,Y_train_log)*100,2)\n",
    "clf_score"
   ]
  },
  {
   "cell_type": "code",
   "execution_count": 7,
   "id": "09f0aa84-ec2e-4afb-ab52-ec0bf8ff731d",
   "metadata": {},
   "outputs": [
    {
     "data": {
      "text/plain": [
       "['BikeModel.pkl']"
      ]
     },
     "execution_count": 7,
     "metadata": {},
     "output_type": "execute_result"
    }
   ],
   "source": [
    "import sklearn.externals\n",
    "import joblib\n",
    "joblib.dump(clf, 'BikeModel.pkl')"
   ]
  },
  {
   "cell_type": "code",
   "execution_count": null,
   "id": "3ba29ddc-80bf-46cc-90c7-aab5860b4631",
   "metadata": {},
   "outputs": [],
   "source": []
  }
 ],
 "metadata": {
  "kernelspec": {
   "display_name": "Python 3 (ipykernel)",
   "language": "python",
   "name": "python3"
  },
  "language_info": {
   "codemirror_mode": {
    "name": "ipython",
    "version": 3
   },
   "file_extension": ".py",
   "mimetype": "text/x-python",
   "name": "python",
   "nbconvert_exporter": "python",
   "pygments_lexer": "ipython3",
   "version": "3.9.12"
  }
 },
 "nbformat": 4,
 "nbformat_minor": 5
}
