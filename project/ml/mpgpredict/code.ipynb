{
 "cells": [
  {
   "cell_type": "code",
   "execution_count": 1,
   "id": "3ab88bf6-25d8-4b16-bc0a-10606c3f0534",
   "metadata": {},
   "outputs": [],
   "source": [
    "#n=5\tinfo=[2,1,1,1,0,0,0,0,0,0,0]\tanswer [0,2,2,0,1,0,0,0,0,0,0]\n",
    "# info=[6.6,4.5,4,3.5,6,5,4,3,2,1]\n",
    "# infos=[[10,2,6.6][9][8][7][6][5][4][3][2][1][0]]\n",
    "\n",
    "# 더 많이 맞춘사람만 점수를 얻을수있다"
   ]
  },
  {
   "cell_type": "code",
   "execution_count": 107,
   "id": "58f62b45-d701-4856-b217-417215f9a274",
   "metadata": {},
   "outputs": [],
   "source": [
    "n=1"
   ]
  },
  {
   "cell_type": "code",
   "execution_count": 108,
   "id": "a7545bb1-061e-40d3-ab9f-13b01399d1c6",
   "metadata": {},
   "outputs": [],
   "source": [
    "info=[1,0,0,0,0,0,0,0,0,0,0]\t\n",
    "info.reverse()"
   ]
  },
  {
   "cell_type": "code",
   "execution_count": 109,
   "id": "272098a0-a5e1-4255-b016-7aa479326cca",
   "metadata": {},
   "outputs": [
    {
     "data": {
      "text/plain": [
       "[[10.0, 2, 10],\n",
       " [9.0, 1, 9],\n",
       " [8.0, 1, 8],\n",
       " [7.0, 1, 7],\n",
       " [6.0, 1, 6],\n",
       " [5.0, 1, 5],\n",
       " [4.0, 1, 4],\n",
       " [3.0, 1, 3],\n",
       " [2.0, 1, 2],\n",
       " [1.0, 1, 1],\n",
       " [0.0, 1, 0]]"
      ]
     },
     "execution_count": 109,
     "metadata": {},
     "output_type": "execute_result"
    }
   ],
   "source": [
    "## 1번 과녁 2번 필요n 3번 perscore\n",
    "#infos=((10,3,6.6),(9,2,9).....)\n",
    "infos=[]\n",
    "data=[0,0,0]\n",
    "for i in range(len(info)):\n",
    "    data[2]=i\n",
    "    data[1]=info[i]+1\n",
    "    if info[i]>0:\n",
    "        data[0]=data[2]/data[1]*2\n",
    "    if info[i]==0:\n",
    "        data[0]=data[2]/data[1]\n",
    "    infos.append(data)\n",
    "    data=[0,0,0]\n",
    "infos.sort(reverse=True)\n",
    "infos"
   ]
  },
  {
   "cell_type": "code",
   "execution_count": 110,
   "id": "ffba0efd-34c9-44b1-89f0-d5f2a2f2a9b3",
   "metadata": {},
   "outputs": [],
   "source": [
    "k=[]\n",
    "score=0\n",
    "for i in infos:\n",
    "    n=n-i[1]\n",
    "    if n<0:\n",
    "        n=n+i[1]\n",
    "    else:\n",
    "        k.append(i[2])\n",
    "        score=score+(i[0]*i[1])"
   ]
  },
  {
   "cell_type": "code",
   "execution_count": 111,
   "id": "160e3acf-2390-452c-96c4-46e70efc2a9a",
   "metadata": {},
   "outputs": [
    {
     "data": {
      "text/plain": [
       "[9]"
      ]
     },
     "execution_count": 111,
     "metadata": {},
     "output_type": "execute_result"
    }
   ],
   "source": [
    "k"
   ]
  },
  {
   "cell_type": "code",
   "execution_count": 112,
   "id": "43371dae-72fe-4174-8f33-db81b7fe7782",
   "metadata": {},
   "outputs": [
    {
     "data": {
      "text/plain": [
       "9.0"
      ]
     },
     "execution_count": 112,
     "metadata": {},
     "output_type": "execute_result"
    }
   ],
   "source": [
    "score"
   ]
  },
  {
   "cell_type": "code",
   "execution_count": null,
   "id": "f5633803-1f09-48fe-a143-bd4a75813ea8",
   "metadata": {},
   "outputs": [],
   "source": []
  },
  {
   "cell_type": "code",
   "execution_count": null,
   "id": "f0d3d101-83bd-452e-ae20-5fdb122e0e76",
   "metadata": {},
   "outputs": [],
   "source": []
  }
 ],
 "metadata": {
  "kernelspec": {
   "display_name": "Python 3 (ipykernel)",
   "language": "python",
   "name": "python3"
  },
  "language_info": {
   "codemirror_mode": {
    "name": "ipython",
    "version": 3
   },
   "file_extension": ".py",
   "mimetype": "text/x-python",
   "name": "python",
   "nbconvert_exporter": "python",
   "pygments_lexer": "ipython3",
   "version": "3.9.12"
  }
 },
 "nbformat": 4,
 "nbformat_minor": 5
}
