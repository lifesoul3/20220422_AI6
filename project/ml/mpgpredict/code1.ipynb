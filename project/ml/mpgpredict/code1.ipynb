{
 "cells": [
  {
   "cell_type": "code",
   "execution_count": 26,
   "id": "52f2bc1a-e80f-4258-b489-53e2e562f1b7",
   "metadata": {},
   "outputs": [],
   "source": [
    "#[5,1,3,7]\tb=[2,2,6,8] \t3\n",
    "a=[5,1,3,7]\n",
    "b=[2,2,6,8]\n",
    "\n",
    "b.sort()\n",
    "a.sort()"
   ]
  },
  {
   "cell_type": "code",
   "execution_count": 27,
   "id": "5e8a9392-4ef0-4c20-87a5-27007d3a4719",
   "metadata": {},
   "outputs": [
    {
     "data": {
      "text/plain": [
       "[1, 3, 5, 7]"
      ]
     },
     "execution_count": 27,
     "metadata": {},
     "output_type": "execute_result"
    }
   ],
   "source": [
    "a"
   ]
  },
  {
   "cell_type": "code",
   "execution_count": 28,
   "id": "403d8743-c2ca-40c7-acf1-8bcb18e5cbfd",
   "metadata": {},
   "outputs": [
    {
     "data": {
      "text/plain": [
       "[2, 2, 6, 8]"
      ]
     },
     "execution_count": 28,
     "metadata": {},
     "output_type": "execute_result"
    }
   ],
   "source": [
    "b"
   ]
  },
  {
   "cell_type": "code",
   "execution_count": 29,
   "id": "796587b2-4e2b-4153-b36a-4e61e6db0f2a",
   "metadata": {},
   "outputs": [],
   "source": [
    "a1=max(a)\n",
    "b1=max(b)"
   ]
  },
  {
   "cell_type": "code",
   "execution_count": 30,
   "id": "ac93357d-d9a5-40a4-a5fe-7e8efc2e7cce",
   "metadata": {},
   "outputs": [],
   "source": [
    "if b1>a1:\n",
    "    a.pop(0)\n",
    "    b.pop(len(b)-1)\n"
   ]
  },
  {
   "cell_type": "code",
   "execution_count": 31,
   "id": "3d12f17b-c093-4629-b87c-c442c0972478",
   "metadata": {},
   "outputs": [
    {
     "data": {
      "text/plain": [
       "[3, 5, 7]"
      ]
     },
     "execution_count": 31,
     "metadata": {},
     "output_type": "execute_result"
    }
   ],
   "source": [
    "a\n"
   ]
  },
  {
   "cell_type": "code",
   "execution_count": 25,
   "id": "8a589d56-86a2-446a-b0e0-1caa3a33ed95",
   "metadata": {},
   "outputs": [
    {
     "data": {
      "text/plain": [
       "[2, 2, 6]"
      ]
     },
     "execution_count": 25,
     "metadata": {},
     "output_type": "execute_result"
    }
   ],
   "source": [
    "#[1,5,5,5,5,5]\n",
    "#[2,4,4,4,4,5]\n"
   ]
  },
  {
   "cell_type": "code",
   "execution_count": 59,
   "id": "e91ca7b3-4c4a-434c-aba3-0e2cfd9cd792",
   "metadata": {},
   "outputs": [],
   "source": [
    "a=[2,2,2,2]\t\n",
    "b=[1,1,1,1]\t#0\n",
    "#b=[2,2,6,8]\n",
    "#a=[5,1,3,7] #3\n",
    "a.sort()\n",
    "b.sort()\n",
    "\n",
    "while True:\n",
    "    a1=max(a)\n",
    "    b1=max(b)\n",
    "    if b1>a1:\n",
    "        a.pop(0)\n",
    "        b.pop(len(b)-1)\n",
    "    else:\n",
    "        break\n",
    "    if len(a)==0:\n",
    "        break\n",
    "while True:\n",
    "    if len(a)==0:\n",
    "        break\n",
    "    a2=min(a)\n",
    "    b2=min(b)\n",
    "    if b2<=a2:\n",
    "        a.pop(0)\n",
    "        b.pop(len(b)-1)\n",
    "    else:\n",
    "        break\n"
   ]
  },
  {
   "cell_type": "code",
   "execution_count": 60,
   "id": "6a7048e6-b0de-47b2-a819-1615cf9bb2ed",
   "metadata": {},
   "outputs": [
    {
     "data": {
      "text/plain": [
       "4"
      ]
     },
     "execution_count": 60,
     "metadata": {},
     "output_type": "execute_result"
    }
   ],
   "source": [
    "len(a)"
   ]
  },
  {
   "cell_type": "code",
   "execution_count": 72,
   "id": "5b866722-6ae0-42dd-8a68-4d46ed868648",
   "metadata": {},
   "outputs": [],
   "source": [
    "#2개의 수를 더하여 5 가나오는 경우의 수를 구하고 그에 맞는 리스트를 작성하시오\n",
    "#n=1이상의 자연수\n",
    "n=5\n",
    "al=[]\n",
    "for i in range(5-1):\n",
    "    \n",
    "    for j in range(5-1):\n",
    "        if (i+1)+(j+1)==5:\n",
    "            al.append([i+1,j+1])\n",
    "            "
   ]
  },
  {
   "cell_type": "code",
   "execution_count": 73,
   "id": "09577675-88fb-4618-8557-59e3247cacba",
   "metadata": {},
   "outputs": [
    {
     "data": {
      "text/plain": [
       "[[1, 4], [2, 3], [3, 2], [4, 1]]"
      ]
     },
     "execution_count": 73,
     "metadata": {},
     "output_type": "execute_result"
    }
   ],
   "source": [
    "al"
   ]
  },
  {
   "cell_type": "code",
   "execution_count": 81,
   "id": "222031a1-7855-456c-b44a-3c75d5179973",
   "metadata": {},
   "outputs": [],
   "source": [
    "#\"-1 -2 -3 -4\"\t\"-4 -1\"\n",
    "a=\"-1 -2 -3 -4\"\n",
    "k=list(a)"
   ]
  },
  {
   "cell_type": "code",
   "execution_count": 88,
   "id": "f0b2ca1b-4739-4a2e-8eff-a31cf18db09e",
   "metadata": {},
   "outputs": [
    {
     "ename": "ValueError",
     "evalue": "list.remove(x): x not in list",
     "output_type": "error",
     "traceback": [
      "\u001b[1;31m---------------------------------------------------------------------------\u001b[0m",
      "\u001b[1;31mValueError\u001b[0m                                Traceback (most recent call last)",
      "Input \u001b[1;32mIn [88]\u001b[0m, in \u001b[0;36m<cell line: 1>\u001b[1;34m()\u001b[0m\n\u001b[1;32m----> 1\u001b[0m \u001b[43mk\u001b[49m\u001b[38;5;241;43m.\u001b[39;49m\u001b[43mremove\u001b[49m\u001b[43m(\u001b[49m\u001b[38;5;124;43m'\u001b[39;49m\u001b[38;5;124;43m \u001b[39;49m\u001b[38;5;124;43m'\u001b[39;49m\u001b[43m)\u001b[49m\n",
      "\u001b[1;31mValueError\u001b[0m: list.remove(x): x not in list"
     ]
    }
   ],
   "source": []
  },
  {
   "cell_type": "code",
   "execution_count": 89,
   "id": "d1285f7c-3f54-49fc-8561-f8352d07baea",
   "metadata": {},
   "outputs": [
    {
     "data": {
      "text/plain": [
       "['-', '1', '-', '2', '-', '3', '-', '4']"
      ]
     },
     "execution_count": 89,
     "metadata": {},
     "output_type": "execute_result"
    }
   ],
   "source": [
    "for i in range()"
   ]
  },
  {
   "cell_type": "code",
   "execution_count": 90,
   "id": "aa79aa3f-918e-46f1-8525-14d69b4ce797",
   "metadata": {},
   "outputs": [],
   "source": [
    "u=[-4,-1]"
   ]
  },
  {
   "cell_type": "code",
   "execution_count": 93,
   "id": "124f20ea-3d76-4bcf-a9ef-746156692f5f",
   "metadata": {},
   "outputs": [
    {
     "data": {
      "text/plain": [
       "'-4 -1 '"
      ]
     },
     "execution_count": 93,
     "metadata": {},
     "output_type": "execute_result"
    }
   ],
   "source": [
    "answer=''\n",
    "for i in u:\n",
    "    answer+=str(i)\n",
    "    answer+=' '\n",
    "answer"
   ]
  },
  {
   "cell_type": "code",
   "execution_count": 97,
   "id": "92236ae8-8cf4-49a7-abcb-dbc9f6c29e76",
   "metadata": {},
   "outputs": [
    {
     "data": {
      "text/plain": [
       "'김서방은 3에 있다'"
      ]
     },
     "execution_count": 97,
     "metadata": {},
     "output_type": "execute_result"
    }
   ],
   "source": [
    "count=3\n",
    "answer='김서방은 '+str(count)+'에 있다'\n",
    "answer"
   ]
  },
  {
   "cell_type": "code",
   "execution_count": 98,
   "id": "10f89dbb-254a-42e5-9dec-1367663a911e",
   "metadata": {},
   "outputs": [],
   "source": [
    "a=\"Zbcdefg\"\n",
    "a=list(a)"
   ]
  },
  {
   "cell_type": "code",
   "execution_count": 102,
   "id": "28929f7c-0cf1-4095-8977-e1002b3c274b",
   "metadata": {},
   "outputs": [],
   "source": [
    "a.sort(reverse=True)"
   ]
  },
  {
   "cell_type": "code",
   "execution_count": 103,
   "id": "345eef04-fdb4-446b-85e5-012a7691bc05",
   "metadata": {},
   "outputs": [
    {
     "data": {
      "text/plain": [
       "['g', 'f', 'e', 'd', 'c', 'b', 'Z']"
      ]
     },
     "execution_count": 103,
     "metadata": {},
     "output_type": "execute_result"
    }
   ],
   "source": [
    "a"
   ]
  },
  {
   "cell_type": "code",
   "execution_count": 105,
   "id": "c5fee14b-d683-45a4-91b7-2cd2d2930e86",
   "metadata": {},
   "outputs": [
    {
     "name": "stdout",
     "output_type": "stream",
     "text": [
      "0\n",
      "0\n",
      "1\n",
      "1\n"
     ]
    }
   ],
   "source": [
    "#arr1[[1,2],[2,3]]\tarr2[[3,4],[5,6]]\t[[4,6],[7,9]]\n",
    "arr1=[[1,2],[2,3]]\n",
    "arr2=[[3,4],[5,6]]\n",
    "arr3=[]\n",
    "data=[]\n",
    "    \n",
    "for i in range(len(arr1)):\n",
    "    for j in range(len(arr1[0])):\n",
    "        "
   ]
  },
  {
   "cell_type": "code",
   "execution_count": 123,
   "id": "d61dd067-5887-466d-9d32-2f7245b76ef0",
   "metadata": {},
   "outputs": [],
   "source": [
    "#3\t12\t[3, 12]\n",
    "a=3\n",
    "b=12\n",
    "#최소 공약수 최대 공배수\n",
    "count=1\n",
    "lista=[]\n",
    "while True:\n",
    "    if a%count==0:\n",
    "        lista.append(count)\n",
    "        a=int(a/count)\n",
    "        count=1\n",
    "    count+=1\n",
    "    if count>a:\n",
    "        break\n",
    "\n",
    "count=1\n",
    "listb=[]\n",
    "while True:\n",
    "    if b%count==0:\n",
    "        listb.append(count)\n",
    "        b=int(b/count)\n",
    "        count=1\n",
    "    count+=1\n",
    "    if count>b:\n",
    "        break\n"
   ]
  },
  {
   "cell_type": "code",
   "execution_count": 124,
   "id": "0a3c2b52-ca10-4c0e-957d-c9499bf1257f",
   "metadata": {},
   "outputs": [],
   "source": [
    "lista=[2,3]"
   ]
  },
  {
   "cell_type": "code",
   "execution_count": 125,
   "id": "5df9d1cf-e0bf-4728-a28c-23473410cdbe",
   "metadata": {},
   "outputs": [
    {
     "data": {
      "text/plain": [
       "[1, 2, 2, 3]"
      ]
     },
     "execution_count": 125,
     "metadata": {},
     "output_type": "execute_result"
    }
   ],
   "source": [
    "listb"
   ]
  },
  {
   "cell_type": "code",
   "execution_count": 126,
   "id": "54c1636d-7bec-4a55-ae56-03b708485754",
   "metadata": {},
   "outputs": [
    {
     "name": "stdout",
     "output_type": "stream",
     "text": [
      "2\n",
      "1\n",
      "2\n",
      "2\n",
      "2\n",
      "3\n"
     ]
    }
   ],
   "source": [
    "least=[]\n",
    "maximum=[]\n",
    "for i in lista:\n",
    "    for j in listb:\n",
    "        print(i)\n",
    "        print(j)\n",
    "        if i==j:\n",
    "            least.append(i)\n",
    "            lista.remove(i)\n",
    "            listb.remove(j)"
   ]
  },
  {
   "cell_type": "code",
   "execution_count": 127,
   "id": "31e21828-64ed-4466-a617-1e9afc49c7cd",
   "metadata": {},
   "outputs": [
    {
     "data": {
      "text/plain": [
       "[2]"
      ]
     },
     "execution_count": 127,
     "metadata": {},
     "output_type": "execute_result"
    }
   ],
   "source": [
    "least"
   ]
  },
  {
   "cell_type": "code",
   "execution_count": 128,
   "id": "c3376c2b-739f-48ac-b1ac-cab38792c90a",
   "metadata": {},
   "outputs": [
    {
     "data": {
      "text/plain": [
       "[3]"
      ]
     },
     "execution_count": 128,
     "metadata": {},
     "output_type": "execute_result"
    }
   ],
   "source": [
    "lista"
   ]
  },
  {
   "cell_type": "code",
   "execution_count": 129,
   "id": "2ed8624b-1521-4abb-98db-35c45f0d6a6e",
   "metadata": {},
   "outputs": [
    {
     "data": {
      "text/plain": [
       "[1, 2, 3]"
      ]
     },
     "execution_count": 129,
     "metadata": {},
     "output_type": "execute_result"
    }
   ],
   "source": [
    "listb"
   ]
  },
  {
   "cell_type": "code",
   "execution_count": 106,
   "id": "35d79a77-173f-41ea-afb0-9302740dc0b6",
   "metadata": {},
   "outputs": [
    {
     "data": {
      "text/plain": [
       "'100000000000000000000'"
      ]
     },
     "execution_count": 106,
     "metadata": {},
     "output_type": "execute_result"
    }
   ],
   "source": [
    "#\"5525\"\t\"1255\"\t\"552\"\n",
    "X=\"000000000000000100000\";\n",
    "Y=\"0000000000000001111111111111100000\";\n",
    "# answer=\"552\"\n",
    "def lists(a):\n",
    "    lists=[]\n",
    "    for i in a:\n",
    "        lists.append(i)\n",
    "    return lists\n",
    "x=lists(X)\n",
    "y=lists(Y)\n",
    "target=[]\n",
    "for i in x[::-1]:\n",
    "    for j in y[::-1]:\n",
    "        if (len(x)==0)|(len(y)==0):\n",
    "            break\n",
    "        if i==j:\n",
    "            target.append(int(i))\n",
    "            x.remove(i)\n",
    "            y.remove(j)\n",
    "           \n",
    "        \n",
    "target.sort(reverse=True)\n",
    "answer=0\n",
    "if len(target)==0:\n",
    "    answer='-1'\n",
    "else:\n",
    "    for i in target:\n",
    "        answer=answer*10\n",
    "        answer=answer+i\n",
    "\n",
    "str(answer)"
   ]
  },
  {
   "cell_type": "code",
   "execution_count": null,
   "id": "0f9b14f5-0056-49de-b1d0-a2e13365cf7e",
   "metadata": {},
   "outputs": [],
   "source": []
  },
  {
   "cell_type": "code",
   "execution_count": null,
   "id": "bfe4aa37-fd0d-4111-8e8b-fe2b29b2bc31",
   "metadata": {},
   "outputs": [],
   "source": [
    "#\"try hello world\"\t\"TrY HeLlO WoRlD\""
   ]
  },
  {
   "cell_type": "code",
   "execution_count": 126,
   "id": "cc29f2ac-c44e-4cca-a336-ec2952afdaca",
   "metadata": {},
   "outputs": [
    {
     "data": {
      "text/plain": [
       "'TrY HeLlO WoRlD'"
      ]
     },
     "execution_count": 126,
     "metadata": {},
     "output_type": "execute_result"
    }
   ],
   "source": [
    "s=\"try hello world\"\n",
    "#s.upper()\n",
    "s=list(s)\n",
    "count=0\n",
    "k=[]\n",
    "for i in s:\n",
    "    if i!=' ':\n",
    "        if count%2==0:\n",
    "            k.append(i.upper())\n",
    "        else:\n",
    "            k.append(i)\n",
    "        count+=1\n",
    "    else:\n",
    "        k.append(i)\n",
    "        count=0\n",
    "answer=''\n",
    "for i in k:\n",
    "    answer+=i\n",
    "answer"
   ]
  },
  {
   "cell_type": "code",
   "execution_count": 127,
   "id": "965127f4-2be0-4d6f-bae5-1c603d17400b",
   "metadata": {},
   "outputs": [],
   "source": [
    "#[5,1,3,7]\t[2,2,6,8]\t3"
   ]
  },
  {
   "cell_type": "code",
   "execution_count": 119,
   "id": "d98a95c3-ee1c-407e-ac3c-afbbd9836faf",
   "metadata": {},
   "outputs": [],
   "source": [
    "a=[5,1,3,7]"
   ]
  },
  {
   "cell_type": "code",
   "execution_count": 120,
   "id": "7c9eec68-a5c5-47f8-b8fb-6d70fff4b60a",
   "metadata": {},
   "outputs": [
    {
     "data": {
      "text/plain": [
       "['t', 'r', 'y', ' ', 'h', 'e', 'l', 'l', 'o', ' ', 'w', 'o', 'r', 'l', 'd']"
      ]
     },
     "execution_count": 120,
     "metadata": {},
     "output_type": "execute_result"
    }
   ],
   "source": [
    "s"
   ]
  },
  {
   "cell_type": "code",
   "execution_count": null,
   "id": "10949733-2e62-482d-ab41-a35c4ef0a9bd",
   "metadata": {},
   "outputs": [],
   "source": []
  }
 ],
 "metadata": {
  "kernelspec": {
   "display_name": "Python 3 (ipykernel)",
   "language": "python",
   "name": "python3"
  },
  "language_info": {
   "codemirror_mode": {
    "name": "ipython",
    "version": 3
   },
   "file_extension": ".py",
   "mimetype": "text/x-python",
   "name": "python",
   "nbconvert_exporter": "python",
   "pygments_lexer": "ipython3",
   "version": "3.9.12"
  }
 },
 "nbformat": 4,
 "nbformat_minor": 5
}
